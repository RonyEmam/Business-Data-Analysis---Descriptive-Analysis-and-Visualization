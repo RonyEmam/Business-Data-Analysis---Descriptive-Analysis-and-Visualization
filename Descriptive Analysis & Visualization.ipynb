{
  "nbformat": 4,
  "nbformat_minor": 0,
  "metadata": {
    "colab": {
      "name": "Homework_1.ipynb",
      "provenance": [],
      "collapsed_sections": [
        "wqOWh3hrgyEk",
        "sDL-xKNugyFN",
        "zA0tQqQ-gyFu",
        "apsnb8pugyGJ"
      ]
    },
    "kernelspec": {
      "display_name": "Python 3",
      "language": "python",
      "name": "python3"
    },
    "language_info": {
      "codemirror_mode": {
        "name": "ipython",
        "version": 3
      },
      "file_extension": ".py",
      "mimetype": "text/x-python",
      "name": "python",
      "nbconvert_exporter": "python",
      "pygments_lexer": "ipython3",
      "version": "3.6.9"
    }
  },
  "cells": [
    {
      "cell_type": "markdown",
      "metadata": {
        "id": "vrqBoJqvgyEg"
      },
      "source": [
        "<div class=\"alert alert-block alert-info\"><b></b>\n",
        "<h1><center> <font color='black'> Homework 01  </font></center></h1>\n",
        "<h2><center> <font color='black'> Data Exploration and Customer Segmentation </font></center></h2>    \n",
        "<h2><center> <font color='black'> MTAT.03.319 - Business Data Analytics</font></center></h2>\n",
        "<h2><center> <font color='black'> University of Tartu - Spring 2021</font></center></h2>\n",
        "</div>"
      ]
    },
    {
      "cell_type": "markdown",
      "metadata": {
        "id": "DZq6fSwkTTtv"
      },
      "source": [
        "# Homework instructions\n",
        "\n",
        "- Please provide the names and student IDs of the team-members (Maximum 2 person) in the field \"Team mates\" below. If you are not working in a team please insert only your name and student ID. \n",
        "\n",
        "- The accepted submission formats are Colab links or .ipynb files. If you are submitting Colab links please make sure that the privacy settings for the file is public so we can access your code. \n",
        "\n",
        "- The submission will automatically close on <font color='red'>**7 March at 23:59**</font>, so please make sure to submit before the deadline. \n",
        "\n",
        "- ONLY one of the teammates should submit the homework. We will grade the homework and the marks and feedback is applied for both the team members. So please communicate with your team member about marks and feedback if you are submit the homework.\n",
        "\n",
        "- If a question is not clear, please ask us in Moodle ONLY. \n",
        "\n",
        "- After you have finished solving the Homework, please restart the Kernel and run all the cells to check if there is any persisting issues. \n",
        "\n",
        "- Plagiarism is <font color='red'>**PROHIBITED**</font>. Any form of plagiarism will be dealt according to the university policy (https://www.ut.ee/en/current-students/academic-fraud).\n"
      ]
    },
    {
      "cell_type": "markdown",
      "metadata": {
        "id": "-ms6ZgYPTTty"
      },
      "source": [
        "**<h2><font color='red'>Team mates:</font></h2>**\n",
        "\n",
        "\n",
        "<font color='red'>Name: Mohga Emam </font>&emsp;   <font color='red'>Student ID: C09505 </font>\n",
        "\n",
        "\n",
        "<font color='red'>Name: Rewan Emam </font>&emsp;   <font color='red'>Student ID: C07851 </font>\n",
        "\n",
        "\n"
      ]
    },
    {
      "cell_type": "markdown",
      "metadata": {
        "id": "sCCZbDuZgyEj"
      },
      "source": [
        "# Introduction\n",
        "\n",
        "* In this homework you are going to use Python; specifically Pandas package which is a powerful and handy data analysis and manipulation tool, built on top of the Python programming language. In addition, there are questions related to clustering as well. The tasks are relevant to the tasks from the practice session. So, please make sure to go through the practise session carefully before you attempt to solve this homework.\n",
        "\n",
        "### The homework is divided into four sections and the points are distributed as below:\n",
        "<pre>\n",
        "- Python and Pandas    -> 1.5 points\n",
        "- Understanding data   -> 2.5 points\n",
        "- Data Preparation     -> 1.5 points\n",
        "- Exploring dataset    -> 1.5 points\n",
        "- Basic Clustering     -> 5.0 points\n",
        "_________________________________________\n",
        "Total                  -> 12 points\n",
        "</pre>"
      ]
    },
    {
      "cell_type": "markdown",
      "metadata": {
        "id": "wqOWh3hrgyEk"
      },
      "source": [
        "# 1. Python and Pandas (1.5 points)"
      ]
    },
    {
      "cell_type": "markdown",
      "metadata": {
        "id": "xOZOWT9xgyEl"
      },
      "source": [
        "First, let's import pandas package as pd and read data from the CSV file into a pandas DataFrame."
      ]
    },
    {
      "cell_type": "code",
      "metadata": {
        "id": "YIQHoRFWnH6G"
      },
      "source": [
        "import numpy as np\r\n",
        "import seaborn as sns\r\n",
        "import pandas as pd"
      ],
      "execution_count": null,
      "outputs": []
    },
    {
      "cell_type": "code",
      "metadata": {
        "colab": {
          "resources": {
            "http://localhost:8080/nbextensions/google.colab/files.js": {
              "data": "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",
              "ok": true,
              "headers": [
                [
                  "content-type",
                  "application/javascript"
                ]
              ],
              "status": 200,
              "status_text": ""
            }
          },
          "base_uri": "https://localhost:8080/",
          "height": 72
        },
        "id": "BbindC_eRyQY",
        "outputId": "7843c642-47dc-471b-c9cb-182e17cbcdcb"
      },
      "source": [
        "from google.colab import files\r\n",
        "uploaded = files.upload()"
      ],
      "execution_count": null,
      "outputs": [
        {
          "output_type": "display_data",
          "data": {
            "text/html": [
              "\n",
              "     <input type=\"file\" id=\"files-3c8a0872-7352-4e8d-b8fd-554b971983d1\" name=\"files[]\" multiple disabled\n",
              "        style=\"border:none\" />\n",
              "     <output id=\"result-3c8a0872-7352-4e8d-b8fd-554b971983d1\">\n",
              "      Upload widget is only available when the cell has been executed in the\n",
              "      current browser session. Please rerun this cell to enable.\n",
              "      </output>\n",
              "      <script src=\"/nbextensions/google.colab/files.js\"></script> "
            ],
            "text/plain": [
              "<IPython.core.display.HTML object>"
            ]
          },
          "metadata": {
            "tags": []
          }
        },
        {
          "output_type": "stream",
          "text": [
            "Saving abalone.csv to abalone (1).csv\n"
          ],
          "name": "stdout"
        }
      ]
    },
    {
      "cell_type": "code",
      "metadata": {
        "id": "CuwdGoezgyEm"
      },
      "source": [
        "import pandas as pd\n",
        " \n",
        "data = pd.read_csv('abalone.csv')\n"
      ],
      "execution_count": null,
      "outputs": []
    },
    {
      "cell_type": "markdown",
      "metadata": {
        "id": "XLssOWbLgyEq"
      },
      "source": [
        "`Question 1.0` is an example of how you should answer the following questions. First, in the `#TODO` cell you have to write the code representing your solution. And in the answer cell write the answer with your own words. Please make sure your sentences should be clear enough. Try to avoid abbreviations and short sentences."
      ]
    },
    {
      "cell_type": "markdown",
      "metadata": {
        "id": "NiAAHDUUgyEr"
      },
      "source": [
        " **1.0. What is overall memory consumption of the data?** (EXAMPLE)"
      ]
    },
    {
      "cell_type": "code",
      "metadata": {
        "id": "IgejyfJXgyEs",
        "colab": {
          "base_uri": "https://localhost:8080/"
        },
        "outputId": "3b6e8b3e-3828-4be2-f4e5-c2638df9cb70"
      },
      "source": [
        "# TODO - here you have to write the code.\n",
        "data.memory_usage(deep=True).sum()"
      ],
      "execution_count": null,
      "outputs": [
        {
          "output_type": "execute_result",
          "data": {
            "text/plain": [
              "98128"
            ]
          },
          "metadata": {
            "tags": []
          },
          "execution_count": 4
        }
      ]
    },
    {
      "cell_type": "markdown",
      "metadata": {
        "id": "e4vjuR2_gyEu"
      },
      "source": [
        "* Provide description based on the outcome of the cell above. Please describe as much as possible and as little as required. If you are asked to display a dataframe, you can use the code cells and display the dataframe in the output. You can also use the answer cell (markdown type) for descriptive answers.<br> <br>\n",
        "**<font color='red'>Answer:</font>** The total memory usage is 98128 bytes (98.128 kB)."
      ]
    },
    {
      "cell_type": "markdown",
      "metadata": {
        "id": "VvZjPHCegyEv"
      },
      "source": [
        " **1.1. How many variables (features) are in the dataset? State the feature names. (0.10 point)** <br>\n",
        " Hint: Variables or features are the number of columns in a dataset."
      ]
    },
    {
      "cell_type": "code",
      "metadata": {
        "id": "q4Aiwr-TgyEw",
        "colab": {
          "base_uri": "https://localhost:8080/"
        },
        "outputId": "e1372513-6fda-48e1-a358-f6978c054aed"
      },
      "source": [
        "data.columns"
      ],
      "execution_count": null,
      "outputs": [
        {
          "output_type": "execute_result",
          "data": {
            "text/plain": [
              "Index(['Gender', 'Length', 'Diameter', 'Height', 'Weight', 'Rings'], dtype='object')"
            ]
          },
          "metadata": {
            "tags": []
          },
          "execution_count": 5
        }
      ]
    },
    {
      "cell_type": "markdown",
      "metadata": {
        "id": "ISRKVsizgyEy"
      },
      "source": [
        "**<font color='red'>Answer: There are 6 features with the names: 'Gender', 'Length', 'Diameter', 'Height', 'Weight', 'Rings' </font>** "
      ]
    },
    {
      "cell_type": "markdown",
      "metadata": {
        "id": "B9QwvJRAgyEz"
      },
      "source": [
        "**1.2. How many observations (i.e. rows) are in this data frame?** **(0.10 point)**\n"
      ]
    },
    {
      "cell_type": "code",
      "metadata": {
        "id": "7Sf3o8PzgyE0",
        "colab": {
          "base_uri": "https://localhost:8080/"
        },
        "outputId": "fbe6980c-308f-4325-98b7-d31cd609e543"
      },
      "source": [
        "data.shape"
      ],
      "execution_count": null,
      "outputs": [
        {
          "output_type": "execute_result",
          "data": {
            "text/plain": [
              "(1000, 6)"
            ]
          },
          "metadata": {
            "tags": []
          },
          "execution_count": 6
        }
      ]
    },
    {
      "cell_type": "markdown",
      "metadata": {
        "id": "gGNbN-ttgyE2"
      },
      "source": [
        "**<font color='red'>Answer: There are 1000 observation present in the dataset.</font>** "
      ]
    },
    {
      "cell_type": "markdown",
      "metadata": {
        "id": "7bNY26vggyE4"
      },
      "source": [
        "**1.3. Print the first 5 lines from the dataset. What are the values of feature `Rings`?** **(0.10 point)**"
      ]
    },
    {
      "cell_type": "code",
      "metadata": {
        "id": "pozF0WCagyE5",
        "colab": {
          "base_uri": "https://localhost:8080/",
          "height": 202
        },
        "outputId": "c3fd2f38-e525-4852-95b6-58c7dfee90d4"
      },
      "source": [
        "data.head(5)"
      ],
      "execution_count": null,
      "outputs": [
        {
          "output_type": "execute_result",
          "data": {
            "text/html": [
              "<div>\n",
              "<style scoped>\n",
              "    .dataframe tbody tr th:only-of-type {\n",
              "        vertical-align: middle;\n",
              "    }\n",
              "\n",
              "    .dataframe tbody tr th {\n",
              "        vertical-align: top;\n",
              "    }\n",
              "\n",
              "    .dataframe thead th {\n",
              "        text-align: right;\n",
              "    }\n",
              "</style>\n",
              "<table border=\"1\" class=\"dataframe\">\n",
              "  <thead>\n",
              "    <tr style=\"text-align: right;\">\n",
              "      <th></th>\n",
              "      <th>Gender</th>\n",
              "      <th>Length</th>\n",
              "      <th>Diameter</th>\n",
              "      <th>Height</th>\n",
              "      <th>Weight</th>\n",
              "      <th>Rings</th>\n",
              "    </tr>\n",
              "  </thead>\n",
              "  <tbody>\n",
              "    <tr>\n",
              "      <th>0</th>\n",
              "      <td>F</td>\n",
              "      <td>0.505</td>\n",
              "      <td>0.385</td>\n",
              "      <td>0.135</td>\n",
              "      <td>0.6185</td>\n",
              "      <td>12</td>\n",
              "    </tr>\n",
              "    <tr>\n",
              "      <th>1</th>\n",
              "      <td>F</td>\n",
              "      <td>0.650</td>\n",
              "      <td>0.475</td>\n",
              "      <td>0.165</td>\n",
              "      <td>1.3875</td>\n",
              "      <td>9</td>\n",
              "    </tr>\n",
              "    <tr>\n",
              "      <th>2</th>\n",
              "      <td>I</td>\n",
              "      <td>0.520</td>\n",
              "      <td>0.380</td>\n",
              "      <td>0.135</td>\n",
              "      <td>0.5395</td>\n",
              "      <td>8</td>\n",
              "    </tr>\n",
              "    <tr>\n",
              "      <th>3</th>\n",
              "      <td>F</td>\n",
              "      <td>0.550</td>\n",
              "      <td>0.425</td>\n",
              "      <td>0.140</td>\n",
              "      <td>0.9520</td>\n",
              "      <td>7</td>\n",
              "    </tr>\n",
              "    <tr>\n",
              "      <th>4</th>\n",
              "      <td>M</td>\n",
              "      <td>0.640</td>\n",
              "      <td>0.525</td>\n",
              "      <td>0.180</td>\n",
              "      <td>1.3135</td>\n",
              "      <td>10</td>\n",
              "    </tr>\n",
              "  </tbody>\n",
              "</table>\n",
              "</div>"
            ],
            "text/plain": [
              "  Gender  Length  Diameter  Height  Weight  Rings\n",
              "0      F   0.505     0.385   0.135  0.6185     12\n",
              "1      F   0.650     0.475   0.165  1.3875      9\n",
              "2      I   0.520     0.380   0.135  0.5395      8\n",
              "3      F   0.550     0.425   0.140  0.9520      7\n",
              "4      M   0.640     0.525   0.180  1.3135     10"
            ]
          },
          "metadata": {
            "tags": []
          },
          "execution_count": 7
        }
      ]
    },
    {
      "cell_type": "markdown",
      "metadata": {
        "id": "i3S6mDeJgyE7"
      },
      "source": [
        "**<font color='red'>Answer: The values of feature Rings are: 12,9,8,7,10.</font>** "
      ]
    },
    {
      "cell_type": "markdown",
      "metadata": {
        "id": "CKvqW0PYgyE8"
      },
      "source": [
        "**1.4. Extract the last 3 rows of the data frame. What are the values of feature `Weight`?** **(0.10 point)**"
      ]
    },
    {
      "cell_type": "code",
      "metadata": {
        "id": "yFQPHLnVgyE8",
        "colab": {
          "base_uri": "https://localhost:8080/",
          "height": 141
        },
        "outputId": "589e5daa-14af-4744-8b71-64cd504bc7d4"
      },
      "source": [
        "data.tail(3)"
      ],
      "execution_count": null,
      "outputs": [
        {
          "output_type": "execute_result",
          "data": {
            "text/html": [
              "<div>\n",
              "<style scoped>\n",
              "    .dataframe tbody tr th:only-of-type {\n",
              "        vertical-align: middle;\n",
              "    }\n",
              "\n",
              "    .dataframe tbody tr th {\n",
              "        vertical-align: top;\n",
              "    }\n",
              "\n",
              "    .dataframe thead th {\n",
              "        text-align: right;\n",
              "    }\n",
              "</style>\n",
              "<table border=\"1\" class=\"dataframe\">\n",
              "  <thead>\n",
              "    <tr style=\"text-align: right;\">\n",
              "      <th></th>\n",
              "      <th>Gender</th>\n",
              "      <th>Length</th>\n",
              "      <th>Diameter</th>\n",
              "      <th>Height</th>\n",
              "      <th>Weight</th>\n",
              "      <th>Rings</th>\n",
              "    </tr>\n",
              "  </thead>\n",
              "  <tbody>\n",
              "    <tr>\n",
              "      <th>997</th>\n",
              "      <td>M</td>\n",
              "      <td>0.660</td>\n",
              "      <td>0.500</td>\n",
              "      <td>0.165</td>\n",
              "      <td>1.3195</td>\n",
              "      <td>9</td>\n",
              "    </tr>\n",
              "    <tr>\n",
              "      <th>998</th>\n",
              "      <td>I</td>\n",
              "      <td>0.525</td>\n",
              "      <td>0.400</td>\n",
              "      <td>0.130</td>\n",
              "      <td>0.6455</td>\n",
              "      <td>8</td>\n",
              "    </tr>\n",
              "    <tr>\n",
              "      <th>999</th>\n",
              "      <td>M</td>\n",
              "      <td>0.515</td>\n",
              "      <td>0.395</td>\n",
              "      <td>0.135</td>\n",
              "      <td>1.0070</td>\n",
              "      <td>8</td>\n",
              "    </tr>\n",
              "  </tbody>\n",
              "</table>\n",
              "</div>"
            ],
            "text/plain": [
              "    Gender  Length  Diameter  Height  Weight  Rings\n",
              "997      M   0.660     0.500   0.165  1.3195      9\n",
              "998      I   0.525     0.400   0.130  0.6455      8\n",
              "999      M   0.515     0.395   0.135  1.0070      8"
            ]
          },
          "metadata": {
            "tags": []
          },
          "execution_count": 8
        }
      ]
    },
    {
      "cell_type": "markdown",
      "metadata": {
        "id": "5e46xJ0WgyE-"
      },
      "source": [
        "**<font color='red'>Answer: The values of feature Weight are: 1.3195, 0.6455, 1.0070.</font>** "
      ]
    },
    {
      "cell_type": "markdown",
      "metadata": {
        "id": "IAG09Z2SgyE_"
      },
      "source": [
        "**1.5. What is the value of diameter in the row 575?** **(0.25 point)**"
      ]
    },
    {
      "cell_type": "code",
      "metadata": {
        "id": "e6p3_5BSgyFA",
        "colab": {
          "base_uri": "https://localhost:8080/",
          "height": 80
        },
        "outputId": "13e6bc7d-2bfd-4c15-b982-7fe211f89055"
      },
      "source": [
        "data[575:576]"
      ],
      "execution_count": null,
      "outputs": [
        {
          "output_type": "execute_result",
          "data": {
            "text/html": [
              "<div>\n",
              "<style scoped>\n",
              "    .dataframe tbody tr th:only-of-type {\n",
              "        vertical-align: middle;\n",
              "    }\n",
              "\n",
              "    .dataframe tbody tr th {\n",
              "        vertical-align: top;\n",
              "    }\n",
              "\n",
              "    .dataframe thead th {\n",
              "        text-align: right;\n",
              "    }\n",
              "</style>\n",
              "<table border=\"1\" class=\"dataframe\">\n",
              "  <thead>\n",
              "    <tr style=\"text-align: right;\">\n",
              "      <th></th>\n",
              "      <th>Gender</th>\n",
              "      <th>Length</th>\n",
              "      <th>Diameter</th>\n",
              "      <th>Height</th>\n",
              "      <th>Weight</th>\n",
              "      <th>Rings</th>\n",
              "    </tr>\n",
              "  </thead>\n",
              "  <tbody>\n",
              "    <tr>\n",
              "      <th>575</th>\n",
              "      <td>I</td>\n",
              "      <td>0.33</td>\n",
              "      <td>0.265</td>\n",
              "      <td>0.085</td>\n",
              "      <td>0.196</td>\n",
              "      <td>6</td>\n",
              "    </tr>\n",
              "  </tbody>\n",
              "</table>\n",
              "</div>"
            ],
            "text/plain": [
              "    Gender  Length  Diameter  Height  Weight  Rings\n",
              "575      I    0.33     0.265   0.085   0.196      6"
            ]
          },
          "metadata": {
            "tags": []
          },
          "execution_count": 9
        }
      ]
    },
    {
      "cell_type": "markdown",
      "metadata": {
        "id": "tSamdOV-YC1z"
      },
      "source": [
        "**<font color='red'>Answer: The values of the diameter in the row 575 is: 0.265</font>** "
      ]
    },
    {
      "cell_type": "markdown",
      "metadata": {
        "id": "PbMP_QZigyFC"
      },
      "source": [
        "**1.6. What are the mean, median and third (75%) quartile value of the height column?** **(0.25 point)** <br>\n",
        "Hint: Use pandas describe() method"
      ]
    },
    {
      "cell_type": "code",
      "metadata": {
        "id": "Zsjdbu1MgyFD",
        "scrolled": true,
        "colab": {
          "base_uri": "https://localhost:8080/"
        },
        "outputId": "6afa2a4a-dfa7-4919-bbea-4780c3d2c70f"
      },
      "source": [
        "mean_val = data['Height'].mean()\r\n",
        "median_val = data['Height'].median()\r\n",
        "third_quar = data['Height'].quantile(0.75)\r\n",
        "mean_val, median_val, third_quar"
      ],
      "execution_count": null,
      "outputs": [
        {
          "output_type": "execute_result",
          "data": {
            "text/plain": [
              "(0.1410999999999999, 0.145, 0.165)"
            ]
          },
          "metadata": {
            "tags": []
          },
          "execution_count": 10
        }
      ]
    },
    {
      "cell_type": "markdown",
      "metadata": {
        "id": "MXUVEljWgyFF"
      },
      "source": [
        "**<font color='red'>Answer: The mean, median and third (75%) quartile value of the height column: 0.1410999999999999, 0.145, 0.165</font>** "
      ]
    },
    {
      "cell_type": "markdown",
      "metadata": {
        "id": "rqK3C2AZgyFF"
      },
      "source": [
        "**1.7. Show the subset of rows from the data frame where `Gender` is F and `Weight` values are above 0.75. What is the mean of `Diameter` in this subset?** **(0.30 point)**"
      ]
    },
    {
      "cell_type": "code",
      "metadata": {
        "id": "0QpY4bo0gyFG",
        "colab": {
          "base_uri": "https://localhost:8080/"
        },
        "outputId": "71de1f98-e570-4503-f17a-0b9d5f972451"
      },
      "source": [
        "data[\r\n",
        "     (data['Gender'] == 'F') &\r\n",
        "     (data['Weight'] > 0.75)\r\n",
        "]['Diameter'].mean() , data[\r\n",
        "     (data['Gender'] == 'F') &\r\n",
        "     (data['Weight'] > 0.75)\r\n",
        "]"
      ],
      "execution_count": null,
      "outputs": [
        {
          "output_type": "execute_result",
          "data": {
            "text/plain": [
              "(0.48102222222222213,     Gender  Length  Diameter  Height  Weight  Rings\n",
              " 1        F   0.650     0.475   0.165  1.3875      9\n",
              " 3        F   0.550     0.425   0.140  0.9520      7\n",
              " 10       F   0.585     0.455   0.130  0.8755      8\n",
              " 14       F   0.660     0.530   0.185  1.3460     11\n",
              " 27       F   0.580     0.475   0.165  1.0385     13\n",
              " ..     ...     ...       ...     ...     ...    ...\n",
              " 976      F   0.545     0.385   0.150  1.1185      9\n",
              " 978      F   0.605     0.450   0.195  1.0980     13\n",
              " 982      F   0.670     0.540   0.165  1.5015     14\n",
              " 990      F   0.680     0.550   0.200  1.5960     21\n",
              " 991      F   0.670     0.525   0.195  1.4200     10\n",
              " \n",
              " [225 rows x 6 columns])"
            ]
          },
          "metadata": {
            "tags": []
          },
          "execution_count": 11
        }
      ]
    },
    {
      "cell_type": "markdown",
      "metadata": {
        "id": "YaMEfs3ogyFJ"
      },
      "source": [
        "**<font color='red'>Answer: The mean of the Diameter of this subset is 0.48102222222222213.</font>**"
      ]
    },
    {
      "cell_type": "markdown",
      "metadata": {
        "id": "B7Yd8ZPSgyFK"
      },
      "source": [
        "**1.8. Show the subset of rows from the dataframe where `Rings` values are exactly 18? <br>\n",
        "Find the minimum value of `Length` of this subset** **(0.30 point)**"
      ]
    },
    {
      "cell_type": "code",
      "metadata": {
        "id": "_IeMWswJgyFK",
        "colab": {
          "base_uri": "https://localhost:8080/"
        },
        "outputId": "95b664bb-8195-426d-f331-addcbf5af769"
      },
      "source": [
        "data[\r\n",
        "     (data['Rings'] == 18) \r\n",
        "], print(f'\\n The minimum value is', data[\r\n",
        "     (data['Rings'] == 18) \r\n",
        "]['Length'].min())"
      ],
      "execution_count": null,
      "outputs": [
        {
          "output_type": "stream",
          "text": [
            "\n",
            " The minimum value is 0.465\n"
          ],
          "name": "stdout"
        },
        {
          "output_type": "execute_result",
          "data": {
            "text/plain": [
              "(    Gender  Length  Diameter  Height  Weight  Rings\n",
              " 84       F   0.725     0.560   0.210  2.1410     18\n",
              " 122      F   0.500     0.405   0.140  0.6735     18\n",
              " 249      M   0.525     0.425   0.120  0.8665     18\n",
              " 260      M   0.520     0.435   0.195  0.9730     18\n",
              " 322      F   0.660     0.525   0.205  1.3665     18\n",
              " 336      F   0.465     0.350   0.130  0.4940     18\n",
              " 500      F   0.635     0.500   0.180  1.3120     18\n",
              " 589      F   0.545     0.405   0.175  0.9800     18\n",
              " 629      M   0.570     0.475   0.195  1.0295     18\n",
              " 725      F   0.600     0.475   0.180  1.1620     18\n",
              " 798      I   0.525     0.410   0.175  0.8740     18\n",
              " 855      F   0.575     0.450   0.170  1.0475     18, None)"
            ]
          },
          "metadata": {
            "tags": []
          },
          "execution_count": 12
        }
      ]
    },
    {
      "cell_type": "markdown",
      "metadata": {
        "id": "8tbre7YtgyFM"
      },
      "source": [
        "**<font color='red'>Answer: he minimum value of Length of this subset is: 0.465.</font>** "
      ]
    },
    {
      "cell_type": "markdown",
      "metadata": {
        "id": "sDL-xKNugyFN"
      },
      "source": [
        "# 2.  Understanding Data (2.5 point)"
      ]
    },
    {
      "cell_type": "markdown",
      "metadata": {
        "id": "hyESgblXgyFN"
      },
      "source": [
        "Data loading, describing, exploring, and verifying the quality of the data are <b>pivotal</b> to any data analysis task. <br>\n",
        "We will work with a new dataset, 'adult.csv',in this section. You will be asked to perform the mentioned tasks on this dataset.<br>"
      ]
    },
    {
      "cell_type": "markdown",
      "metadata": {
        "id": "qqaqaUAtgyFO"
      },
      "source": [
        "**2.0. Load data from the  `adult.csv` file.** <br>\n",
        "Hint 1: The extension of the filename may not always reflect the structure of data precisely. Are the values comma-separated (csv) or not? "
      ]
    },
    {
      "cell_type": "code",
      "metadata": {
        "colab": {
          "resources": {
            "http://localhost:8080/nbextensions/google.colab/files.js": {
              "data": "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",
              "ok": true,
              "headers": [
                [
                  "content-type",
                  "application/javascript"
                ]
              ],
              "status": 200,
              "status_text": ""
            }
          },
          "base_uri": "https://localhost:8080/",
          "height": 72
        },
        "id": "YURoglvrdyMZ",
        "outputId": "421c1ac8-891f-4db8-88ab-f4cf8b7763c4"
      },
      "source": [
        "uploaded = files.upload()"
      ],
      "execution_count": null,
      "outputs": [
        {
          "output_type": "display_data",
          "data": {
            "text/html": [
              "\n",
              "     <input type=\"file\" id=\"files-e44846b7-b9cc-4742-9621-3f171e83b631\" name=\"files[]\" multiple disabled\n",
              "        style=\"border:none\" />\n",
              "     <output id=\"result-e44846b7-b9cc-4742-9621-3f171e83b631\">\n",
              "      Upload widget is only available when the cell has been executed in the\n",
              "      current browser session. Please rerun this cell to enable.\n",
              "      </output>\n",
              "      <script src=\"/nbextensions/google.colab/files.js\"></script> "
            ],
            "text/plain": [
              "<IPython.core.display.HTML object>"
            ]
          },
          "metadata": {
            "tags": []
          }
        },
        {
          "output_type": "stream",
          "text": [
            "Saving adult.csv to adult.csv\n"
          ],
          "name": "stdout"
        }
      ]
    },
    {
      "cell_type": "code",
      "metadata": {
        "id": "MiipOOJ0gyFP",
        "scrolled": false
      },
      "source": [
        "import numpy as np\n",
        "import pandas as pd\n",
        "\n",
        "\n",
        "data = pd.read_csv(\"adult.csv\", sep='\\t', index_col=0)"
      ],
      "execution_count": null,
      "outputs": []
    },
    {
      "cell_type": "markdown",
      "metadata": {
        "id": "kfVl2ZCYgyFR"
      },
      "source": [
        "**2.1. Name all the columns in this dataset and describe the meaning of each column in one sentence. (0.25 points)** <br>"
      ]
    },
    {
      "cell_type": "code",
      "metadata": {
        "id": "wDx6d5mOTTt9",
        "colab": {
          "base_uri": "https://localhost:8080/"
        },
        "outputId": "4cafc460-ce47-45d2-d8ca-fcb92efab380"
      },
      "source": [
        "data.columns"
      ],
      "execution_count": null,
      "outputs": [
        {
          "output_type": "execute_result",
          "data": {
            "text/plain": [
              "Index(['age', 'workclass', 'education', 'occupation', 'capital.gain',\n",
              "       'capital.loss', 'native.country', 'salaries', 'jobsatisfaction', 'male',\n",
              "       'female'],\n",
              "      dtype='object')"
            ]
          },
          "metadata": {
            "tags": []
          },
          "execution_count": 15
        }
      ]
    },
    {
      "cell_type": "markdown",
      "metadata": {
        "id": "m7LD_44EgyFU"
      },
      "source": [
        "**<font color='red'>Answer: In this dataset we have 11 columns:\r\n",
        "\r\n",
        "\r\n",
        "1.   age: This column discribes the ages of the dataset objectives. the objective should have only positive numbers in the age column. This is a continuous values.\r\n",
        "2.   workclass: which discribes the workclass of each objectives whether it's Private, Self-emp-not-inc, Self-emp-inc, Federal-gov, Local-gov, State-gov, Without-pay, Never-worked.\r\n",
        "3.   education: This discribes the level of education for each objective. the objective can have any level of education in this column. It can be Bachelors, Some-college, 11th, HS-grad, Prof-school, Assoc-acdm, Assoc-voc, 9th, 7th-8th, 12th, Masters, 1st-4th, 10th, Doctorate, 5th-6th, Preschool.\r\n",
        "4.   occupation: This column represents that current occupation of the object. whether they are in Tech-support, Craft-repair, Other-service, Sales, Exec-managerial, Prof-specialty, Handlers-cleaners, Machine-op-inspct, Adm-clerical, Farming-fishing, Transport-moving, Priv-house-serv, Protective-serv, Armed-Forces.\r\n",
        "5.   capital.gain: In this column we specify each objective's capital gain. this is consists of continuous values.\r\n",
        "6.   capital.loss:\tIn this column we specify each objective's capital loss. this is consists of continuous values.\r\n",
        "7.   native.country: This column represents the mother native country of the objective. the country may be United-States, Cambodia, England, Puerto-Rico, Canada, Germany, Outlying-US(Guam-USVI-etc), India, Japan, Greece, South, China, Cuba, Iran, Honduras, Philippines, Italy, Poland, Jamaica, Vietnam, Mexico, Portugal, Ireland, France, Dominican-Republic, Laos, Ecuador, Taiwan, Haiti, Columbia, Hungary, Guatemala, Nicaragua, Scotland, Thailand, Yugoslavia, El-Salvador, Trinadad&Tobago, Peru, Hong, Holand-Netherlands.\r\n",
        "8.   salaries: This is the dataset objectives salaries.\r\n",
        "9.   jobsatisfaction: This column represents the level of job satisfaction for each and every objective.\t\r\n",
        "10.  male: This columns specifies whether this objective is a male or not.\t\r\n",
        "11.  female: This columns specifies whether this objective is a female or not.\r\n",
        "\r\n",
        "\r\n",
        "\r\n",
        "</font>**"
      ]
    },
    {
      "cell_type": "markdown",
      "metadata": {
        "id": "3qgkWuAQgyFU"
      },
      "source": [
        "####  2.1.1.Visualization is one of the easiest ways to get a good overview of the data, notice any peculiarity, or outliers. <br>In the following subtasks, you will have to visualize the distribution of the values for different features using appropriate diagrams. "
      ]
    },
    {
      "cell_type": "code",
      "metadata": {
        "id": "seKrq_6pgyFV"
      },
      "source": [
        "# Matplotlib is a Python 2D plotting library which produces publication quality figures in a variety of hardcopy formats \n",
        "# and interactive environments across platforms. Matplotlib can be used in Python scripts, the Python and IPython shells, \n",
        "# Jupyter notebook, web application servers, and for graphical user interface toolkits.\n",
        "import matplotlib.pyplot as plt\n",
        "\n",
        "# allows to output plots in the notebook\n",
        "%matplotlib inline \n",
        "\n",
        "# Set the default style\n",
        "plt.style.use(\"ggplot\") "
      ],
      "execution_count": null,
      "outputs": []
    },
    {
      "cell_type": "markdown",
      "metadata": {
        "id": "nGn22mj5gyFX"
      },
      "source": [
        "As an example, here is the frequency histogram of \"age\" column, where age is an attribute of type **numeric**:"
      ]
    },
    {
      "cell_type": "code",
      "metadata": {
        "id": "70TQxyBkgyFX",
        "colab": {
          "base_uri": "https://localhost:8080/",
          "height": 265
        },
        "outputId": "45f6571b-dee1-4a80-93d1-47ddc1850764"
      },
      "source": [
        "# Columns may contain non-numeric values, errors or missing values. Therefore, non-numeric values must be dealt with.\n",
        "if data is not ...:\n",
        "    pd.to_numeric(data['age'], errors='coerce').hist(bins=30) # ‘coerce’ -> invalid parsing will be set as NaN\n",
        "else:\n",
        "    print('Please define `data` in earlier subtasks')"
      ],
      "execution_count": null,
      "outputs": [
        {
          "output_type": "display_data",
          "data": {
            "image/png": "[encoded data removed]",
            "text/plain": [
              "<Figure size 432x288 with 1 Axes>"
            ]
          },
          "metadata": {
            "tags": []
          }
        }
      ]
    },
    {
      "cell_type": "markdown",
      "metadata": {
        "id": "7sHWWIhygyFZ"
      },
      "source": [
        "**2.2. Specify the type of `workclass` attribute (nominal / ordinal / numeric). Choose an appropriate chart to visualise the frequency distribution for the values of `workclass`. (0.25 points)** <br>\n",
        "Hint: Do not forget the data preprocessing part. First look for any unusual value in the specific column and deal with it appropriately. You do not necessarily need to eyeball each of the rows. But you can think of other ways perhaps. The original dataset uses '?' for missing values"
      ]
    },
    {
      "cell_type": "markdown",
      "metadata": {
        "id": "fn8nRBz8gyFa"
      },
      "source": [
        "**<font color='red'>Attribute type : nominal</font>** "
      ]
    },
    {
      "cell_type": "code",
      "metadata": {
        "id": "S-dh5Dv8H0Jw"
      },
      "source": [
        "import matplotlib.pyplot as plt\r\n",
        "plt.rcParams[\"figure.figsize\"] = (20,8)"
      ],
      "execution_count": null,
      "outputs": []
    },
    {
      "cell_type": "code",
      "metadata": {
        "id": "ZykR2zwMgyFa",
        "colab": {
          "base_uri": "https://localhost:8080/",
          "height": 537
        },
        "outputId": "3b468259-7719-4a75-d6cb-7f7b7a827c48"
      },
      "source": [
        "# nominal type is visualized using pie and bar plots\r\n",
        "workclass_data = data.workclass.value_counts().to_frame()\r\n",
        "workclass_data['workclass'][0] = workclass_data['workclass'][0] + workclass_data['workclass'][-2]\r\n",
        "workclass_data = workclass_data.drop(workclass_data.index[[3,-2]])\r\n",
        "plt.pie(workclass_data , labels = workclass_data.index.to_list() , shadow=True);\r\n",
        "plt.title(\"workclass features\");"
      ],
      "execution_count": null,
      "outputs": [
        {
          "output_type": "stream",
          "text": [
            "/usr/local/lib/python3.7/dist-packages/ipykernel_launcher.py:5: MatplotlibDeprecationWarning: Non-1D inputs to pie() are currently squeeze()d, but this behavior is deprecated since 3.1 and will be removed in 3.3; pass a 1D array instead.\n",
            "  \"\"\"\n"
          ],
          "name": "stderr"
        },
        {
          "output_type": "display_data",
          "data": {
            "image/png": "[encoded data removed]",
            "text/plain": [
              "<Figure size 1440x576 with 1 Axes>"
            ]
          },
          "metadata": {
            "tags": []
          }
        }
      ]
    },
    {
      "cell_type": "code",
      "metadata": {
        "colab": {
          "base_uri": "https://localhost:8080/",
          "height": 592
        },
        "id": "nlIIrabSJDJg",
        "outputId": "0f17fd64-ae6c-41ca-bf41-20801e6b19c5"
      },
      "source": [
        "workclass_data.plot(kind=\"bar\", title=\"workclass features\", xlabel = \"features\" , ylabel = \"values\");"
      ],
      "execution_count": null,
      "outputs": [
        {
          "output_type": "display_data",
          "data": {
            "image/png": "[encoded data removed]",
            "text/plain": [
              "<Figure size 1440x576 with 1 Axes>"
            ]
          },
          "metadata": {
            "tags": []
          }
        }
      ]
    },
    {
      "cell_type": "markdown",
      "metadata": {
        "id": "ic6lq5ergyFc"
      },
      "source": [
        "**2.3. Specify the type of `education` attribute (nominal / ordinal / numeric). Choose an appropriate chart to visualise the frequency distribution for the values of `education`. (0.25 points)** <br>"
      ]
    },
    {
      "cell_type": "markdown",
      "metadata": {
        "id": "C1zSn4tygyFd"
      },
      "source": [
        "**<font color='red'>Attribute type : ordinal </font>** "
      ]
    },
    {
      "cell_type": "code",
      "metadata": {
        "id": "YxFaVtnCgyFd",
        "colab": {
          "base_uri": "https://localhost:8080/",
          "height": 577
        },
        "outputId": "50db0f4d-a33a-414b-f3c8-e00e017471f9"
      },
      "source": [
        "# ordinal type is visualized using bar plots\r\n",
        "\r\n",
        "data.education.value_counts().plot(kind=\"bar\", title=\"education levels\", xlabel = \"levels\" , ylabel = \"levels counts\");"
      ],
      "execution_count": null,
      "outputs": [
        {
          "output_type": "display_data",
          "data": {
            "image/png": "[encoded data removed]",
            "text/plain": [
              "<Figure size 1440x576 with 1 Axes>"
            ]
          },
          "metadata": {
            "tags": []
          }
        }
      ]
    },
    {
      "cell_type": "markdown",
      "metadata": {
        "id": "fDoBsgchgyFf"
      },
      "source": [
        "**2.4. Specify the type of `occupation` attribute (nominal / ordinal / numeric). Choose an appropriate chart to visualise the frequency distribution for the values of `occupation`. (0.25 points)**"
      ]
    },
    {
      "cell_type": "markdown",
      "metadata": {
        "id": "mX0UIBsSgyFf"
      },
      "source": [
        "**<font color='red'>Attribute type : nominal</font>** "
      ]
    },
    {
      "cell_type": "code",
      "metadata": {
        "id": "FtrZuF9XgyFg",
        "scrolled": false,
        "colab": {
          "base_uri": "https://localhost:8080/",
          "height": 602
        },
        "outputId": "b7f0aa26-e4b3-4483-ec34-79908e58aeb8"
      },
      "source": [
        "occupation_data = data.occupation.value_counts().to_frame()\r\n",
        "occupation_data = occupation_data.drop(occupation_data.index[[7]])\r\n",
        "occupation_data.plot(kind=\"bar\", title=\"occupation types\", xlabel = \"types\" , ylabel = \"value counts\");"
      ],
      "execution_count": null,
      "outputs": [
        {
          "output_type": "display_data",
          "data": {
            "image/png": "[encoded data removed]",
            "text/plain": [
              "<Figure size 1440x576 with 1 Axes>"
            ]
          },
          "metadata": {
            "tags": []
          }
        }
      ]
    },
    {
      "cell_type": "markdown",
      "metadata": {
        "id": "OUykwd4-gyFi"
      },
      "source": [
        "**2.5. Specify the type of `native.country` attribute (nominal / ordinal / numeric). Choose an appropriate chart to visualise the frequency distribution for the values of `native.country`. (0.25 points)**"
      ]
    },
    {
      "cell_type": "markdown",
      "metadata": {
        "id": "b40iyT1ggyFi"
      },
      "source": [
        "**<font color='red'>Attribute type : nominal</font>** "
      ]
    },
    {
      "cell_type": "code",
      "metadata": {
        "id": "6jwSal9ogyFj",
        "scrolled": false,
        "colab": {
          "base_uri": "https://localhost:8080/",
          "height": 569
        },
        "outputId": "372e52bb-4f47-44ef-bd1e-0d8c56ab3e34"
      },
      "source": [
        "# nomianl data is visualized using pie or bar plots\r\n",
        "native_country_data = pd.DataFrame({'country':data['native.country'].value_counts().index, 'population':data['native.country'].value_counts().values})\r\n",
        "# adding all the united states population together\r\n",
        "native_country_data['population'][0] = native_country_data['population'][0] + native_country_data['population'][1] + native_country_data['population'][2] + native_country_data['population'][3]\r\n",
        "# dropping all the unneccessary united state records with the missing record and a south record (the south record is delete because theres's no country called just south so this record is meaningless to me).\r\n",
        "native_country_data = native_country_data.drop(native_country_data.index[[1,2,3,5,15]])\r\n",
        "\r\n",
        "plt.pie(native_country_data.population , shadow=True);\r\n",
        "plt.title(\"native country populations\");"
      ],
      "execution_count": null,
      "outputs": [
        {
          "output_type": "stream",
          "text": [
            "/usr/local/lib/python3.7/dist-packages/ipykernel_launcher.py:4: SettingWithCopyWarning: \n",
            "A value is trying to be set on a copy of a slice from a DataFrame\n",
            "\n",
            "See the caveats in the documentation: https://pandas.pydata.org/pandas-docs/stable/user_guide/indexing.html#returning-a-view-versus-a-copy\n",
            "  after removing the cwd from sys.path.\n"
          ],
          "name": "stderr"
        },
        {
          "output_type": "display_data",
          "data": {
            "image/png": "[encoded data removed]",
            "text/plain": [
              "<Figure size 1440x576 with 1 Axes>"
            ]
          },
          "metadata": {
            "tags": []
          }
        }
      ]
    },
    {
      "cell_type": "code",
      "metadata": {
        "colab": {
          "base_uri": "https://localhost:8080/",
          "height": 653
        },
        "id": "JasfAl1obyzf",
        "outputId": "7f155982-9fe6-4c63-8565-008d1ce1d767"
      },
      "source": [
        "# we will also draw a bar plot because the pie plot is not very discribtive\r\n",
        "native_country_data.population.plot(kind = 'bar', title=\"native country population counts\", xlabel = \"country name\", ylabel= \"popluation number\");\r\n",
        "plt.xticks([i for i in range(len(native_country_data))], native_country_data.country.to_list());"
      ],
      "execution_count": null,
      "outputs": [
        {
          "output_type": "display_data",
          "data": {
            "image/png": "[encoded data removed]",
            "text/plain": [
              "<Figure size 1440x576 with 1 Axes>"
            ]
          },
          "metadata": {
            "tags": []
          }
        }
      ]
    },
    {
      "cell_type": "code",
      "metadata": {
        "id": "EaaEs7_Teakd"
      },
      "source": [
        "# [i for i in range(len(native_country_data))]\r\n",
        "# native_country_data.index.to_list()"
      ],
      "execution_count": null,
      "outputs": []
    },
    {
      "cell_type": "markdown",
      "metadata": {
        "id": "9noaPZsHgyFl"
      },
      "source": [
        "**2.6. Specify the type of `salaries` attribute (nominal / ordinal / numeric). Choose an appropriate chart to visualise the frequency distribution for the values of `salaries`. (0.25 points)**"
      ]
    },
    {
      "cell_type": "markdown",
      "metadata": {
        "id": "N4sTxrttgyFl"
      },
      "source": [
        "**<font color='red'>Attribute type : numeric</font>** "
      ]
    },
    {
      "cell_type": "code",
      "metadata": {
        "id": "7tg9bjOzgyFm",
        "scrolled": false,
        "colab": {
          "base_uri": "https://localhost:8080/",
          "height": 517
        },
        "outputId": "deb21590-0ea6-4da7-86d0-ab2bf9ac6cbb"
      },
      "source": [
        "sns.boxplot(x = data.salaries);\r\n",
        "plt.title('salary distribution');"
      ],
      "execution_count": null,
      "outputs": [
        {
          "output_type": "display_data",
          "data": {
            "image/png": "[encoded data removed]",
            "text/plain": [
              "<Figure size 1440x576 with 1 Axes>"
            ]
          },
          "metadata": {
            "tags": []
          }
        }
      ]
    },
    {
      "cell_type": "markdown",
      "metadata": {
        "id": "HzDSxjzsgyFo"
      },
      "source": [
        "**2.7. Attributes `male` and `female`. Specify the types of these attributes (nominal / ordinal / numeric). Choose an appropriate chart type to visualise the relative frequency of positive values in attribute `male` and positive values in attribute `female` (relative frequency of males and females). (0.25 points)**"
      ]
    },
    {
      "cell_type": "markdown",
      "metadata": {
        "id": "gpNd1Z7XgyFo"
      },
      "source": [
        "**<font color='red'>Attribute type : binary categorical</font>**"
      ]
    },
    {
      "cell_type": "code",
      "metadata": {
        "id": "VokObsU2gyFp",
        "scrolled": false,
        "colab": {
          "base_uri": "https://localhost:8080/",
          "height": 524
        },
        "outputId": "ae4523bf-e16d-4372-e164-c2a3d4a43f21"
      },
      "source": [
        "# data['female'], data['male']\r\n",
        "data['gender'] = data.apply(lambda row: \"female\" if row['female'] == 1 else \"male\", axis=1)\r\n",
        "data.gender.value_counts().plot(kind = 'bar', title = 'gender types');"
      ],
      "execution_count": null,
      "outputs": [
        {
          "output_type": "display_data",
          "data": {
            "image/png": "[encoded data removed]",
            "text/plain": [
              "<Figure size 1440x576 with 1 Axes>"
            ]
          },
          "metadata": {
            "tags": []
          }
        }
      ]
    },
    {
      "cell_type": "markdown",
      "metadata": {
        "id": "-TqRzwEZgyFr"
      },
      "source": [
        "**2.8. Count the number of missing values in each attribute in the dataset and report the percentage of missing values of each attribute (the original file uses '?' for missing values). (0.25 points)**"
      ]
    },
    {
      "cell_type": "code",
      "metadata": {
        "id": "8OCwVGZ7gyFr",
        "scrolled": false,
        "colab": {
          "base_uri": "https://localhost:8080/"
        },
        "outputId": "1e93333b-3412-4aa4-8423-0a38829d4dee"
      },
      "source": [
        "data_columns = data.columns.to_list()\r\n",
        "for i in data_columns:\r\n",
        "  print(f'{i}\\n {data[i].value_counts()} \\n')"
      ],
      "execution_count": null,
      "outputs": [
        {
          "output_type": "stream",
          "text": [
            "age\n",
            " 36     895\n",
            "31     886\n",
            "34     884\n",
            "23     877\n",
            "35     874\n",
            "      ... \n",
            "85       3\n",
            "320      1\n",
            "87       1\n",
            "86       1\n",
            "-57      1\n",
            "Name: age, Length: 76, dtype: int64 \n",
            "\n",
            "workclass\n",
            "  Private             22686\n",
            " Self-emp-not-inc     2541\n",
            " Local-gov            2093\n",
            " ?                    1836\n",
            " State-gov            1298\n",
            " Self-emp-inc         1116\n",
            " Federal-gov           960\n",
            " Without-pay            14\n",
            "privat                  10\n",
            " Never-worked            7\n",
            "Name: workclass, dtype: int64 \n",
            "\n",
            "education\n",
            "  HS-grad         10501\n",
            " Some-college     7291\n",
            " Bachelors        5355\n",
            " Masters          1723\n",
            " Assoc-voc        1382\n",
            " 11th             1175\n",
            " Assoc-acdm       1067\n",
            " 10th              933\n",
            " 7th-8th           646\n",
            " Prof-school       576\n",
            " 9th               514\n",
            " 12th              433\n",
            " Doctorate         413\n",
            " 5th-6th           333\n",
            " 1st-4th           168\n",
            " Preschool          51\n",
            "Name: education, dtype: int64 \n",
            "\n",
            "occupation\n",
            "  Prof-specialty       4140\n",
            " Craft-repair         4099\n",
            " Exec-managerial      4066\n",
            " Adm-clerical         3770\n",
            " Sales                3650\n",
            " Other-service        3295\n",
            " Machine-op-inspct    2002\n",
            " ?                    1843\n",
            " Transport-moving     1597\n",
            " Handlers-cleaners    1370\n",
            " Farming-fishing       994\n",
            " Tech-support          928\n",
            " Protective-serv       649\n",
            " Priv-house-serv       149\n",
            " Armed-Forces            9\n",
            "Name: occupation, dtype: int64 \n",
            "\n",
            "capital.gain\n",
            " 0        29849\n",
            "15024      347\n",
            "7688       284\n",
            "7298       246\n",
            "99999      159\n",
            "         ...  \n",
            "4931         1\n",
            "1455         1\n",
            "6097         1\n",
            "22040        1\n",
            "1111         1\n",
            "Name: capital.gain, Length: 119, dtype: int64 \n",
            "\n",
            "capital.loss\n",
            " 0       31042\n",
            "1902      202\n",
            "1977      168\n",
            "1887      159\n",
            "1848       51\n",
            "        ...  \n",
            "1411        1\n",
            "1539        1\n",
            "2472        1\n",
            "1944        1\n",
            "2201        1\n",
            "Name: capital.loss, Length: 92, dtype: int64 \n",
            "\n",
            "native.country\n",
            "  United-States                 26568\n",
            "Unitedstates                     891\n",
            "UnitedStates                     882\n",
            "United-States                    829\n",
            " Mexico                          643\n",
            " ?                               583\n",
            " Philippines                     198\n",
            " Germany                         137\n",
            " Canada                          121\n",
            " Puerto-Rico                     114\n",
            " El-Salvador                     106\n",
            " India                           100\n",
            " Cuba                             95\n",
            " England                          90\n",
            " Jamaica                          81\n",
            " South                            80\n",
            " China                            75\n",
            " Italy                            73\n",
            " Dominican-Republic               70\n",
            " Vietnam                          67\n",
            " Guatemala                        64\n",
            " Japan                            62\n",
            " Poland                           60\n",
            " Columbia                         59\n",
            " Taiwan                           51\n",
            " Haiti                            44\n",
            " Iran                             43\n",
            " Portugal                         37\n",
            " Nicaragua                        34\n",
            " Peru                             31\n",
            " France                           29\n",
            " Greece                           29\n",
            " Ecuador                          28\n",
            " Ireland                          24\n",
            " Hong                             20\n",
            " Cambodia                         19\n",
            " Trinadad&Tobago                  19\n",
            " Thailand                         18\n",
            " Laos                             18\n",
            " Yugoslavia                       16\n",
            " Outlying-US(Guam-USVI-etc)       14\n",
            " Honduras                         13\n",
            " Hungary                          13\n",
            " Scotland                         12\n",
            " Holand-Netherlands                1\n",
            "Name: native.country, dtype: int64 \n",
            "\n",
            "salaries\n",
            " 34840.0    7\n",
            "27003.0    6\n",
            "33684.0    6\n",
            "24102.0    6\n",
            "26685.0    6\n",
            "          ..\n",
            "68979.0    1\n",
            "73586.0    1\n",
            "22320.0    1\n",
            "28896.0    1\n",
            "37726.0    1\n",
            "Name: salaries, Length: 23498, dtype: int64 \n",
            "\n",
            "jobsatisfaction\n",
            " 4            2457\n",
            "5            2452\n",
            "15           2349\n",
            "6            2235\n",
            "3            2162\n",
            "11           2141\n",
            "7            2123\n",
            "10           2085\n",
            "8            2070\n",
            "12           2069\n",
            "9            2064\n",
            "13           1834\n",
            "2            1811\n",
            "0            1757\n",
            "1            1495\n",
            "14           1456\n",
            "Very good       1\n",
            "Name: jobsatisfaction, dtype: int64 \n",
            "\n",
            "male\n",
            " 1.0    21790\n",
            "Name: male, dtype: int64 \n",
            "\n",
            "female\n",
            " 1.0    10771\n",
            "Name: female, dtype: int64 \n",
            "\n",
            "gender\n",
            " male      21790\n",
            "female    10771\n",
            "Name: gender, dtype: int64 \n",
            "\n"
          ],
          "name": "stdout"
        }
      ]
    },
    {
      "cell_type": "code",
      "metadata": {
        "colab": {
          "base_uri": "https://localhost:8080/"
        },
        "id": "1_eijDOB5xZC",
        "outputId": "7b8addea-a680-4ec3-c793-bb7c25e94c21"
      },
      "source": [
        "# now we know that the missing data is only in the native.country, occupation , and workclass columns 7 3 \r\n",
        "wanted_col = ['native.country', 'occupation' , 'workclass']\r\n",
        "nc_missing = data[wanted_col[0]].value_counts()[5]\r\n",
        "oc_missing = data[wanted_col[1]].value_counts()[7]\r\n",
        "wc_missing = data[wanted_col[2]].value_counts()[3]\r\n",
        "nc_precentage = data[wanted_col[0]].value_counts()[5] / data[wanted_col[0]].value_counts().values.sum()\r\n",
        "oc_precentage = data[wanted_col[1]].value_counts()[7] / data[wanted_col[1]].value_counts().values.sum()\r\n",
        "wc_precentage = data[wanted_col[2]].value_counts()[3] / data[wanted_col[2]].value_counts().values.sum()\r\n",
        "print(f'The missing values in the native country: {nc_missing} and the precentage is {nc_precentage*100}%\\nThe missing values in the occupation: {oc_missing} and the precentage is {oc_precentage*100}%\\nThe missing values in the workclass: {wc_missing} and the precentage is {wc_precentage*100}%\\n')"
      ],
      "execution_count": null,
      "outputs": [
        {
          "output_type": "stream",
          "text": [
            "The missing values in the native country: 583 and the precentage is 1.7904855501980899%\n",
            "The missing values in the occupation: 1843 and the precentage is 5.660145572924664%\n",
            "The missing values in the workclass: 1836 and the precentage is 5.638647461687294%\n",
            "\n"
          ],
          "name": "stdout"
        }
      ]
    },
    {
      "cell_type": "markdown",
      "metadata": {
        "id": "JW2LQpVLTTuI"
      },
      "source": [
        "<strong>2.9. Please provide a descriptive statistics for the people who work(`workclass`) in private sector. <br>Separately answer the following questions, <br> What are their mean and median salaries (`salaries`), job satisfaction (`jobsatisfaction`)? <br> What are their highest and lowest level of education (`education`)? <br> Provide the percentage of `male` and `female` employee distribution of these people.  (0.5 points)<strong>"
      ]
    },
    {
      "cell_type": "code",
      "metadata": {
        "id": "1BjKW_C5BHUu"
      },
      "source": [
        "workclass_data2 = data[\r\n",
        "                       (data.workclass == 'privat') | \\\r\n",
        "                       (data.workclass == ' Private')\r\n",
        "]"
      ],
      "execution_count": null,
      "outputs": []
    },
    {
      "cell_type": "code",
      "metadata": {
        "id": "IuYok_tiTTuI",
        "colab": {
          "base_uri": "https://localhost:8080/"
        },
        "outputId": "e1ee8fbb-1633-4794-b944-ce0c11f918dd"
      },
      "source": [
        "workclass_data2.jobsatisfaction = workclass_data2.jobsatisfaction.astype(int)\r\n",
        "workclass_data2.salaries.mean(), workclass_data2.salaries.median() , workclass_data2.jobsatisfaction.mean(), workclass_data2.jobsatisfaction.median()"
      ],
      "execution_count": null,
      "outputs": [
        {
          "output_type": "stream",
          "text": [
            "/usr/local/lib/python3.7/dist-packages/pandas/core/generic.py:5170: SettingWithCopyWarning: \n",
            "A value is trying to be set on a copy of a slice from a DataFrame.\n",
            "Try using .loc[row_indexer,col_indexer] = value instead\n",
            "\n",
            "See the caveats in the documentation: https://pandas.pydata.org/pandas-docs/stable/user_guide/indexing.html#returning-a-view-versus-a-copy\n",
            "  self[name] = value\n"
          ],
          "name": "stderr"
        },
        {
          "output_type": "execute_result",
          "data": {
            "text/plain": [
              "(38533.175185054635, 33556.0, 7.883019034191046, 8.0)"
            ]
          },
          "metadata": {
            "tags": []
          },
          "execution_count": 31
        }
      ]
    },
    {
      "cell_type": "code",
      "metadata": {
        "colab": {
          "base_uri": "https://localhost:8080/"
        },
        "id": "c6FKJUPnIcWr",
        "outputId": "e00cda54-01f2-467a-c6b4-4ca0b5f41878"
      },
      "source": [
        "print(f'The salaries mean: {workclass_data2.salaries.mean()} and median: {workclass_data2.salaries.median()}. The job satisfaction mean: {workclass_data2.jobsatisfaction.mean()} and median: {workclass_data2.jobsatisfaction.median()}')"
      ],
      "execution_count": null,
      "outputs": [
        {
          "output_type": "stream",
          "text": [
            "The salaries mean: 38533.175185054635 and median: 33556.0. The job satisfaction mean: 7.883019034191046 and median: 8.0\n"
          ],
          "name": "stdout"
        }
      ]
    },
    {
      "cell_type": "code",
      "metadata": {
        "colab": {
          "base_uri": "https://localhost:8080/"
        },
        "id": "jaRwAVunLWju",
        "outputId": "37b36a2f-eff2-4c6f-ad9f-1e2c674083b0"
      },
      "source": [
        "workclass_data2.education.value_counts()"
      ],
      "execution_count": null,
      "outputs": [
        {
          "output_type": "execute_result",
          "data": {
            "text/plain": [
              " HS-grad         7780\n",
              " Some-college    5094\n",
              " Bachelors       3551\n",
              " Assoc-voc       1005\n",
              " 11th             923\n",
              " Masters          894\n",
              " Assoc-acdm       729\n",
              " 10th             695\n",
              " 7th-8th          424\n",
              " 9th              387\n",
              " 12th             333\n",
              " 5th-6th          266\n",
              " Prof-school      257\n",
              " Doctorate        181\n",
              " 1st-4th          136\n",
              " Preschool         41\n",
              "Name: education, dtype: int64"
            ]
          },
          "metadata": {
            "tags": []
          },
          "execution_count": 33
        }
      ]
    },
    {
      "cell_type": "code",
      "metadata": {
        "colab": {
          "base_uri": "https://localhost:8080/"
        },
        "id": "bEjCm6TILkGO",
        "outputId": "174b3c67-5b30-4683-d41d-14077568774f"
      },
      "source": [
        "print(f'The highest education above is prof-school and the lowest is the preschool')"
      ],
      "execution_count": null,
      "outputs": [
        {
          "output_type": "stream",
          "text": [
            "The highest education above is prof-school and the lowest is the preschool\n"
          ],
          "name": "stdout"
        }
      ]
    },
    {
      "cell_type": "code",
      "metadata": {
        "id": "5q6SJL5EMjHT"
      },
      "source": [
        "male_precentage = workclass_data2.gender.value_counts()[0]/workclass_data2.gender.value_counts().sum()*100\r\n",
        "female_precentage = workclass_data2.gender.value_counts()[1]/workclass_data2.gender.value_counts().sum()*100"
      ],
      "execution_count": null,
      "outputs": []
    },
    {
      "cell_type": "code",
      "metadata": {
        "colab": {
          "base_uri": "https://localhost:8080/"
        },
        "id": "pnO5Cc7FLySH",
        "outputId": "f5fcf66a-31b3-44ca-b190-9b60b8c63afc"
      },
      "source": [
        "print(f'The male precentage is: {male_precentage}% and the female precentage is: {female_precentage}%')"
      ],
      "execution_count": null,
      "outputs": [
        {
          "output_type": "stream",
          "text": [
            "The male precentage is: 65.84420162143108% and the female precentage is: 34.15579837856891%\n"
          ],
          "name": "stdout"
        }
      ]
    },
    {
      "cell_type": "markdown",
      "metadata": {
        "id": "zA0tQqQ-gyFu"
      },
      "source": [
        "# 3.  Data preparation (1.5 points)"
      ]
    },
    {
      "cell_type": "markdown",
      "metadata": {
        "id": "5oLOS7LWgyFu"
      },
      "source": [
        "Preparing the data for analysis is the most crucial part of data analysis. In this exercise, we will clean up the dataset 'adult.csv'. The dataset was purposefully made untidy so that you can practice cleaning it up.<br>"
      ]
    },
    {
      "cell_type": "markdown",
      "metadata": {
        "id": "H_S7GNXCgyFv"
      },
      "source": [
        "First, let's make a deep copy of the original DataFrame. Later we will compare it to the cleaned/modified DataFrame."
      ]
    },
    {
      "cell_type": "code",
      "metadata": {
        "id": "oTT78CZtgyFv",
        "scrolled": false
      },
      "source": [
        "if data is not ...:\n",
        "    original_data = data.copy(deep=True) # Make a deep copy, including a copy of the data and the indices"
      ],
      "execution_count": null,
      "outputs": []
    },
    {
      "cell_type": "markdown",
      "metadata": {
        "id": "XPjMB5BfgyFx"
      },
      "source": [
        "**3.1. Sometimes values include leading and/or trailing spaces. Remove leading and trailing whitespace from strings. Count the number of rows that were changed in the dataset. (0.30 points)** <br>"
      ]
    },
    {
      "cell_type": "code",
      "metadata": {
        "colab": {
          "base_uri": "https://localhost:8080/"
        },
        "id": "FVsaurLCd5Oy",
        "outputId": "49852e20-da07-4850-8c83-1569b93353d1"
      },
      "source": [
        "#Perform manipulations in the 'data' dataframe. So that later you can use the code block below to compare\r\n",
        "\r\n",
        "# getting to know each type to know how to handle it.\r\n",
        "data.dtypes"
      ],
      "execution_count": null,
      "outputs": [
        {
          "output_type": "execute_result",
          "data": {
            "text/plain": [
              "age                 object\n",
              "workclass           object\n",
              "education           object\n",
              "occupation          object\n",
              "capital.gain         int64\n",
              "capital.loss         int64\n",
              "native.country      object\n",
              "salaries           float64\n",
              "jobsatisfaction     object\n",
              "male               float64\n",
              "female             float64\n",
              "gender              object\n",
              "dtype: object"
            ]
          },
          "metadata": {
            "tags": []
          },
          "execution_count": 38
        }
      ]
    },
    {
      "cell_type": "code",
      "metadata": {
        "colab": {
          "base_uri": "https://localhost:8080/"
        },
        "id": "kSIPwSlbb4i-",
        "outputId": "d6a981c2-041d-44f4-ca4e-c014e1c3e4aa"
      },
      "source": [
        "# checking for the string columns to see if there's any values that starts with or endswith a string\r\n",
        "string_columns = ['age', 'workclass','education','occupation','native.country','jobsatisfaction','gender']\r\n",
        "for j in string_columns:\r\n",
        "  for i in range(len(data[j])):\r\n",
        "    if(data[j][i].startswith(' ') |data[j][i].endswith(' ')):\r\n",
        "      data[j][i] = data[j][i].strip()"
      ],
      "execution_count": null,
      "outputs": [
        {
          "output_type": "stream",
          "text": [
            "/usr/local/lib/python3.7/dist-packages/ipykernel_launcher.py:6: SettingWithCopyWarning: \n",
            "A value is trying to be set on a copy of a slice from a DataFrame\n",
            "\n",
            "See the caveats in the documentation: https://pandas.pydata.org/pandas-docs/stable/user_guide/indexing.html#returning-a-view-versus-a-copy\n",
            "  \n"
          ],
          "name": "stderr"
        }
      ]
    },
    {
      "cell_type": "code",
      "metadata": {
        "id": "SvrXvGG5eM7k"
      },
      "source": [
        "# checking for the numeric columns to see if there's any values that starts with or endswith a string\r\n",
        "string_columns = ['capital.gain','capital.loss','female','male', 'salaries']\r\n",
        "for j in string_columns:\r\n",
        "  for i in range(len(data[j])):\r\n",
        "    if(str(data[j][i]).startswith(' ') | str(data[j][i]).endswith(' ')):\r\n",
        "      data[j][i] = data[j][i].strip()"
      ],
      "execution_count": null,
      "outputs": []
    },
    {
      "cell_type": "markdown",
      "metadata": {
        "id": "ypKQ7rHDgyFz"
      },
      "source": [
        "Use code below to count how many rows were affected."
      ]
    },
    {
      "cell_type": "code",
      "metadata": {
        "id": "p1GVNw05gyF1",
        "colab": {
          "base_uri": "https://localhost:8080/"
        },
        "outputId": "92d19eba-217c-43a4-8a69-c51e19ad6998"
      },
      "source": [
        "# Count differences\n",
        "if data is not ...:\n",
        "    data_all = pd.concat([original_data, data]).drop_duplicates()\n",
        "    diff = data_all.shape[0] - data.shape[0]\n",
        "    print ('Difference: ' + str(diff))"
      ],
      "execution_count": null,
      "outputs": [
        {
          "output_type": "stream",
          "text": [
            "Difference: 32561\n"
          ],
          "name": "stdout"
        }
      ]
    },
    {
      "cell_type": "markdown",
      "metadata": {
        "id": "_rfkpGsJgyF3"
      },
      "source": [
        "**<font color='red'>Answer: There were 32561 affected rows</font>** "
      ]
    },
    {
      "cell_type": "markdown",
      "metadata": {
        "id": "BBT286CHgyF3"
      },
      "source": [
        "**3.2. Replace all non-sensical values in `data` with np.nan from numpy package to denote missing values (Original file uses '?' for missing values). Fix the typos in the dataset. Justify all the changes that you do, explaining why you are sure that this is a correct change and what you think the cause for such error could be. (0.60 points)**  <br>"
      ]
    },
    {
      "cell_type": "code",
      "metadata": {
        "id": "IETuPnl6gyF4"
      },
      "source": [
        "# replaced the missing data with the nan\r\n",
        "data = data.replace('?', np.NaN)"
      ],
      "execution_count": null,
      "outputs": []
    },
    {
      "cell_type": "code",
      "metadata": {
        "colab": {
          "base_uri": "https://localhost:8080/",
          "height": 446
        },
        "id": "bRTvBXh3ippr",
        "outputId": "524a95ec-954f-4e14-e8ea-52a8e9c4d48f"
      },
      "source": [
        "# first thing we need to do is to fix the names of the columns\r\n",
        "data = data.rename(columns = {'capital.gain':'cap_gain', 'capital.loss': 'cap_loss', 'native.country':'nat_country','jobsatisfaction':'sat_rate'}) \r\n",
        "data"
      ],
      "execution_count": null,
      "outputs": [
        {
          "output_type": "execute_result",
          "data": {
            "text/html": [
              "<div>\n",
              "<style scoped>\n",
              "    .dataframe tbody tr th:only-of-type {\n",
              "        vertical-align: middle;\n",
              "    }\n",
              "\n",
              "    .dataframe tbody tr th {\n",
              "        vertical-align: top;\n",
              "    }\n",
              "\n",
              "    .dataframe thead th {\n",
              "        text-align: right;\n",
              "    }\n",
              "</style>\n",
              "<table border=\"1\" class=\"dataframe\">\n",
              "  <thead>\n",
              "    <tr style=\"text-align: right;\">\n",
              "      <th></th>\n",
              "      <th>age</th>\n",
              "      <th>workclass</th>\n",
              "      <th>education</th>\n",
              "      <th>occupation</th>\n",
              "      <th>cap_gain</th>\n",
              "      <th>cap_loss</th>\n",
              "      <th>nat_country</th>\n",
              "      <th>salaries</th>\n",
              "      <th>sat_rate</th>\n",
              "      <th>male</th>\n",
              "      <th>female</th>\n",
              "      <th>gender</th>\n",
              "    </tr>\n",
              "    <tr>\n",
              "      <th>X</th>\n",
              "      <th></th>\n",
              "      <th></th>\n",
              "      <th></th>\n",
              "      <th></th>\n",
              "      <th></th>\n",
              "      <th></th>\n",
              "      <th></th>\n",
              "      <th></th>\n",
              "      <th></th>\n",
              "      <th></th>\n",
              "      <th></th>\n",
              "      <th></th>\n",
              "    </tr>\n",
              "  </thead>\n",
              "  <tbody>\n",
              "    <tr>\n",
              "      <th>0</th>\n",
              "      <td>39</td>\n",
              "      <td>State-gov</td>\n",
              "      <td>Bachelors</td>\n",
              "      <td>Adm-clerical</td>\n",
              "      <td>2174</td>\n",
              "      <td>0</td>\n",
              "      <td>United-States</td>\n",
              "      <td>43136.0</td>\n",
              "      <td>0</td>\n",
              "      <td>1.0</td>\n",
              "      <td>NaN</td>\n",
              "      <td>male</td>\n",
              "    </tr>\n",
              "    <tr>\n",
              "      <th>1</th>\n",
              "      <td>50</td>\n",
              "      <td>Self-emp-not-inc</td>\n",
              "      <td>Bachelors</td>\n",
              "      <td>Exec-managerial</td>\n",
              "      <td>0</td>\n",
              "      <td>0</td>\n",
              "      <td>UnitedStates</td>\n",
              "      <td>46209.0</td>\n",
              "      <td>7</td>\n",
              "      <td>1.0</td>\n",
              "      <td>NaN</td>\n",
              "      <td>male</td>\n",
              "    </tr>\n",
              "    <tr>\n",
              "      <th>2</th>\n",
              "      <td>38</td>\n",
              "      <td>privat</td>\n",
              "      <td>HS-grad</td>\n",
              "      <td>Handlers-cleaners</td>\n",
              "      <td>0</td>\n",
              "      <td>0</td>\n",
              "      <td>United-States</td>\n",
              "      <td>28937.0</td>\n",
              "      <td>6</td>\n",
              "      <td>1.0</td>\n",
              "      <td>NaN</td>\n",
              "      <td>male</td>\n",
              "    </tr>\n",
              "    <tr>\n",
              "      <th>3</th>\n",
              "      <td>53</td>\n",
              "      <td>privat</td>\n",
              "      <td>11th</td>\n",
              "      <td>Handlers-cleaners</td>\n",
              "      <td>0</td>\n",
              "      <td>0</td>\n",
              "      <td>United-States</td>\n",
              "      <td>33658.0</td>\n",
              "      <td>6</td>\n",
              "      <td>1.0</td>\n",
              "      <td>NaN</td>\n",
              "      <td>male</td>\n",
              "    </tr>\n",
              "    <tr>\n",
              "      <th>4</th>\n",
              "      <td>28</td>\n",
              "      <td>privat</td>\n",
              "      <td>Bachelors</td>\n",
              "      <td>Prof-specialty</td>\n",
              "      <td>0</td>\n",
              "      <td>0</td>\n",
              "      <td>Cuba</td>\n",
              "      <td>34372.0</td>\n",
              "      <td>12</td>\n",
              "      <td>NaN</td>\n",
              "      <td>1.0</td>\n",
              "      <td>female</td>\n",
              "    </tr>\n",
              "    <tr>\n",
              "      <th>...</th>\n",
              "      <td>...</td>\n",
              "      <td>...</td>\n",
              "      <td>...</td>\n",
              "      <td>...</td>\n",
              "      <td>...</td>\n",
              "      <td>...</td>\n",
              "      <td>...</td>\n",
              "      <td>...</td>\n",
              "      <td>...</td>\n",
              "      <td>...</td>\n",
              "      <td>...</td>\n",
              "      <td>...</td>\n",
              "    </tr>\n",
              "    <tr>\n",
              "      <th>32556</th>\n",
              "      <td>27</td>\n",
              "      <td>Private</td>\n",
              "      <td>Assoc-acdm</td>\n",
              "      <td>Tech-support</td>\n",
              "      <td>0</td>\n",
              "      <td>0</td>\n",
              "      <td>United-States</td>\n",
              "      <td>21393.0</td>\n",
              "      <td>14</td>\n",
              "      <td>NaN</td>\n",
              "      <td>1.0</td>\n",
              "      <td>female</td>\n",
              "    </tr>\n",
              "    <tr>\n",
              "      <th>32557</th>\n",
              "      <td>40</td>\n",
              "      <td>Private</td>\n",
              "      <td>HS-grad</td>\n",
              "      <td>Machine-op-inspct</td>\n",
              "      <td>0</td>\n",
              "      <td>0</td>\n",
              "      <td>United-States</td>\n",
              "      <td>75199.0</td>\n",
              "      <td>10</td>\n",
              "      <td>1.0</td>\n",
              "      <td>NaN</td>\n",
              "      <td>male</td>\n",
              "    </tr>\n",
              "    <tr>\n",
              "      <th>32558</th>\n",
              "      <td>58</td>\n",
              "      <td>Private</td>\n",
              "      <td>HS-grad</td>\n",
              "      <td>Adm-clerical</td>\n",
              "      <td>0</td>\n",
              "      <td>0</td>\n",
              "      <td>United-States</td>\n",
              "      <td>25603.0</td>\n",
              "      <td>1</td>\n",
              "      <td>NaN</td>\n",
              "      <td>1.0</td>\n",
              "      <td>female</td>\n",
              "    </tr>\n",
              "    <tr>\n",
              "      <th>32559</th>\n",
              "      <td>22</td>\n",
              "      <td>Private</td>\n",
              "      <td>HS-grad</td>\n",
              "      <td>Adm-clerical</td>\n",
              "      <td>0</td>\n",
              "      <td>0</td>\n",
              "      <td>United-States</td>\n",
              "      <td>42138.0</td>\n",
              "      <td>3</td>\n",
              "      <td>1.0</td>\n",
              "      <td>NaN</td>\n",
              "      <td>male</td>\n",
              "    </tr>\n",
              "    <tr>\n",
              "      <th>32560</th>\n",
              "      <td>52</td>\n",
              "      <td>Self-emp-inc</td>\n",
              "      <td>HS-grad</td>\n",
              "      <td>Exec-managerial</td>\n",
              "      <td>15024</td>\n",
              "      <td>0</td>\n",
              "      <td>United-States</td>\n",
              "      <td>71709.0</td>\n",
              "      <td>9</td>\n",
              "      <td>NaN</td>\n",
              "      <td>1.0</td>\n",
              "      <td>female</td>\n",
              "    </tr>\n",
              "  </tbody>\n",
              "</table>\n",
              "<p>32561 rows × 12 columns</p>\n",
              "</div>"
            ],
            "text/plain": [
              "      age         workclass   education  ... male  female  gender\n",
              "X                                        ...                     \n",
              "0      39         State-gov   Bachelors  ...  1.0     NaN    male\n",
              "1      50  Self-emp-not-inc   Bachelors  ...  1.0     NaN    male\n",
              "2      38            privat     HS-grad  ...  1.0     NaN    male\n",
              "3      53            privat        11th  ...  1.0     NaN    male\n",
              "4      28            privat   Bachelors  ...  NaN     1.0  female\n",
              "...    ..               ...         ...  ...  ...     ...     ...\n",
              "32556  27           Private  Assoc-acdm  ...  NaN     1.0  female\n",
              "32557  40           Private     HS-grad  ...  1.0     NaN    male\n",
              "32558  58           Private     HS-grad  ...  NaN     1.0  female\n",
              "32559  22           Private     HS-grad  ...  1.0     NaN    male\n",
              "32560  52      Self-emp-inc     HS-grad  ...  NaN     1.0  female\n",
              "\n",
              "[32561 rows x 12 columns]"
            ]
          },
          "metadata": {
            "tags": []
          },
          "execution_count": 43
        }
      ]
    },
    {
      "cell_type": "code",
      "metadata": {
        "colab": {
          "base_uri": "https://localhost:8080/"
        },
        "id": "xcsBBSf2jA78",
        "outputId": "657f72cb-a459-45d7-8337-a931f2aa8001"
      },
      "source": [
        "# then we need to check for the columns data types to know how we will handle each column\r\n",
        "data.dtypes"
      ],
      "execution_count": null,
      "outputs": [
        {
          "output_type": "execute_result",
          "data": {
            "text/plain": [
              "age             object\n",
              "workclass       object\n",
              "education       object\n",
              "occupation      object\n",
              "cap_gain         int64\n",
              "cap_loss         int64\n",
              "nat_country     object\n",
              "salaries       float64\n",
              "sat_rate        object\n",
              "male           float64\n",
              "female         float64\n",
              "gender          object\n",
              "dtype: object"
            ]
          },
          "metadata": {
            "tags": []
          },
          "execution_count": 44
        }
      ]
    },
    {
      "cell_type": "code",
      "metadata": {
        "id": "f2plfk3GjIgn"
      },
      "source": [
        "# I will conivert the age datatype from string to int because the age shouldn't be a string\r\n",
        "data.age = pd.to_numeric(data.age, errors='coerce')\r\n",
        "data.sat_rate = pd.to_numeric(data.sat_rate, errors='coerce')"
      ],
      "execution_count": null,
      "outputs": []
    },
    {
      "cell_type": "code",
      "metadata": {
        "colab": {
          "base_uri": "https://localhost:8080/"
        },
        "id": "mqElymUxnbaL",
        "outputId": "4f83bcfb-f6c4-472f-c112-5e1ea6baac67"
      },
      "source": [
        "# checking to make sure everyting is OK\r\n",
        "data.dtypes"
      ],
      "execution_count": null,
      "outputs": [
        {
          "output_type": "execute_result",
          "data": {
            "text/plain": [
              "age            float64\n",
              "workclass       object\n",
              "education       object\n",
              "occupation      object\n",
              "cap_gain         int64\n",
              "cap_loss         int64\n",
              "nat_country     object\n",
              "salaries       float64\n",
              "sat_rate       float64\n",
              "male           float64\n",
              "female         float64\n",
              "gender          object\n",
              "dtype: object"
            ]
          },
          "metadata": {
            "tags": []
          },
          "execution_count": 46
        }
      ]
    },
    {
      "cell_type": "code",
      "metadata": {
        "id": "xzr9uEAHodpi"
      },
      "source": [
        "# Now I'm droping both the male and female columns because both of them are not needed and replaced with the gender column\r\n",
        "data = data.drop(columns=['female', 'male'])"
      ],
      "execution_count": null,
      "outputs": []
    },
    {
      "cell_type": "code",
      "metadata": {
        "colab": {
          "base_uri": "https://localhost:8080/"
        },
        "id": "S6iwW9ixpJAm",
        "outputId": "859b18f6-cec4-431d-f1f8-8df771d5840d"
      },
      "source": [
        "# checking to see the nan values that we replaced the missing values with\r\n",
        "data.isnull().sum()"
      ],
      "execution_count": null,
      "outputs": [
        {
          "output_type": "execute_result",
          "data": {
            "text/plain": [
              "age              97\n",
              "workclass      1836\n",
              "education         0\n",
              "occupation     1843\n",
              "cap_gain          0\n",
              "cap_loss          0\n",
              "nat_country     583\n",
              "salaries          0\n",
              "sat_rate          1\n",
              "gender            0\n",
              "dtype: int64"
            ]
          },
          "metadata": {
            "tags": []
          },
          "execution_count": 48
        }
      ]
    },
    {
      "cell_type": "code",
      "metadata": {
        "id": "_dc9jRu7pfLv"
      },
      "source": [
        "# removing all the nan values\r\n",
        "\r\n",
        "data = data.dropna(subset = ['age','workclass','occupation','nat_country','sat_rate'])"
      ],
      "execution_count": null,
      "outputs": []
    },
    {
      "cell_type": "code",
      "metadata": {
        "colab": {
          "base_uri": "https://localhost:8080/"
        },
        "id": "n6vz27iOpzN7",
        "outputId": "b3303cd1-faed-4e61-858d-b73a1f3084b7"
      },
      "source": [
        "# checking to see if we removed all the nan values\r\n",
        "data.isnull().sum()"
      ],
      "execution_count": null,
      "outputs": [
        {
          "output_type": "execute_result",
          "data": {
            "text/plain": [
              "age            0\n",
              "workclass      0\n",
              "education      0\n",
              "occupation     0\n",
              "cap_gain       0\n",
              "cap_loss       0\n",
              "nat_country    0\n",
              "salaries       0\n",
              "sat_rate       0\n",
              "gender         0\n",
              "dtype: int64"
            ]
          },
          "metadata": {
            "tags": []
          },
          "execution_count": 50
        }
      ]
    },
    {
      "cell_type": "code",
      "metadata": {
        "colab": {
          "base_uri": "https://localhost:8080/"
        },
        "id": "cCTVemTaqOdS",
        "outputId": "93c1b119-9420-43cb-b6b0-48a01c5bcb74"
      },
      "source": [
        "# checking the age column to see if there's any values equal to 0 or less \r\n",
        "(data.age <= 0).sum()"
      ],
      "execution_count": null,
      "outputs": [
        {
          "output_type": "execute_result",
          "data": {
            "text/plain": [
              "1"
            ]
          },
          "metadata": {
            "tags": []
          },
          "execution_count": 51
        }
      ]
    },
    {
      "cell_type": "code",
      "metadata": {
        "id": "S4cHy3XoqgAZ"
      },
      "source": [
        "# specifying that we only need the values larger than 0\r\n",
        "data.age = data.age > 0"
      ],
      "execution_count": null,
      "outputs": []
    },
    {
      "cell_type": "code",
      "metadata": {
        "colab": {
          "base_uri": "https://localhost:8080/"
        },
        "id": "-qJ09fOSqq_V",
        "outputId": "43e5c217-73f9-4337-c64c-c094d9e2a8c6"
      },
      "source": [
        "# checking the values in the workclass column. we already cleaned the values from all the nan and leading and trailing whitespaces but now we will check the indexes\r\n",
        "data.workclass.value_counts()\r\n",
        "# we see a typo that we need to clean in the Private and privat indexes"
      ],
      "execution_count": null,
      "outputs": [
        {
          "output_type": "execute_result",
          "data": {
            "text/plain": [
              "Private             22232\n",
              "Self-emp-not-inc     2490\n",
              "Local-gov            2060\n",
              "State-gov            1260\n",
              "Self-emp-inc         1067\n",
              "Federal-gov           940\n",
              "Without-pay            14\n",
              "privat                 10\n",
              "Name: workclass, dtype: int64"
            ]
          },
          "metadata": {
            "tags": []
          },
          "execution_count": 53
        }
      ]
    },
    {
      "cell_type": "code",
      "metadata": {
        "id": "wzrB733grM5i"
      },
      "source": [
        "data.workclass = data.workclass.replace(['privat'], ['Private'])"
      ],
      "execution_count": null,
      "outputs": []
    },
    {
      "cell_type": "code",
      "metadata": {
        "colab": {
          "base_uri": "https://localhost:8080/"
        },
        "id": "PbMjNQx4s7MS",
        "outputId": "92e89379-50f1-4325-924f-1e282e9e2aa5"
      },
      "source": [
        "# typo fixed!\r\n",
        "data.workclass.value_counts()"
      ],
      "execution_count": null,
      "outputs": [
        {
          "output_type": "execute_result",
          "data": {
            "text/plain": [
              "Private             22242\n",
              "Self-emp-not-inc     2490\n",
              "Local-gov            2060\n",
              "State-gov            1260\n",
              "Self-emp-inc         1067\n",
              "Federal-gov           940\n",
              "Without-pay            14\n",
              "Name: workclass, dtype: int64"
            ]
          },
          "metadata": {
            "tags": []
          },
          "execution_count": 55
        }
      ]
    },
    {
      "cell_type": "code",
      "metadata": {
        "colab": {
          "base_uri": "https://localhost:8080/"
        },
        "id": "8kP4p0lxtQ1i",
        "outputId": "0922fc86-a5e1-4129-b0e6-79d882b569b3"
      },
      "source": [
        "# Now we will work on the education column\r\n",
        "data.education.value_counts()\r\n",
        "# I can't see any problems in this column so I will leave it as it is."
      ],
      "execution_count": null,
      "outputs": [
        {
          "output_type": "execute_result",
          "data": {
            "text/plain": [
              "HS-grad         9839\n",
              "Some-college    6678\n",
              "Bachelors       5044\n",
              "Masters         1627\n",
              "Assoc-voc       1307\n",
              "11th            1048\n",
              "Assoc-acdm      1008\n",
              "10th             820\n",
              "7th-8th          557\n",
              "Prof-school      542\n",
              "9th              455\n",
              "12th             377\n",
              "5th-6th          288\n",
              "Doctorate        287\n",
              "1st-4th          151\n",
              "Preschool         45\n",
              "Name: education, dtype: int64"
            ]
          },
          "metadata": {
            "tags": []
          },
          "execution_count": 56
        }
      ]
    },
    {
      "cell_type": "code",
      "metadata": {
        "colab": {
          "base_uri": "https://localhost:8080/"
        },
        "id": "Jrvn4NpXtp3T",
        "outputId": "9e85f29d-8aa3-487c-a155-c24a3f1663dd"
      },
      "source": [
        "# Now we will work on the occupation column\r\n",
        "data.occupation.value_counts()\r\n",
        "# I also can't see any problems in this column."
      ],
      "execution_count": null,
      "outputs": [
        {
          "output_type": "execute_result",
          "data": {
            "text/plain": [
              "Craft-repair         4030\n",
              "Exec-managerial      3977\n",
              "Prof-specialty       3971\n",
              "Adm-clerical         3719\n",
              "Sales                3581\n",
              "Other-service        3212\n",
              "Machine-op-inspct    1965\n",
              "Transport-moving     1572\n",
              "Handlers-cleaners    1350\n",
              "Farming-fishing       989\n",
              "Tech-support          911\n",
              "Protective-serv       644\n",
              "Priv-house-serv       143\n",
              "Armed-Forces            9\n",
              "Name: occupation, dtype: int64"
            ]
          },
          "metadata": {
            "tags": []
          },
          "execution_count": 57
        }
      ]
    },
    {
      "cell_type": "code",
      "metadata": {
        "colab": {
          "base_uri": "https://localhost:8080/"
        },
        "id": "sXZdsEE2tyvg",
        "outputId": "864484e3-5816-4017-e970-dcd52c7ae370"
      },
      "source": [
        "# Now to the capital gain column. we already handled the nan values and it's a numeric column so the only thing left is to check whether it has negative values or not\r\n",
        "(data.cap_gain < 0).sum()"
      ],
      "execution_count": null,
      "outputs": [
        {
          "output_type": "execute_result",
          "data": {
            "text/plain": [
              "0"
            ]
          },
          "metadata": {
            "tags": []
          },
          "execution_count": 58
        }
      ]
    },
    {
      "cell_type": "code",
      "metadata": {
        "colab": {
          "base_uri": "https://localhost:8080/"
        },
        "id": "ef9V2dIGuPxo",
        "outputId": "0dbde601-6195-4777-c68e-9bf597c270d1"
      },
      "source": [
        "# Now to the capital loss column. same happens here\r\n",
        "(data.cap_loss < 0).sum()"
      ],
      "execution_count": null,
      "outputs": [
        {
          "output_type": "execute_result",
          "data": {
            "text/plain": [
              "0"
            ]
          },
          "metadata": {
            "tags": []
          },
          "execution_count": 59
        }
      ]
    },
    {
      "cell_type": "code",
      "metadata": {
        "colab": {
          "base_uri": "https://localhost:8080/"
        },
        "id": "ZW68gT9Oua0e",
        "outputId": "645d953e-8464-4634-edca-f3a7e33b3092"
      },
      "source": [
        "# regarding the nationality column we already checked the nan and missing values so now we will check for the indexs and typos\r\n",
        "data.nat_country.value_counts()"
      ],
      "execution_count": null,
      "outputs": [
        {
          "output_type": "execute_result",
          "data": {
            "text/plain": [
              "United-States                 25763\n",
              "Unitedstates                    843\n",
              "UnitedStates                    828\n",
              "Mexico                          609\n",
              "Philippines                     188\n",
              "Germany                         123\n",
              "Puerto-Rico                     109\n",
              "Canada                          107\n",
              "El-Salvador                     100\n",
              "India                            98\n",
              "Cuba                             92\n",
              "England                          85\n",
              "Jamaica                          80\n",
              "South                            71\n",
              "Dominican-Republic               67\n",
              "Italy                            67\n",
              "China                            66\n",
              "Vietnam                          63\n",
              "Guatemala                        63\n",
              "Japan                            58\n",
              "Columbia                         56\n",
              "Poland                           56\n",
              "Haiti                            42\n",
              "Iran                             41\n",
              "Taiwan                           40\n",
              "Portugal                         34\n",
              "Nicaragua                        33\n",
              "Peru                             30\n",
              "Greece                           29\n",
              "Ecuador                          27\n",
              "France                           26\n",
              "Ireland                          24\n",
              "Trinadad&Tobago                  18\n",
              "Cambodia                         18\n",
              "Hong                             18\n",
              "Laos                             17\n",
              "Thailand                         17\n",
              "Yugoslavia                       16\n",
              "Outlying-US(Guam-USVI-etc)       14\n",
              "Hungary                          13\n",
              "Honduras                         12\n",
              "Scotland                         11\n",
              "Holand-Netherlands                1\n",
              "Name: nat_country, dtype: int64"
            ]
          },
          "metadata": {
            "tags": []
          },
          "execution_count": 60
        }
      ]
    },
    {
      "cell_type": "code",
      "metadata": {
        "id": "QbYV1swSvp9r"
      },
      "source": [
        "# here we are fixing the typos \r\n",
        "data.nat_country = data.nat_country.replace(['Unitedstates', 'UnitedStates','Outlying-US(Guam-USVI-etc)','Hong'], ['United-States','United-States','United-States','hong-kong'])\r\n"
      ],
      "execution_count": null,
      "outputs": []
    },
    {
      "cell_type": "code",
      "metadata": {
        "id": "yUwlD1zVxBIs"
      },
      "source": [
        "# then we are dropping the index south because it's meaningless in the dataset. what's south? south africa, south korea? \r\n",
        "data.nat_country = data.nat_country.value_counts().drop(data.nat_country.value_counts().index[11])"
      ],
      "execution_count": null,
      "outputs": []
    },
    {
      "cell_type": "code",
      "metadata": {
        "colab": {
          "base_uri": "https://localhost:8080/"
        },
        "id": "1-qs93CeyM5d",
        "outputId": "1ba9ca6b-c0c4-4d77-95fa-f4e869d211a2"
      },
      "source": [
        "# Now we are going to check the salaries coulmn. we already turned it into numeric values, removed the missing values, nans so what's left is to check any negative values.\r\n",
        "(data.salaries <= 0).sum()\r\n",
        "# since there's no zero or negative values then there's nothing to be done here"
      ],
      "execution_count": null,
      "outputs": [
        {
          "output_type": "execute_result",
          "data": {
            "text/plain": [
              "0"
            ]
          },
          "metadata": {
            "tags": []
          },
          "execution_count": 63
        }
      ]
    },
    {
      "cell_type": "code",
      "metadata": {
        "colab": {
          "base_uri": "https://localhost:8080/"
        },
        "id": "HzLYysvtyspW",
        "outputId": "3247cacc-0c5f-40eb-9250-7be069285f81"
      },
      "source": [
        "# Then we will check the job satisfaction rate column. we won't check the zero values here because the zero value actually has meaning here(the level of satisfaction is 0) so we only going to check the negative\r\n",
        "# values since we already checked the missing and nan values in previous steps.\r\n",
        "(data.sat_rate < 0).sum()\r\n",
        "# there's no negative values so we won't do anything here"
      ],
      "execution_count": null,
      "outputs": [
        {
          "output_type": "execute_result",
          "data": {
            "text/plain": [
              "0"
            ]
          },
          "metadata": {
            "tags": []
          },
          "execution_count": 64
        }
      ]
    },
    {
      "cell_type": "code",
      "metadata": {
        "colab": {
          "base_uri": "https://localhost:8080/"
        },
        "id": "Doc_IryLzbB2",
        "outputId": "48ee6812-82a9-4489-83ff-8172e56e1162"
      },
      "source": [
        "# Finally the gender column which we created\r\n",
        "data.gender.isnull().sum() \r\n",
        "# There's no null values and the column values are actully generated by us so we don't need to recheck them"
      ],
      "execution_count": null,
      "outputs": [
        {
          "output_type": "execute_result",
          "data": {
            "text/plain": [
              "0"
            ]
          },
          "metadata": {
            "tags": []
          },
          "execution_count": 65
        }
      ]
    },
    {
      "cell_type": "markdown",
      "metadata": {
        "id": "rsO6f0E3gyF6"
      },
      "source": [
        "**<font color='red'>Answer: The answer is above as a comment in each cell where i explained in details the steps. to recap, I converted the missing values into a nan values then dropped all the nan values, then I checked each columns data type to be able to handle it accordingly, then I removed the trailing and leading spaces from every column in the dataset to make it cleaner, then I checked each column at time to handle the anolmys:\r\n",
        "</font>** \r\n",
        "\r\n",
        "*   for the age column we cleaned it by converting it to numeric values, checking and removing the zero and negative values\r\n",
        "*   for the workclass column we fixed the typos in the privare class and we already handled the missing values\r\n",
        "*   for the education and occuption columns after removing the missing values there was nothing to do\r\n",
        "*   in the capital gain and loss columns after removing the missing values there was nothing to do since they are already numric column\r\n",
        "*   in the native country column we already removed the missing values so we started to fix the typos and added the many versions of the united states into one meaningful record, we also added the outlying-us(guam-usvi-etc) record to it since it's under the us constitution, fixed the hong record and dropped the south record since it's meaningless in the daaset.\r\n",
        "*   for the salaries and satisfaction rates we checked for zero and negative values but we kept the zero values in the job satisfaction column since it's actully meaningful in this case.\r\n",
        "*   finally, we dropped the male and female columns since we already have the gender column which is generated from both of them and have more meaning that having two separate columns.\r\n"
      ]
    },
    {
      "cell_type": "markdown",
      "metadata": {
        "id": "BRZ8piLMgyF6"
      },
      "source": [
        "**3.3. Count the rows which were changed in the subtask 3.2 (0.30 points)** <br>"
      ]
    },
    {
      "cell_type": "code",
      "metadata": {
        "id": "MeyNTYLegyF8",
        "scrolled": true,
        "colab": {
          "base_uri": "https://localhost:8080/"
        },
        "outputId": "527bdf9d-4059-4dd1-97a7-f2b4b1af9857"
      },
      "source": [
        "data_all = pd.concat([original_data, data]).drop_duplicates()\n",
        "diff = data_all.shape[0] - data.shape[0]\n",
        "print ('Difference: ' + str(diff))"
      ],
      "execution_count": null,
      "outputs": [
        {
          "output_type": "stream",
          "text": [
            "Difference: 32546\n"
          ],
          "name": "stdout"
        }
      ]
    },
    {
      "cell_type": "markdown",
      "metadata": {
        "id": "FLjQtWwygyF-"
      },
      "source": [
        "**<font color='red'>Answer: There were 32546 affected rows</font>** "
      ]
    },
    {
      "cell_type": "markdown",
      "metadata": {
        "id": "SMz9X0figyF_"
      },
      "source": [
        "**3.4. Report values that look suspicious. By suspicious we mean that you are not sure if those values are wrong or right. (0.30 points)** <br> "
      ]
    },
    {
      "cell_type": "markdown",
      "metadata": {
        "id": "_07BDDEJgyF_"
      },
      "source": [
        "**<font color='red'>Answer: The only values that I might look suspicious are the captial loss and capital gain. All the other values I have managed to properly handle it.</font>** "
      ]
    },
    {
      "cell_type": "markdown",
      "metadata": {
        "id": "W9KyP9U8gyGB"
      },
      "source": [
        "# 4.  Exploring dataset (1.5 points)"
      ]
    },
    {
      "cell_type": "markdown",
      "metadata": {
        "id": "srZFaEN4gyGB"
      },
      "source": [
        "Gathering interesting facts about the `adult.csv` through visualization without complex data analysis."
      ]
    },
    {
      "cell_type": "markdown",
      "metadata": {
        "id": "pRkB8hD3gyGB"
      },
      "source": [
        "**4.1. Convert the attribute `Education` into type `category` and introduce the order for this attribute based on the education level (e.g. Masters is higher education than Bachelors; use your best guess in ordering those levels for which the order is not obvious). Create a bar chart visualising the relative frequencies of values. (0.5 Points)**"
      ]
    },
    {
      "cell_type": "code",
      "metadata": {
        "colab": {
          "base_uri": "https://localhost:8080/"
        },
        "id": "WnbEYNR5hv2A",
        "outputId": "02928ba2-8abf-4059-8823-3d0e01a08bb0"
      },
      "source": [
        "data.education.value_counts()"
      ],
      "execution_count": null,
      "outputs": [
        {
          "output_type": "execute_result",
          "data": {
            "text/plain": [
              "HS-grad         9839\n",
              "Some-college    6678\n",
              "Bachelors       5044\n",
              "Masters         1627\n",
              "Assoc-voc       1307\n",
              "11th            1048\n",
              "Assoc-acdm      1008\n",
              "10th             820\n",
              "7th-8th          557\n",
              "Prof-school      542\n",
              "9th              455\n",
              "12th             377\n",
              "5th-6th          288\n",
              "Doctorate        287\n",
              "1st-4th          151\n",
              "Preschool         45\n",
              "Name: education, dtype: int64"
            ]
          },
          "metadata": {
            "tags": []
          },
          "execution_count": 82
        }
      ]
    },
    {
      "cell_type": "code",
      "metadata": {
        "id": "jOk7vRjXgyGC",
        "colab": {
          "base_uri": "https://localhost:8080/",
          "height": 446
        },
        "outputId": "d5cff888-fcf0-47cd-897f-54fcb2b876d5"
      },
      "source": [
        "data.education = data.education.astype('category')\r\n",
        "data.education = data.education.rename(columns = {'':'cap_gain', 'capital.loss': 'cap_loss', 'native.country':'nat_country','jobsatisfaction':'sat_rate'}) \r\n",
        "# .replace(['Unitedstates', 'UnitedStates','Outlying-US(Guam-USVI-e   tc)','Hong'], ['United-States','United-States','United-States','hong-kong'])"
      ],
      "execution_count": null,
      "outputs": [
        {
          "output_type": "execute_result",
          "data": {
            "text/html": [
              "<div>\n",
              "<style scoped>\n",
              "    .dataframe tbody tr th:only-of-type {\n",
              "        vertical-align: middle;\n",
              "    }\n",
              "\n",
              "    .dataframe tbody tr th {\n",
              "        vertical-align: top;\n",
              "    }\n",
              "\n",
              "    .dataframe thead th {\n",
              "        text-align: right;\n",
              "    }\n",
              "</style>\n",
              "<table border=\"1\" class=\"dataframe\">\n",
              "  <thead>\n",
              "    <tr style=\"text-align: right;\">\n",
              "      <th></th>\n",
              "      <th>age</th>\n",
              "      <th>workclass</th>\n",
              "      <th>education</th>\n",
              "      <th>occupation</th>\n",
              "      <th>cap_gain</th>\n",
              "      <th>cap_loss</th>\n",
              "      <th>nat_country</th>\n",
              "      <th>salaries</th>\n",
              "      <th>sat_rate</th>\n",
              "      <th>gender</th>\n",
              "    </tr>\n",
              "    <tr>\n",
              "      <th>X</th>\n",
              "      <th></th>\n",
              "      <th></th>\n",
              "      <th></th>\n",
              "      <th></th>\n",
              "      <th></th>\n",
              "      <th></th>\n",
              "      <th></th>\n",
              "      <th></th>\n",
              "      <th></th>\n",
              "      <th></th>\n",
              "    </tr>\n",
              "  </thead>\n",
              "  <tbody>\n",
              "    <tr>\n",
              "      <th>0</th>\n",
              "      <td>True</td>\n",
              "      <td>State-gov</td>\n",
              "      <td>Bachelors</td>\n",
              "      <td>Adm-clerical</td>\n",
              "      <td>2174</td>\n",
              "      <td>0</td>\n",
              "      <td>NaN</td>\n",
              "      <td>43136.0</td>\n",
              "      <td>0.0</td>\n",
              "      <td>male</td>\n",
              "    </tr>\n",
              "    <tr>\n",
              "      <th>1</th>\n",
              "      <td>True</td>\n",
              "      <td>Self-emp-not-inc</td>\n",
              "      <td>Bachelors</td>\n",
              "      <td>Exec-managerial</td>\n",
              "      <td>0</td>\n",
              "      <td>0</td>\n",
              "      <td>NaN</td>\n",
              "      <td>46209.0</td>\n",
              "      <td>7.0</td>\n",
              "      <td>male</td>\n",
              "    </tr>\n",
              "    <tr>\n",
              "      <th>2</th>\n",
              "      <td>True</td>\n",
              "      <td>Private</td>\n",
              "      <td>HS-grad</td>\n",
              "      <td>Handlers-cleaners</td>\n",
              "      <td>0</td>\n",
              "      <td>0</td>\n",
              "      <td>NaN</td>\n",
              "      <td>28937.0</td>\n",
              "      <td>6.0</td>\n",
              "      <td>male</td>\n",
              "    </tr>\n",
              "    <tr>\n",
              "      <th>3</th>\n",
              "      <td>True</td>\n",
              "      <td>Private</td>\n",
              "      <td>11th</td>\n",
              "      <td>Handlers-cleaners</td>\n",
              "      <td>0</td>\n",
              "      <td>0</td>\n",
              "      <td>NaN</td>\n",
              "      <td>33658.0</td>\n",
              "      <td>6.0</td>\n",
              "      <td>male</td>\n",
              "    </tr>\n",
              "    <tr>\n",
              "      <th>4</th>\n",
              "      <td>True</td>\n",
              "      <td>Private</td>\n",
              "      <td>Bachelors</td>\n",
              "      <td>Prof-specialty</td>\n",
              "      <td>0</td>\n",
              "      <td>0</td>\n",
              "      <td>NaN</td>\n",
              "      <td>34372.0</td>\n",
              "      <td>12.0</td>\n",
              "      <td>female</td>\n",
              "    </tr>\n",
              "    <tr>\n",
              "      <th>...</th>\n",
              "      <td>...</td>\n",
              "      <td>...</td>\n",
              "      <td>...</td>\n",
              "      <td>...</td>\n",
              "      <td>...</td>\n",
              "      <td>...</td>\n",
              "      <td>...</td>\n",
              "      <td>...</td>\n",
              "      <td>...</td>\n",
              "      <td>...</td>\n",
              "    </tr>\n",
              "    <tr>\n",
              "      <th>32556</th>\n",
              "      <td>True</td>\n",
              "      <td>Private</td>\n",
              "      <td>Assoc-acdm</td>\n",
              "      <td>Tech-support</td>\n",
              "      <td>0</td>\n",
              "      <td>0</td>\n",
              "      <td>NaN</td>\n",
              "      <td>21393.0</td>\n",
              "      <td>14.0</td>\n",
              "      <td>female</td>\n",
              "    </tr>\n",
              "    <tr>\n",
              "      <th>32557</th>\n",
              "      <td>True</td>\n",
              "      <td>Private</td>\n",
              "      <td>HS-grad</td>\n",
              "      <td>Machine-op-inspct</td>\n",
              "      <td>0</td>\n",
              "      <td>0</td>\n",
              "      <td>NaN</td>\n",
              "      <td>75199.0</td>\n",
              "      <td>10.0</td>\n",
              "      <td>male</td>\n",
              "    </tr>\n",
              "    <tr>\n",
              "      <th>32558</th>\n",
              "      <td>True</td>\n",
              "      <td>Private</td>\n",
              "      <td>HS-grad</td>\n",
              "      <td>Adm-clerical</td>\n",
              "      <td>0</td>\n",
              "      <td>0</td>\n",
              "      <td>NaN</td>\n",
              "      <td>25603.0</td>\n",
              "      <td>1.0</td>\n",
              "      <td>female</td>\n",
              "    </tr>\n",
              "    <tr>\n",
              "      <th>32559</th>\n",
              "      <td>True</td>\n",
              "      <td>Private</td>\n",
              "      <td>HS-grad</td>\n",
              "      <td>Adm-clerical</td>\n",
              "      <td>0</td>\n",
              "      <td>0</td>\n",
              "      <td>NaN</td>\n",
              "      <td>42138.0</td>\n",
              "      <td>3.0</td>\n",
              "      <td>male</td>\n",
              "    </tr>\n",
              "    <tr>\n",
              "      <th>32560</th>\n",
              "      <td>True</td>\n",
              "      <td>Self-emp-inc</td>\n",
              "      <td>HS-grad</td>\n",
              "      <td>Exec-managerial</td>\n",
              "      <td>15024</td>\n",
              "      <td>0</td>\n",
              "      <td>NaN</td>\n",
              "      <td>71709.0</td>\n",
              "      <td>9.0</td>\n",
              "      <td>female</td>\n",
              "    </tr>\n",
              "  </tbody>\n",
              "</table>\n",
              "<p>30073 rows × 10 columns</p>\n",
              "</div>"
            ],
            "text/plain": [
              "        age         workclass   education  ... salaries  sat_rate  gender\n",
              "X                                          ...                           \n",
              "0      True         State-gov   Bachelors  ...  43136.0       0.0    male\n",
              "1      True  Self-emp-not-inc   Bachelors  ...  46209.0       7.0    male\n",
              "2      True           Private     HS-grad  ...  28937.0       6.0    male\n",
              "3      True           Private        11th  ...  33658.0       6.0    male\n",
              "4      True           Private   Bachelors  ...  34372.0      12.0  female\n",
              "...     ...               ...         ...  ...      ...       ...     ...\n",
              "32556  True           Private  Assoc-acdm  ...  21393.0      14.0  female\n",
              "32557  True           Private     HS-grad  ...  75199.0      10.0    male\n",
              "32558  True           Private     HS-grad  ...  25603.0       1.0  female\n",
              "32559  True           Private     HS-grad  ...  42138.0       3.0    male\n",
              "32560  True      Self-emp-inc     HS-grad  ...  71709.0       9.0  female\n",
              "\n",
              "[30073 rows x 10 columns]"
            ]
          },
          "metadata": {
            "tags": []
          },
          "execution_count": 81
        }
      ]
    },
    {
      "cell_type": "code",
      "metadata": {
        "colab": {
          "base_uri": "https://localhost:8080/",
          "height": 420
        },
        "id": "u-Km6Eq0Wh_t",
        "outputId": "28ddc4d5-7e1b-47bc-e184-734f04769e62"
      },
      "source": [
        "import pandas as pd\n",
        "import numpy as np\n",
        "from pandas.api.types import CategoricalDtype\n",
        "import matplotlib.pyplot as plt\n",
        "import seaborn as sns\n",
        "\n",
        "# Import the dataset\n",
        "df = pd.read_csv('https://raw.githubusercontent.com/RewanEmam/Customer-Segmentation-files/main/adult.csv',sep='\\t', index_col=0)\n",
        "df"
      ],
      "execution_count": null,
      "outputs": [
        {
          "output_type": "execute_result",
          "data": {
            "text/html": [
              "<div>\n",
              "<style scoped>\n",
              "    .dataframe tbody tr th:only-of-type {\n",
              "        vertical-align: middle;\n",
              "    }\n",
              "\n",
              "    .dataframe tbody tr th {\n",
              "        vertical-align: top;\n",
              "    }\n",
              "\n",
              "    .dataframe thead th {\n",
              "        text-align: right;\n",
              "    }\n",
              "</style>\n",
              "<table border=\"1\" class=\"dataframe\">\n",
              "  <thead>\n",
              "    <tr style=\"text-align: right;\">\n",
              "      <th></th>\n",
              "      <th>age</th>\n",
              "      <th>workclass</th>\n",
              "      <th>education</th>\n",
              "      <th>occupation</th>\n",
              "      <th>capital.gain</th>\n",
              "      <th>capital.loss</th>\n",
              "      <th>native.country</th>\n",
              "      <th>salaries</th>\n",
              "      <th>jobsatisfaction</th>\n",
              "      <th>male</th>\n",
              "      <th>female</th>\n",
              "    </tr>\n",
              "    <tr>\n",
              "      <th>X</th>\n",
              "      <th></th>\n",
              "      <th></th>\n",
              "      <th></th>\n",
              "      <th></th>\n",
              "      <th></th>\n",
              "      <th></th>\n",
              "      <th></th>\n",
              "      <th></th>\n",
              "      <th></th>\n",
              "      <th></th>\n",
              "      <th></th>\n",
              "    </tr>\n",
              "  </thead>\n",
              "  <tbody>\n",
              "    <tr>\n",
              "      <th>0</th>\n",
              "      <td>39</td>\n",
              "      <td>State-gov</td>\n",
              "      <td>Bachelors</td>\n",
              "      <td>Adm-clerical</td>\n",
              "      <td>2174</td>\n",
              "      <td>0</td>\n",
              "      <td>United-States</td>\n",
              "      <td>43136.0</td>\n",
              "      <td>0</td>\n",
              "      <td>1.0</td>\n",
              "      <td>NaN</td>\n",
              "    </tr>\n",
              "    <tr>\n",
              "      <th>1</th>\n",
              "      <td>50</td>\n",
              "      <td>Self-emp-not-inc</td>\n",
              "      <td>Bachelors</td>\n",
              "      <td>Exec-managerial</td>\n",
              "      <td>0</td>\n",
              "      <td>0</td>\n",
              "      <td>UnitedStates</td>\n",
              "      <td>46209.0</td>\n",
              "      <td>7</td>\n",
              "      <td>1.0</td>\n",
              "      <td>NaN</td>\n",
              "    </tr>\n",
              "    <tr>\n",
              "      <th>2</th>\n",
              "      <td>38</td>\n",
              "      <td>privat</td>\n",
              "      <td>HS-grad</td>\n",
              "      <td>Handlers-cleaners</td>\n",
              "      <td>0</td>\n",
              "      <td>0</td>\n",
              "      <td>United-States</td>\n",
              "      <td>28937.0</td>\n",
              "      <td>6</td>\n",
              "      <td>1.0</td>\n",
              "      <td>NaN</td>\n",
              "    </tr>\n",
              "    <tr>\n",
              "      <th>3</th>\n",
              "      <td>53</td>\n",
              "      <td>privat</td>\n",
              "      <td>11th</td>\n",
              "      <td>Handlers-cleaners</td>\n",
              "      <td>0</td>\n",
              "      <td>0</td>\n",
              "      <td>United-States</td>\n",
              "      <td>33658.0</td>\n",
              "      <td>6</td>\n",
              "      <td>1.0</td>\n",
              "      <td>NaN</td>\n",
              "    </tr>\n",
              "    <tr>\n",
              "      <th>4</th>\n",
              "      <td>28</td>\n",
              "      <td>privat</td>\n",
              "      <td>Bachelors</td>\n",
              "      <td>Prof-specialty</td>\n",
              "      <td>0</td>\n",
              "      <td>0</td>\n",
              "      <td>Cuba</td>\n",
              "      <td>34372.0</td>\n",
              "      <td>12</td>\n",
              "      <td>NaN</td>\n",
              "      <td>1.0</td>\n",
              "    </tr>\n",
              "    <tr>\n",
              "      <th>...</th>\n",
              "      <td>...</td>\n",
              "      <td>...</td>\n",
              "      <td>...</td>\n",
              "      <td>...</td>\n",
              "      <td>...</td>\n",
              "      <td>...</td>\n",
              "      <td>...</td>\n",
              "      <td>...</td>\n",
              "      <td>...</td>\n",
              "      <td>...</td>\n",
              "      <td>...</td>\n",
              "    </tr>\n",
              "    <tr>\n",
              "      <th>32556</th>\n",
              "      <td>27</td>\n",
              "      <td>Private</td>\n",
              "      <td>Assoc-acdm</td>\n",
              "      <td>Tech-support</td>\n",
              "      <td>0</td>\n",
              "      <td>0</td>\n",
              "      <td>United-States</td>\n",
              "      <td>21393.0</td>\n",
              "      <td>14</td>\n",
              "      <td>NaN</td>\n",
              "      <td>1.0</td>\n",
              "    </tr>\n",
              "    <tr>\n",
              "      <th>32557</th>\n",
              "      <td>40</td>\n",
              "      <td>Private</td>\n",
              "      <td>HS-grad</td>\n",
              "      <td>Machine-op-inspct</td>\n",
              "      <td>0</td>\n",
              "      <td>0</td>\n",
              "      <td>United-States</td>\n",
              "      <td>75199.0</td>\n",
              "      <td>10</td>\n",
              "      <td>1.0</td>\n",
              "      <td>NaN</td>\n",
              "    </tr>\n",
              "    <tr>\n",
              "      <th>32558</th>\n",
              "      <td>58</td>\n",
              "      <td>Private</td>\n",
              "      <td>HS-grad</td>\n",
              "      <td>Adm-clerical</td>\n",
              "      <td>0</td>\n",
              "      <td>0</td>\n",
              "      <td>United-States</td>\n",
              "      <td>25603.0</td>\n",
              "      <td>1</td>\n",
              "      <td>NaN</td>\n",
              "      <td>1.0</td>\n",
              "    </tr>\n",
              "    <tr>\n",
              "      <th>32559</th>\n",
              "      <td>22</td>\n",
              "      <td>Private</td>\n",
              "      <td>HS-grad</td>\n",
              "      <td>Adm-clerical</td>\n",
              "      <td>0</td>\n",
              "      <td>0</td>\n",
              "      <td>United-States</td>\n",
              "      <td>42138.0</td>\n",
              "      <td>3</td>\n",
              "      <td>1.0</td>\n",
              "      <td>NaN</td>\n",
              "    </tr>\n",
              "    <tr>\n",
              "      <th>32560</th>\n",
              "      <td>52</td>\n",
              "      <td>Self-emp-inc</td>\n",
              "      <td>HS-grad</td>\n",
              "      <td>Exec-managerial</td>\n",
              "      <td>15024</td>\n",
              "      <td>0</td>\n",
              "      <td>United-States</td>\n",
              "      <td>71709.0</td>\n",
              "      <td>9</td>\n",
              "      <td>NaN</td>\n",
              "      <td>1.0</td>\n",
              "    </tr>\n",
              "  </tbody>\n",
              "</table>\n",
              "<p>32561 rows × 11 columns</p>\n",
              "</div>"
            ],
            "text/plain": [
              "      age          workclass    education  ... jobsatisfaction  male  female\n",
              "X                                          ...                              \n",
              "0      39          State-gov    Bachelors  ...               0   1.0     NaN\n",
              "1      50   Self-emp-not-inc    Bachelors  ...               7   1.0     NaN\n",
              "2      38             privat      HS-grad  ...               6   1.0     NaN\n",
              "3      53             privat         11th  ...               6   1.0     NaN\n",
              "4      28             privat    Bachelors  ...              12   NaN     1.0\n",
              "...    ..                ...          ...  ...             ...   ...     ...\n",
              "32556  27            Private   Assoc-acdm  ...              14   NaN     1.0\n",
              "32557  40            Private      HS-grad  ...              10   1.0     NaN\n",
              "32558  58            Private      HS-grad  ...               1   NaN     1.0\n",
              "32559  22            Private      HS-grad  ...               3   1.0     NaN\n",
              "32560  52       Self-emp-inc      HS-grad  ...               9   NaN     1.0\n",
              "\n",
              "[32561 rows x 11 columns]"
            ]
          },
          "metadata": {
            "tags": []
          },
          "execution_count": 2
        }
      ]
    },
    {
      "cell_type": "code",
      "metadata": {
        "colab": {
          "base_uri": "https://localhost:8080/",
          "height": 507
        },
        "id": "5Q9fxBx7WVLg",
        "outputId": "153ad759-cd79-4cc0-d65b-8f44a965ed33"
      },
      "source": [
        "edu_type = ['Preschool', '1st-4th', '5th-6th', '7th-8th','9th', '10th','11th', '12th', 'Prof-school', 'HS-grad', 'Assoc-acdm', 'Assoc-voc', 'Some-college', 'Bachelors', 'Masters', 'Doctorate']\n",
        "rank = [1,2,3,4,5,6,7,8,9,10,11,12,13,14,15,16]\n",
        "rank_sorted = zip(rank, edu_type)\n",
        "\n",
        "fo = sorted(rank_sorted)\n",
        "\n",
        "rank_sorted1 = [element for _, element in fo]\n",
        "\n",
        "\n",
        "# Categorize the values \n",
        "v = df['education'].value_counts().reset_index(name='Number of Occurances')\n",
        "v['rank_sorted1']= rank_sorted1\n",
        "v.columns = ['Type of Education (Before editing)', 'Number of Occurances', 'rank_sorted1 (After editing)']\n",
        "v.sort_values('Number of Occurances', ascending=True)"
      ],
      "execution_count": null,
      "outputs": [
        {
          "output_type": "execute_result",
          "data": {
            "text/html": [
              "<div>\n",
              "<style scoped>\n",
              "    .dataframe tbody tr th:only-of-type {\n",
              "        vertical-align: middle;\n",
              "    }\n",
              "\n",
              "    .dataframe tbody tr th {\n",
              "        vertical-align: top;\n",
              "    }\n",
              "\n",
              "    .dataframe thead th {\n",
              "        text-align: right;\n",
              "    }\n",
              "</style>\n",
              "<table border=\"1\" class=\"dataframe\">\n",
              "  <thead>\n",
              "    <tr style=\"text-align: right;\">\n",
              "      <th></th>\n",
              "      <th>Type of Education (Before editing)</th>\n",
              "      <th>Number of Occurances</th>\n",
              "      <th>rank_sorted1 (After editing)</th>\n",
              "    </tr>\n",
              "  </thead>\n",
              "  <tbody>\n",
              "    <tr>\n",
              "      <th>15</th>\n",
              "      <td>Preschool</td>\n",
              "      <td>51</td>\n",
              "      <td>Doctorate</td>\n",
              "    </tr>\n",
              "    <tr>\n",
              "      <th>14</th>\n",
              "      <td>1st-4th</td>\n",
              "      <td>168</td>\n",
              "      <td>Masters</td>\n",
              "    </tr>\n",
              "    <tr>\n",
              "      <th>13</th>\n",
              "      <td>5th-6th</td>\n",
              "      <td>333</td>\n",
              "      <td>Bachelors</td>\n",
              "    </tr>\n",
              "    <tr>\n",
              "      <th>12</th>\n",
              "      <td>Doctorate</td>\n",
              "      <td>413</td>\n",
              "      <td>Some-college</td>\n",
              "    </tr>\n",
              "    <tr>\n",
              "      <th>11</th>\n",
              "      <td>12th</td>\n",
              "      <td>433</td>\n",
              "      <td>Assoc-voc</td>\n",
              "    </tr>\n",
              "    <tr>\n",
              "      <th>10</th>\n",
              "      <td>9th</td>\n",
              "      <td>514</td>\n",
              "      <td>Assoc-acdm</td>\n",
              "    </tr>\n",
              "    <tr>\n",
              "      <th>9</th>\n",
              "      <td>Prof-school</td>\n",
              "      <td>576</td>\n",
              "      <td>HS-grad</td>\n",
              "    </tr>\n",
              "    <tr>\n",
              "      <th>8</th>\n",
              "      <td>7th-8th</td>\n",
              "      <td>646</td>\n",
              "      <td>Prof-school</td>\n",
              "    </tr>\n",
              "    <tr>\n",
              "      <th>7</th>\n",
              "      <td>10th</td>\n",
              "      <td>933</td>\n",
              "      <td>12th</td>\n",
              "    </tr>\n",
              "    <tr>\n",
              "      <th>6</th>\n",
              "      <td>Assoc-acdm</td>\n",
              "      <td>1067</td>\n",
              "      <td>11th</td>\n",
              "    </tr>\n",
              "    <tr>\n",
              "      <th>5</th>\n",
              "      <td>11th</td>\n",
              "      <td>1175</td>\n",
              "      <td>10th</td>\n",
              "    </tr>\n",
              "    <tr>\n",
              "      <th>4</th>\n",
              "      <td>Assoc-voc</td>\n",
              "      <td>1382</td>\n",
              "      <td>9th</td>\n",
              "    </tr>\n",
              "    <tr>\n",
              "      <th>3</th>\n",
              "      <td>Masters</td>\n",
              "      <td>1723</td>\n",
              "      <td>7th-8th</td>\n",
              "    </tr>\n",
              "    <tr>\n",
              "      <th>2</th>\n",
              "      <td>Bachelors</td>\n",
              "      <td>5355</td>\n",
              "      <td>5th-6th</td>\n",
              "    </tr>\n",
              "    <tr>\n",
              "      <th>1</th>\n",
              "      <td>Some-college</td>\n",
              "      <td>7291</td>\n",
              "      <td>1st-4th</td>\n",
              "    </tr>\n",
              "    <tr>\n",
              "      <th>0</th>\n",
              "      <td>HS-grad</td>\n",
              "      <td>10501</td>\n",
              "      <td>Preschool</td>\n",
              "    </tr>\n",
              "  </tbody>\n",
              "</table>\n",
              "</div>"
            ],
            "text/plain": [
              "   Type of Education (Before editing)  ...  rank_sorted1 (After editing)\n",
              "15                          Preschool  ...                     Doctorate\n",
              "14                            1st-4th  ...                       Masters\n",
              "13                            5th-6th  ...                     Bachelors\n",
              "12                          Doctorate  ...                  Some-college\n",
              "11                               12th  ...                     Assoc-voc\n",
              "10                                9th  ...                    Assoc-acdm\n",
              "9                         Prof-school  ...                       HS-grad\n",
              "8                             7th-8th  ...                   Prof-school\n",
              "7                                10th  ...                          12th\n",
              "6                          Assoc-acdm  ...                          11th\n",
              "5                                11th  ...                          10th\n",
              "4                           Assoc-voc  ...                           9th\n",
              "3                             Masters  ...                       7th-8th\n",
              "2                           Bachelors  ...                       5th-6th\n",
              "1                        Some-college  ...                       1st-4th\n",
              "0                             HS-grad  ...                     Preschool\n",
              "\n",
              "[16 rows x 3 columns]"
            ]
          },
          "metadata": {
            "tags": []
          },
          "execution_count": 3
        }
      ]
    },
    {
      "cell_type": "code",
      "metadata": {
        "colab": {
          "base_uri": "https://localhost:8080/",
          "height": 295
        },
        "id": "Fxy_guh_WaRe",
        "outputId": "aab10c53-1ced-4b1c-bde2-20f41ae9e141"
      },
      "source": [
        "# Visualize my data\n",
        "plt.barh(v['rank_sorted1 (After editing)'],\n",
        "         v['Number of Occurances'], alpha = 0.5, color=['cyan', 'pink', 'yellow'])\n",
        "\n",
        "# Creating some customizations\n",
        "plt.xlabel('Number of Occurances')\n",
        "plt.ylabel('Type of Education')\n",
        "plt.title('Visulaizing the relationship')\n",
        "plt.grid(True)\n",
        "\n",
        "# After customizations, display the plot\n",
        "plt.show()"
      ],
      "execution_count": null,
      "outputs": [
        {
          "output_type": "display_data",
          "data": {
            "image/png": "[encoded data removed]",
            "text/plain": [
              "<Figure size 432x288 with 1 Axes>"
            ]
          },
          "metadata": {
            "tags": [],
            "needs_background": "light"
          }
        }
      ]
    },
    {
      "cell_type": "markdown",
      "metadata": {
        "id": "xqfN3JGdgyGE"
      },
      "source": [
        "**4.2.  Create and print a Pandas data frame where each row stands for an occupation, each column stands for a level of education, and the cells in the table contain the average salary of people with the corresponding occupation and education level.(0.5 Points)** <br> \n",
        "Hint 1: You can use crosstab, see also aggfunc from the pandas documentation."
      ]
    },
    {
      "cell_type": "code",
      "metadata": {
        "id": "ZP9FpDmQgyGE",
        "scrolled": false,
        "colab": {
          "base_uri": "https://localhost:8080/",
          "height": 536
        },
        "outputId": "98361ca6-d82f-46a5-df43-f2f31140abda"
      },
      "source": [
        "df['workclass'].replace({\"privat\":\"Private\"}, inplace=True)\n",
        "\n",
        "vow = pd.pivot_table(df, values= ['salaries'],\n",
        "                     index= ['occupation'], columns=['education'], aggfunc=np.sum, fill_value=0)\n",
        "vow"
      ],
      "execution_count": null,
      "outputs": [
        {
          "output_type": "execute_result",
          "data": {
            "text/html": [
              "<div>\n",
              "<style scoped>\n",
              "    .dataframe tbody tr th:only-of-type {\n",
              "        vertical-align: middle;\n",
              "    }\n",
              "\n",
              "    .dataframe tbody tr th {\n",
              "        vertical-align: top;\n",
              "    }\n",
              "\n",
              "    .dataframe thead tr th {\n",
              "        text-align: left;\n",
              "    }\n",
              "\n",
              "    .dataframe thead tr:last-of-type th {\n",
              "        text-align: right;\n",
              "    }\n",
              "</style>\n",
              "<table border=\"1\" class=\"dataframe\">\n",
              "  <thead>\n",
              "    <tr>\n",
              "      <th></th>\n",
              "      <th colspan=\"16\" halign=\"left\">salaries</th>\n",
              "    </tr>\n",
              "    <tr>\n",
              "      <th>education</th>\n",
              "      <th>10th</th>\n",
              "      <th>11th</th>\n",
              "      <th>12th</th>\n",
              "      <th>1st-4th</th>\n",
              "      <th>5th-6th</th>\n",
              "      <th>7th-8th</th>\n",
              "      <th>9th</th>\n",
              "      <th>Assoc-acdm</th>\n",
              "      <th>Assoc-voc</th>\n",
              "      <th>Bachelors</th>\n",
              "      <th>Doctorate</th>\n",
              "      <th>HS-grad</th>\n",
              "      <th>Masters</th>\n",
              "      <th>Preschool</th>\n",
              "      <th>Prof-school</th>\n",
              "      <th>Some-college</th>\n",
              "    </tr>\n",
              "    <tr>\n",
              "      <th>occupation</th>\n",
              "      <th></th>\n",
              "      <th></th>\n",
              "      <th></th>\n",
              "      <th></th>\n",
              "      <th></th>\n",
              "      <th></th>\n",
              "      <th></th>\n",
              "      <th></th>\n",
              "      <th></th>\n",
              "      <th></th>\n",
              "      <th></th>\n",
              "      <th></th>\n",
              "      <th></th>\n",
              "      <th></th>\n",
              "      <th></th>\n",
              "      <th></th>\n",
              "    </tr>\n",
              "  </thead>\n",
              "  <tbody>\n",
              "    <tr>\n",
              "      <th>?</th>\n",
              "      <td>3.191809e+06</td>\n",
              "      <td>3.520264e+06</td>\n",
              "      <td>1244950</td>\n",
              "      <td>362323</td>\n",
              "      <td>955937</td>\n",
              "      <td>2.356606e+06</td>\n",
              "      <td>1615865</td>\n",
              "      <td>1.628732e+06</td>\n",
              "      <td>2197247</td>\n",
              "      <td>6924931</td>\n",
              "      <td>864742</td>\n",
              "      <td>1.774187e+07</td>\n",
              "      <td>2094260</td>\n",
              "      <td>124946</td>\n",
              "      <td>829504</td>\n",
              "      <td>1.701509e+07</td>\n",
              "    </tr>\n",
              "    <tr>\n",
              "      <th>Adm-clerical</th>\n",
              "      <td>1.138403e+06</td>\n",
              "      <td>2.008449e+06</td>\n",
              "      <td>1129459</td>\n",
              "      <td>0</td>\n",
              "      <td>156450</td>\n",
              "      <td>3.874960e+05</td>\n",
              "      <td>454622</td>\n",
              "      <td>6.723423e+06</td>\n",
              "      <td>5676179</td>\n",
              "      <td>19727659</td>\n",
              "      <td>215208</td>\n",
              "      <td>4.740596e+07</td>\n",
              "      <td>2893458</td>\n",
              "      <td>63855</td>\n",
              "      <td>401113</td>\n",
              "      <td>4.405095e+07</td>\n",
              "    </tr>\n",
              "    <tr>\n",
              "      <th>Armed-Forces</th>\n",
              "      <td>0.000000e+00</td>\n",
              "      <td>0.000000e+00</td>\n",
              "      <td>48635</td>\n",
              "      <td>0</td>\n",
              "      <td>0</td>\n",
              "      <td>0.000000e+00</td>\n",
              "      <td>0</td>\n",
              "      <td>0.000000e+00</td>\n",
              "      <td>0</td>\n",
              "      <td>15014</td>\n",
              "      <td>0</td>\n",
              "      <td>1.421760e+05</td>\n",
              "      <td>67993</td>\n",
              "      <td>0</td>\n",
              "      <td>0</td>\n",
              "      <td>3.884200e+04</td>\n",
              "    </tr>\n",
              "    <tr>\n",
              "      <th>Craft-repair</th>\n",
              "      <td>5.996106e+06</td>\n",
              "      <td>6.308803e+06</td>\n",
              "      <td>2076411</td>\n",
              "      <td>756334</td>\n",
              "      <td>1443064</td>\n",
              "      <td>3.833575e+06</td>\n",
              "      <td>3390994</td>\n",
              "      <td>4.717654e+06</td>\n",
              "      <td>10682661</td>\n",
              "      <td>10202003</td>\n",
              "      <td>108917</td>\n",
              "      <td>7.421826e+07</td>\n",
              "      <td>1033067</td>\n",
              "      <td>135750</td>\n",
              "      <td>365006</td>\n",
              "      <td>3.589496e+07</td>\n",
              "    </tr>\n",
              "    <tr>\n",
              "      <th>Exec-managerial</th>\n",
              "      <td>9.277280e+05</td>\n",
              "      <td>1.251385e+06</td>\n",
              "      <td>472749</td>\n",
              "      <td>200058</td>\n",
              "      <td>71742</td>\n",
              "      <td>8.160450e+05</td>\n",
              "      <td>504655</td>\n",
              "      <td>6.757730e+06</td>\n",
              "      <td>6867703</td>\n",
              "      <td>69694170</td>\n",
              "      <td>3518239</td>\n",
              "      <td>3.404101e+07</td>\n",
              "      <td>28785397</td>\n",
              "      <td>0</td>\n",
              "      <td>3049182</td>\n",
              "      <td>3.819021e+07</td>\n",
              "    </tr>\n",
              "    <tr>\n",
              "      <th>Farming-fishing</th>\n",
              "      <td>1.431544e+06</td>\n",
              "      <td>1.286640e+06</td>\n",
              "      <td>543998</td>\n",
              "      <td>566100</td>\n",
              "      <td>1109317</td>\n",
              "      <td>2.356514e+06</td>\n",
              "      <td>892813</td>\n",
              "      <td>4.611486e+05</td>\n",
              "      <td>1998437</td>\n",
              "      <td>3069693</td>\n",
              "      <td>70039</td>\n",
              "      <td>1.415760e+07</td>\n",
              "      <td>407931</td>\n",
              "      <td>293034</td>\n",
              "      <td>175662</td>\n",
              "      <td>5.900787e+06</td>\n",
              "    </tr>\n",
              "    <tr>\n",
              "      <th>Handlers-cleaners</th>\n",
              "      <td>2.275337e+06</td>\n",
              "      <td>3.801466e+06</td>\n",
              "      <td>1224529</td>\n",
              "      <td>506129</td>\n",
              "      <td>1309939</td>\n",
              "      <td>1.415896e+06</td>\n",
              "      <td>1672429</td>\n",
              "      <td>7.997120e+05</td>\n",
              "      <td>961040</td>\n",
              "      <td>1868597</td>\n",
              "      <td>0</td>\n",
              "      <td>1.988943e+07</td>\n",
              "      <td>149915</td>\n",
              "      <td>61598</td>\n",
              "      <td>0</td>\n",
              "      <td>8.736068e+06</td>\n",
              "    </tr>\n",
              "    <tr>\n",
              "      <th>Machine-op-inspct</th>\n",
              "      <td>3.250516e+06</td>\n",
              "      <td>3.085400e+06</td>\n",
              "      <td>985582</td>\n",
              "      <td>741243</td>\n",
              "      <td>1871628</td>\n",
              "      <td>3.141223e+06</td>\n",
              "      <td>2445595</td>\n",
              "      <td>1.427986e+06</td>\n",
              "      <td>2461636</td>\n",
              "      <td>2676637</td>\n",
              "      <td>70502</td>\n",
              "      <td>3.648026e+07</td>\n",
              "      <td>249156</td>\n",
              "      <td>358917</td>\n",
              "      <td>38026</td>\n",
              "      <td>1.124656e+07</td>\n",
              "    </tr>\n",
              "    <tr>\n",
              "      <th>Other-service</th>\n",
              "      <td>5.914021e+06</td>\n",
              "      <td>7.426257e+06</td>\n",
              "      <td>2709950</td>\n",
              "      <td>1190826</td>\n",
              "      <td>2011717</td>\n",
              "      <td>3.038160e+06</td>\n",
              "      <td>3135515</td>\n",
              "      <td>2.585321e+06</td>\n",
              "      <td>3866160</td>\n",
              "      <td>6490915</td>\n",
              "      <td>71626</td>\n",
              "      <td>4.116789e+07</td>\n",
              "      <td>608336</td>\n",
              "      <td>487477</td>\n",
              "      <td>149375</td>\n",
              "      <td>2.457887e+07</td>\n",
              "    </tr>\n",
              "    <tr>\n",
              "      <th>Priv-house-serv</th>\n",
              "      <td>1.990320e+05</td>\n",
              "      <td>3.844180e+05</td>\n",
              "      <td>136277</td>\n",
              "      <td>275730</td>\n",
              "      <td>365863</td>\n",
              "      <td>2.313700e+05</td>\n",
              "      <td>332302</td>\n",
              "      <td>3.350700e+04</td>\n",
              "      <td>139125</td>\n",
              "      <td>264253</td>\n",
              "      <td>0</td>\n",
              "      <td>1.562007e+06</td>\n",
              "      <td>28568</td>\n",
              "      <td>53154</td>\n",
              "      <td>0</td>\n",
              "      <td>5.054010e+05</td>\n",
              "    </tr>\n",
              "    <tr>\n",
              "      <th>Prof-specialty</th>\n",
              "      <td>4.056450e+05</td>\n",
              "      <td>6.149010e+05</td>\n",
              "      <td>375240</td>\n",
              "      <td>92514</td>\n",
              "      <td>39091</td>\n",
              "      <td>2.547020e+05</td>\n",
              "      <td>105285</td>\n",
              "      <td>5.524275e+06</td>\n",
              "      <td>7277555</td>\n",
              "      <td>66678457</td>\n",
              "      <td>18221444</td>\n",
              "      <td>9.552981e+06</td>\n",
              "      <td>40538066</td>\n",
              "      <td>34861</td>\n",
              "      <td>26366787</td>\n",
              "      <td>1.745120e+07</td>\n",
              "    </tr>\n",
              "    <tr>\n",
              "      <th>Protective-serv</th>\n",
              "      <td>1.615810e+05</td>\n",
              "      <td>2.685420e+05</td>\n",
              "      <td>183497</td>\n",
              "      <td>41685</td>\n",
              "      <td>19378</td>\n",
              "      <td>2.700930e+05</td>\n",
              "      <td>135896</td>\n",
              "      <td>1.453857e+06</td>\n",
              "      <td>1981658</td>\n",
              "      <td>5067392</td>\n",
              "      <td>0</td>\n",
              "      <td>8.488517e+06</td>\n",
              "      <td>727082</td>\n",
              "      <td>0</td>\n",
              "      <td>64038</td>\n",
              "      <td>8.763366e+06</td>\n",
              "    </tr>\n",
              "    <tr>\n",
              "      <th>Sales</th>\n",
              "      <td>2.702992e+06</td>\n",
              "      <td>4.523321e+06</td>\n",
              "      <td>1657849</td>\n",
              "      <td>250594</td>\n",
              "      <td>478304</td>\n",
              "      <td>1.080189e+06</td>\n",
              "      <td>1087183</td>\n",
              "      <td>5.764690e+06</td>\n",
              "      <td>4088838</td>\n",
              "      <td>38667202</td>\n",
              "      <td>430076</td>\n",
              "      <td>4.012663e+07</td>\n",
              "      <td>7064307</td>\n",
              "      <td>0</td>\n",
              "      <td>944710</td>\n",
              "      <td>3.879674e+07</td>\n",
              "    </tr>\n",
              "    <tr>\n",
              "      <th>Tech-support</th>\n",
              "      <td>1.333940e+05</td>\n",
              "      <td>1.967800e+05</td>\n",
              "      <td>129939</td>\n",
              "      <td>0</td>\n",
              "      <td>39695</td>\n",
              "      <td>1.647360e+05</td>\n",
              "      <td>64305</td>\n",
              "      <td>2.988212e+06</td>\n",
              "      <td>5302787</td>\n",
              "      <td>9926695</td>\n",
              "      <td>174747</td>\n",
              "      <td>6.497870e+06</td>\n",
              "      <td>1810240</td>\n",
              "      <td>0</td>\n",
              "      <td>299963</td>\n",
              "      <td>1.109749e+07</td>\n",
              "    </tr>\n",
              "    <tr>\n",
              "      <th>Transport-moving</th>\n",
              "      <td>3.200816e+06</td>\n",
              "      <td>2.967401e+06</td>\n",
              "      <td>1543845</td>\n",
              "      <td>267279</td>\n",
              "      <td>883596</td>\n",
              "      <td>2.120487e+06</td>\n",
              "      <td>1176895</td>\n",
              "      <td>8.765610e+05</td>\n",
              "      <td>1673809</td>\n",
              "      <td>2490920</td>\n",
              "      <td>18726</td>\n",
              "      <td>3.154417e+07</td>\n",
              "      <td>433704</td>\n",
              "      <td>0</td>\n",
              "      <td>201880</td>\n",
              "      <td>1.121370e+07</td>\n",
              "    </tr>\n",
              "  </tbody>\n",
              "</table>\n",
              "</div>"
            ],
            "text/plain": [
              "                        salaries                ...                           \n",
              "education                   10th          11th  ...  Prof-school  Some-college\n",
              "occupation                                      ...                           \n",
              " ?                  3.191809e+06  3.520264e+06  ...       829504  1.701509e+07\n",
              " Adm-clerical       1.138403e+06  2.008449e+06  ...       401113  4.405095e+07\n",
              " Armed-Forces       0.000000e+00  0.000000e+00  ...            0  3.884200e+04\n",
              " Craft-repair       5.996106e+06  6.308803e+06  ...       365006  3.589496e+07\n",
              " Exec-managerial    9.277280e+05  1.251385e+06  ...      3049182  3.819021e+07\n",
              " Farming-fishing    1.431544e+06  1.286640e+06  ...       175662  5.900787e+06\n",
              " Handlers-cleaners  2.275337e+06  3.801466e+06  ...            0  8.736068e+06\n",
              " Machine-op-inspct  3.250516e+06  3.085400e+06  ...        38026  1.124656e+07\n",
              " Other-service      5.914021e+06  7.426257e+06  ...       149375  2.457887e+07\n",
              " Priv-house-serv    1.990320e+05  3.844180e+05  ...            0  5.054010e+05\n",
              " Prof-specialty     4.056450e+05  6.149010e+05  ...     26366787  1.745120e+07\n",
              " Protective-serv    1.615810e+05  2.685420e+05  ...        64038  8.763366e+06\n",
              " Sales              2.702992e+06  4.523321e+06  ...       944710  3.879674e+07\n",
              " Tech-support       1.333940e+05  1.967800e+05  ...       299963  1.109749e+07\n",
              " Transport-moving   3.200816e+06  2.967401e+06  ...       201880  1.121370e+07\n",
              "\n",
              "[15 rows x 16 columns]"
            ]
          },
          "metadata": {
            "tags": []
          },
          "execution_count": 5
        }
      ]
    },
    {
      "cell_type": "markdown",
      "metadata": {
        "id": "SkfgCZwdgyGG"
      },
      "source": [
        "**4.3. Make a separate plot for each row (occupation) of the table created in subtask 4.2. Choose the type of the plot to convey the information as good as you can.(0.25 Points)** <br>"
      ]
    },
    {
      "cell_type": "code",
      "metadata": {
        "id": "CgInKfXBgyGG",
        "scrolled": false
      },
      "source": [
        ""
      ],
      "execution_count": null,
      "outputs": []
    },
    {
      "cell_type": "markdown",
      "metadata": {
        "id": "F16HJ-fagyGH"
      },
      "source": [
        "**4.4. List 3 interesting facts that you can read out of these plots from subtask 4.3. (0.25 points)** <br>"
      ]
    },
    {
      "cell_type": "markdown",
      "metadata": {
        "id": "9oApcs-OgyGI"
      },
      "source": [
        "**<font color='red'>Fact 1:</font>** "
      ]
    },
    {
      "cell_type": "markdown",
      "metadata": {
        "id": "v5CG6OpdgyGI"
      },
      "source": [
        "**<font color='red'>Fact 2:</font>** "
      ]
    },
    {
      "cell_type": "markdown",
      "metadata": {
        "id": "KkRuEv5DgyGJ"
      },
      "source": [
        "**<font color='red'>Fact 3:</font>** "
      ]
    },
    {
      "cell_type": "markdown",
      "metadata": {
        "id": "hxttFXvDTTuS"
      },
      "source": [
        "# 5. Basic Clustering (5 points)\n",
        "We will learn RFM (Recency, Frequency, Monetary value) technique and basic clustering algorithms: K-means & DBSCAN in this section. \n",
        "\n"
      ]
    },
    {
      "cell_type": "markdown",
      "metadata": {
        "id": "KIWlyfPHUv7q"
      },
      "source": [
        "## 5.1 RFM (1.5 points)\n",
        "We will apply the RFM technique in this section similar to the practice session. The dataset for this task belongs to http://donorschoose.org/. \n",
        "\n",
        "The web platform http://donorschoose.org helps projects in collecting donations. The donators have the option to give 15% of what they donate to this webplatform. The dataset contains the following fields:\n",
        "\n",
        "- Donor ID - Unique identifier of donors\n",
        "- Donation Included Optional Donation - The donor has agreed(Yes/No) to give 15% of donation amount to Donoschoose.org\n",
        "- Donation Amount - Total amount donated\n",
        "- Donor Cart Sequence - The ranking of the donaton project in the donors list\n",
        "- Donation Received Date - Date of online payment\n"
      ]
    },
    {
      "cell_type": "markdown",
      "metadata": {
        "id": "EzHz71HBTTuS"
      },
      "source": [
        "**5.1.1**\n",
        "**Please load the dataset Donations.csv. <br>The field ```Donation Included Optional Donation``` shows if the donor agreed (Yes/No) to give 15% of donation amount to Donoschoose.org. <br>Update the field \"Donation Amount\" so that it represents the correct amount of donation; which means if `Donation Included Optional Donation`=yes, calculate the `Donation Amount`. (0.25 points)** "
      ]
    },
    {
      "cell_type": "code",
      "metadata": {
        "id": "njF6zluVTTuS",
        "colab": {
          "resources": {
            "http://localhost:8080/nbextensions/google.colab/files.js": {
              "data": "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",
              "ok": true,
              "headers": [
                [
                  "content-type",
                  "application/javascript"
                ]
              ],
              "status": 200,
              "status_text": ""
            }
          },
          "base_uri": "https://localhost:8080/",
          "height": 348
        },
        "outputId": "bfb82541-4fc6-441e-cf6c-69c332020d93"
      },
      "source": [
        "uploaded = files.upload()  "
      ],
      "execution_count": null,
      "outputs": [
        {
          "output_type": "display_data",
          "data": {
            "text/html": [
              "\n",
              "     <input type=\"file\" id=\"files-58e82419-6acd-4289-b9a7-3086c4599170\" name=\"files[]\" multiple disabled\n",
              "        style=\"border:none\" />\n",
              "     <output id=\"result-58e82419-6acd-4289-b9a7-3086c4599170\">\n",
              "      Upload widget is only available when the cell has been executed in the\n",
              "      current browser session. Please rerun this cell to enable.\n",
              "      </output>\n",
              "      <script src=\"/nbextensions/google.colab/files.js\"></script> "
            ],
            "text/plain": [
              "<IPython.core.display.HTML object>"
            ]
          },
          "metadata": {
            "tags": []
          }
        },
        {
          "output_type": "stream",
          "text": [
            "Saving Donations.csv to Donations (2).csv\n"
          ],
          "name": "stdout"
        },
        {
          "output_type": "error",
          "ename": "MessageError",
          "evalue": "ignored",
          "traceback": [
            "\u001b[0;31m---------------------------------------------------------------------------\u001b[0m",
            "\u001b[0;31mMessageError\u001b[0m                              Traceback (most recent call last)",
            "\u001b[0;32m<ipython-input-167-ed2fd71b4a2f>\u001b[0m in \u001b[0;36m<module>\u001b[0;34m()\u001b[0m\n\u001b[0;32m----> 1\u001b[0;31m \u001b[0muploaded\u001b[0m \u001b[0;34m=\u001b[0m \u001b[0mfiles\u001b[0m\u001b[0;34m.\u001b[0m\u001b[0mupload\u001b[0m\u001b[0;34m(\u001b[0m\u001b[0;34m)\u001b[0m\u001b[0;34m\u001b[0m\u001b[0;34m\u001b[0m\u001b[0m\n\u001b[0m",
            "\u001b[0;32m/usr/local/lib/python3.7/dist-packages/google/colab/files.py\u001b[0m in \u001b[0;36mupload\u001b[0;34m()\u001b[0m\n\u001b[1;32m     70\u001b[0m     result = _output.eval_js(\n\u001b[1;32m     71\u001b[0m         'google.colab._files._uploadFilesContinue(\"{output_id}\")'.format(\n\u001b[0;32m---> 72\u001b[0;31m             output_id=output_id))\n\u001b[0m\u001b[1;32m     73\u001b[0m     \u001b[0;32mif\u001b[0m \u001b[0mresult\u001b[0m\u001b[0;34m[\u001b[0m\u001b[0;34m'action'\u001b[0m\u001b[0;34m]\u001b[0m \u001b[0;34m!=\u001b[0m \u001b[0;34m'append'\u001b[0m\u001b[0;34m:\u001b[0m\u001b[0;34m\u001b[0m\u001b[0;34m\u001b[0m\u001b[0m\n\u001b[1;32m     74\u001b[0m       \u001b[0;31m# JS side uses a generator of promises to process all of the files- some\u001b[0m\u001b[0;34m\u001b[0m\u001b[0;34m\u001b[0m\u001b[0;34m\u001b[0m\u001b[0m\n",
            "\u001b[0;32m/usr/local/lib/python3.7/dist-packages/google/colab/output/_js.py\u001b[0m in \u001b[0;36meval_js\u001b[0;34m(script, ignore_result, timeout_sec)\u001b[0m\n\u001b[1;32m     38\u001b[0m   \u001b[0;32mif\u001b[0m \u001b[0mignore_result\u001b[0m\u001b[0;34m:\u001b[0m\u001b[0;34m\u001b[0m\u001b[0;34m\u001b[0m\u001b[0m\n\u001b[1;32m     39\u001b[0m     \u001b[0;32mreturn\u001b[0m\u001b[0;34m\u001b[0m\u001b[0;34m\u001b[0m\u001b[0m\n\u001b[0;32m---> 40\u001b[0;31m   \u001b[0;32mreturn\u001b[0m \u001b[0m_message\u001b[0m\u001b[0;34m.\u001b[0m\u001b[0mread_reply_from_input\u001b[0m\u001b[0;34m(\u001b[0m\u001b[0mrequest_id\u001b[0m\u001b[0;34m,\u001b[0m \u001b[0mtimeout_sec\u001b[0m\u001b[0;34m)\u001b[0m\u001b[0;34m\u001b[0m\u001b[0;34m\u001b[0m\u001b[0m\n\u001b[0m\u001b[1;32m     41\u001b[0m \u001b[0;34m\u001b[0m\u001b[0m\n\u001b[1;32m     42\u001b[0m \u001b[0;34m\u001b[0m\u001b[0m\n",
            "\u001b[0;32m/usr/local/lib/python3.7/dist-packages/google/colab/_message.py\u001b[0m in \u001b[0;36mread_reply_from_input\u001b[0;34m(message_id, timeout_sec)\u001b[0m\n\u001b[1;32m    104\u001b[0m         reply.get('colab_msg_id') == message_id):\n\u001b[1;32m    105\u001b[0m       \u001b[0;32mif\u001b[0m \u001b[0;34m'error'\u001b[0m \u001b[0;32min\u001b[0m \u001b[0mreply\u001b[0m\u001b[0;34m:\u001b[0m\u001b[0;34m\u001b[0m\u001b[0;34m\u001b[0m\u001b[0m\n\u001b[0;32m--> 106\u001b[0;31m         \u001b[0;32mraise\u001b[0m \u001b[0mMessageError\u001b[0m\u001b[0;34m(\u001b[0m\u001b[0mreply\u001b[0m\u001b[0;34m[\u001b[0m\u001b[0;34m'error'\u001b[0m\u001b[0;34m]\u001b[0m\u001b[0;34m)\u001b[0m\u001b[0;34m\u001b[0m\u001b[0;34m\u001b[0m\u001b[0m\n\u001b[0m\u001b[1;32m    107\u001b[0m       \u001b[0;32mreturn\u001b[0m \u001b[0mreply\u001b[0m\u001b[0;34m.\u001b[0m\u001b[0mget\u001b[0m\u001b[0;34m(\u001b[0m\u001b[0;34m'data'\u001b[0m\u001b[0;34m,\u001b[0m \u001b[0;32mNone\u001b[0m\u001b[0;34m)\u001b[0m\u001b[0;34m\u001b[0m\u001b[0;34m\u001b[0m\u001b[0m\n\u001b[1;32m    108\u001b[0m \u001b[0;34m\u001b[0m\u001b[0m\n",
            "\u001b[0;31mMessageError\u001b[0m: TypeError: Cannot read property 'next' of undefined"
          ]
        }
      ]
    },
    {
      "cell_type": "code",
      "metadata": {
        "colab": {
          "base_uri": "https://localhost:8080/",
          "height": 416
        },
        "id": "eLhbN6js5LiG",
        "outputId": "2470a77f-70f0-4a90-9cbe-b8b44ea1d327"
      },
      "source": [
        "import pandas as pd\r\n",
        " \r\n",
        "donations = pd.read_csv('Donations.csv', sep=' ')\r\n",
        "donations"
      ],
      "execution_count": null,
      "outputs": [
        {
          "output_type": "execute_result",
          "data": {
            "text/html": [
              "<div>\n",
              "<style scoped>\n",
              "    .dataframe tbody tr th:only-of-type {\n",
              "        vertical-align: middle;\n",
              "    }\n",
              "\n",
              "    .dataframe tbody tr th {\n",
              "        vertical-align: top;\n",
              "    }\n",
              "\n",
              "    .dataframe thead th {\n",
              "        text-align: right;\n",
              "    }\n",
              "</style>\n",
              "<table border=\"1\" class=\"dataframe\">\n",
              "  <thead>\n",
              "    <tr style=\"text-align: right;\">\n",
              "      <th></th>\n",
              "      <th>Donor ID</th>\n",
              "      <th>Donation Included Optional Donation</th>\n",
              "      <th>Donation Amount</th>\n",
              "      <th>Donor Cart Sequence</th>\n",
              "      <th>Donation Received Date</th>\n",
              "    </tr>\n",
              "  </thead>\n",
              "  <tbody>\n",
              "    <tr>\n",
              "      <th>0</th>\n",
              "      <td>1f4b5b6e68445c6c4a0509b3aca93f38</td>\n",
              "      <td>No</td>\n",
              "      <td>178.37</td>\n",
              "      <td>11</td>\n",
              "      <td>2016-08-23 13:15:57</td>\n",
              "    </tr>\n",
              "    <tr>\n",
              "      <th>1</th>\n",
              "      <td>bd323208dc78b1c74b62664b768f3176</td>\n",
              "      <td>Yes</td>\n",
              "      <td>200.00</td>\n",
              "      <td>2</td>\n",
              "      <td>2013-02-17 21:36:24</td>\n",
              "    </tr>\n",
              "    <tr>\n",
              "      <th>2</th>\n",
              "      <td>6dd6113f89f2766d3b0707ef2a46260c</td>\n",
              "      <td>Yes</td>\n",
              "      <td>10.00</td>\n",
              "      <td>44</td>\n",
              "      <td>2013-02-27 10:32:22</td>\n",
              "    </tr>\n",
              "    <tr>\n",
              "      <th>3</th>\n",
              "      <td>344ad0a72366a27bd4926bbe5d066939</td>\n",
              "      <td>Yes</td>\n",
              "      <td>10.00</td>\n",
              "      <td>9</td>\n",
              "      <td>2017-07-24 08:40:35</td>\n",
              "    </tr>\n",
              "    <tr>\n",
              "      <th>4</th>\n",
              "      <td>3cf2607d4131cd654bf54a1f5a533357</td>\n",
              "      <td>Yes</td>\n",
              "      <td>25.00</td>\n",
              "      <td>5</td>\n",
              "      <td>2017-07-11 16:40:30</td>\n",
              "    </tr>\n",
              "    <tr>\n",
              "      <th>...</th>\n",
              "      <td>...</td>\n",
              "      <td>...</td>\n",
              "      <td>...</td>\n",
              "      <td>...</td>\n",
              "      <td>...</td>\n",
              "    </tr>\n",
              "    <tr>\n",
              "      <th>2169629</th>\n",
              "      <td>4c72f58ef782c5787ae5f713c665ca16</td>\n",
              "      <td>Yes</td>\n",
              "      <td>10.00</td>\n",
              "      <td>30</td>\n",
              "      <td>2016-12-19 08:59:55</td>\n",
              "    </tr>\n",
              "    <tr>\n",
              "      <th>2169630</th>\n",
              "      <td>d87367b17c094f719a7b1b05ee453afc</td>\n",
              "      <td>Yes</td>\n",
              "      <td>100.00</td>\n",
              "      <td>2</td>\n",
              "      <td>2016-10-11 13:59:16</td>\n",
              "    </tr>\n",
              "    <tr>\n",
              "      <th>2169631</th>\n",
              "      <td>628e39424c50ac95b067398a65de67f8</td>\n",
              "      <td>Yes</td>\n",
              "      <td>150.00</td>\n",
              "      <td>4</td>\n",
              "      <td>2017-05-26 11:36:05</td>\n",
              "    </tr>\n",
              "    <tr>\n",
              "      <th>2169632</th>\n",
              "      <td>e0fe4d9b8def8a71635e65ba4ff5ef40</td>\n",
              "      <td>Yes</td>\n",
              "      <td>213.73</td>\n",
              "      <td>9</td>\n",
              "      <td>2018-04-23 17:48:43</td>\n",
              "    </tr>\n",
              "    <tr>\n",
              "      <th>2169633</th>\n",
              "      <td>0d191e2e1f879f564a0991639c9c2a19</td>\n",
              "      <td>Yes</td>\n",
              "      <td>50.00</td>\n",
              "      <td>18</td>\n",
              "      <td>2018-05-08 17:07:32</td>\n",
              "    </tr>\n",
              "  </tbody>\n",
              "</table>\n",
              "<p>2169634 rows × 5 columns</p>\n",
              "</div>"
            ],
            "text/plain": [
              "                                 Donor ID  ... Donation Received Date\n",
              "0        1f4b5b6e68445c6c4a0509b3aca93f38  ...    2016-08-23 13:15:57\n",
              "1        bd323208dc78b1c74b62664b768f3176  ...    2013-02-17 21:36:24\n",
              "2        6dd6113f89f2766d3b0707ef2a46260c  ...    2013-02-27 10:32:22\n",
              "3        344ad0a72366a27bd4926bbe5d066939  ...    2017-07-24 08:40:35\n",
              "4        3cf2607d4131cd654bf54a1f5a533357  ...    2017-07-11 16:40:30\n",
              "...                                   ...  ...                    ...\n",
              "2169629  4c72f58ef782c5787ae5f713c665ca16  ...    2016-12-19 08:59:55\n",
              "2169630  d87367b17c094f719a7b1b05ee453afc  ...    2016-10-11 13:59:16\n",
              "2169631  628e39424c50ac95b067398a65de67f8  ...    2017-05-26 11:36:05\n",
              "2169632  e0fe4d9b8def8a71635e65ba4ff5ef40  ...    2018-04-23 17:48:43\n",
              "2169633  0d191e2e1f879f564a0991639c9c2a19  ...    2018-05-08 17:07:32\n",
              "\n",
              "[2169634 rows x 5 columns]"
            ]
          },
          "metadata": {
            "tags": []
          },
          "execution_count": 85
        }
      ]
    },
    {
      "cell_type": "code",
      "metadata": {
        "id": "KI86mmsL0DlM"
      },
      "source": [
        "donations['Donation Amount'] = donations[(donations['Donation Included Optional Donation'] == 'Yes')]['Donation Amount'] + (donations[(donations['Donation Included Optional Donation'] == 'Yes')]['Donation Amount']*0.15)"
      ],
      "execution_count": null,
      "outputs": []
    },
    {
      "cell_type": "markdown",
      "metadata": {
        "id": "YiAqRFfoTTuT"
      },
      "source": [
        "**5.1.2 For understanding `Recency`, consider 2018-05-31 23:00:00 as the reference date\n",
        "(we assume this is report date).<br> Calculate the number of days between this date and the date of last purchase  for each customer. How long the donor with ID equal to e0fe4d9b8def8a71635e65ba4ff5ef40 has been inactive ? (0.25 points)**"
      ]
    },
    {
      "cell_type": "code",
      "metadata": {
        "colab": {
          "base_uri": "https://localhost:8080/"
        },
        "id": "vREprg-e40g5",
        "outputId": "b0860747-c6a0-40fd-d4db-49b5aca07860"
      },
      "source": [
        "(pd.to_datetime('2018-05-31 23:00:00') - pd.to_datetime(donations['Donation Received Date'][0])).days"
      ],
      "execution_count": null,
      "outputs": [
        {
          "output_type": "execute_result",
          "data": {
            "text/plain": [
              "646"
            ]
          },
          "metadata": {
            "tags": []
          },
          "execution_count": 162
        }
      ]
    },
    {
      "cell_type": "code",
      "metadata": {
        "id": "0Y6ue9XaTTuT",
        "colab": {
          "base_uri": "https://localhost:8080/",
          "height": 432
        },
        "outputId": "7de03fd7-44a9-4851-f9e2-f5ab3bd22c90"
      },
      "source": [
        "# donations['donation_diff'] = str(pd.to_datetime('2018-05-31 23:00:00') - pd.to_datetime(donations['Donation Received Date']))\r\n",
        "for i in range(len(donations['Donation Received Date'])):\r\n",
        "  donations['donation_diff'][i] = (pd.to_datetime('2018-05-31 23:00:00') - pd.to_datetime(donations['Donation Received Date'][i])).days"
      ],
      "execution_count": null,
      "outputs": [
        {
          "output_type": "stream",
          "text": [
            "/usr/local/lib/python3.7/dist-packages/ipykernel_launcher.py:3: SettingWithCopyWarning: \n",
            "A value is trying to be set on a copy of a slice from a DataFrame\n",
            "\n",
            "See the caveats in the documentation: https://pandas.pydata.org/pandas-docs/stable/user_guide/indexing.html#returning-a-view-versus-a-copy\n",
            "  This is separate from the ipykernel package so we can avoid doing imports until\n"
          ],
          "name": "stderr"
        },
        {
          "output_type": "error",
          "ename": "KeyboardInterrupt",
          "evalue": "ignored",
          "traceback": [
            "\u001b[0;31m---------------------------------------------------------------------------\u001b[0m",
            "\u001b[0;31mKeyboardInterrupt\u001b[0m                         Traceback (most recent call last)",
            "\u001b[0;32m<ipython-input-168-10e372929f46>\u001b[0m in \u001b[0;36m<module>\u001b[0;34m()\u001b[0m\n\u001b[1;32m      1\u001b[0m \u001b[0;31m# donations['donation_diff'] = str(pd.to_datetime('2018-05-31 23:00:00') - pd.to_datetime(donations['Donation Received Date']))\u001b[0m\u001b[0;34m\u001b[0m\u001b[0;34m\u001b[0m\u001b[0;34m\u001b[0m\u001b[0m\n\u001b[1;32m      2\u001b[0m \u001b[0;32mfor\u001b[0m \u001b[0mi\u001b[0m \u001b[0;32min\u001b[0m \u001b[0mrange\u001b[0m\u001b[0;34m(\u001b[0m\u001b[0mlen\u001b[0m\u001b[0;34m(\u001b[0m\u001b[0mdonations\u001b[0m\u001b[0;34m[\u001b[0m\u001b[0;34m'Donation Received Date'\u001b[0m\u001b[0;34m]\u001b[0m\u001b[0;34m)\u001b[0m\u001b[0;34m)\u001b[0m\u001b[0;34m:\u001b[0m\u001b[0;34m\u001b[0m\u001b[0;34m\u001b[0m\u001b[0m\n\u001b[0;32m----> 3\u001b[0;31m   \u001b[0mdonations\u001b[0m\u001b[0;34m[\u001b[0m\u001b[0;34m'donation_diff'\u001b[0m\u001b[0;34m]\u001b[0m\u001b[0;34m[\u001b[0m\u001b[0mi\u001b[0m\u001b[0;34m]\u001b[0m \u001b[0;34m=\u001b[0m \u001b[0;34m(\u001b[0m\u001b[0mpd\u001b[0m\u001b[0;34m.\u001b[0m\u001b[0mto_datetime\u001b[0m\u001b[0;34m(\u001b[0m\u001b[0;34m'2018-05-31 23:00:00'\u001b[0m\u001b[0;34m)\u001b[0m \u001b[0;34m-\u001b[0m \u001b[0mpd\u001b[0m\u001b[0;34m.\u001b[0m\u001b[0mto_datetime\u001b[0m\u001b[0;34m(\u001b[0m\u001b[0mdonations\u001b[0m\u001b[0;34m[\u001b[0m\u001b[0;34m'Donation Received Date'\u001b[0m\u001b[0;34m]\u001b[0m\u001b[0;34m[\u001b[0m\u001b[0mi\u001b[0m\u001b[0;34m]\u001b[0m\u001b[0;34m)\u001b[0m\u001b[0;34m)\u001b[0m\u001b[0;34m.\u001b[0m\u001b[0mdays\u001b[0m\u001b[0;34m\u001b[0m\u001b[0;34m\u001b[0m\u001b[0m\n\u001b[0m",
            "\u001b[0;32m/usr/local/lib/python3.7/dist-packages/pandas/core/series.py\u001b[0m in \u001b[0;36m__setitem__\u001b[0;34m(self, key, value)\u001b[0m\n\u001b[1;32m   1028\u001b[0m \u001b[0;34m\u001b[0m\u001b[0m\n\u001b[1;32m   1029\u001b[0m         \u001b[0;32mif\u001b[0m \u001b[0mcacher_needs_updating\u001b[0m\u001b[0;34m:\u001b[0m\u001b[0;34m\u001b[0m\u001b[0;34m\u001b[0m\u001b[0m\n\u001b[0;32m-> 1030\u001b[0;31m             \u001b[0mself\u001b[0m\u001b[0;34m.\u001b[0m\u001b[0m_maybe_update_cacher\u001b[0m\u001b[0;34m(\u001b[0m\u001b[0;34m)\u001b[0m\u001b[0;34m\u001b[0m\u001b[0;34m\u001b[0m\u001b[0m\n\u001b[0m\u001b[1;32m   1031\u001b[0m \u001b[0;34m\u001b[0m\u001b[0m\n\u001b[1;32m   1032\u001b[0m     \u001b[0;32mdef\u001b[0m \u001b[0m_set_with_engine\u001b[0m\u001b[0;34m(\u001b[0m\u001b[0mself\u001b[0m\u001b[0;34m,\u001b[0m \u001b[0mkey\u001b[0m\u001b[0;34m,\u001b[0m \u001b[0mvalue\u001b[0m\u001b[0;34m)\u001b[0m\u001b[0;34m:\u001b[0m\u001b[0;34m\u001b[0m\u001b[0;34m\u001b[0m\u001b[0m\n",
            "\u001b[0;32m/usr/local/lib/python3.7/dist-packages/pandas/core/generic.py\u001b[0m in \u001b[0;36m_maybe_update_cacher\u001b[0;34m(self, clear, verify_is_copy)\u001b[0m\n\u001b[1;32m   3236\u001b[0m                 \u001b[0;32mif\u001b[0m \u001b[0mlen\u001b[0m\u001b[0;34m(\u001b[0m\u001b[0mself\u001b[0m\u001b[0;34m)\u001b[0m \u001b[0;34m==\u001b[0m \u001b[0mlen\u001b[0m\u001b[0;34m(\u001b[0m\u001b[0mref\u001b[0m\u001b[0;34m)\u001b[0m\u001b[0;34m:\u001b[0m\u001b[0;34m\u001b[0m\u001b[0;34m\u001b[0m\u001b[0m\n\u001b[1;32m   3237\u001b[0m                     \u001b[0;31m# otherwise, either self or ref has swapped in new arrays\u001b[0m\u001b[0;34m\u001b[0m\u001b[0;34m\u001b[0m\u001b[0;34m\u001b[0m\u001b[0m\n\u001b[0;32m-> 3238\u001b[0;31m                     \u001b[0mref\u001b[0m\u001b[0;34m.\u001b[0m\u001b[0m_maybe_cache_changed\u001b[0m\u001b[0;34m(\u001b[0m\u001b[0mcacher\u001b[0m\u001b[0;34m[\u001b[0m\u001b[0;36m0\u001b[0m\u001b[0;34m]\u001b[0m\u001b[0;34m,\u001b[0m \u001b[0mself\u001b[0m\u001b[0;34m)\u001b[0m\u001b[0;34m\u001b[0m\u001b[0;34m\u001b[0m\u001b[0m\n\u001b[0m\u001b[1;32m   3239\u001b[0m                 \u001b[0;32melse\u001b[0m\u001b[0;34m:\u001b[0m\u001b[0;34m\u001b[0m\u001b[0;34m\u001b[0m\u001b[0m\n\u001b[1;32m   3240\u001b[0m                     \u001b[0;31m# GH#33675 we have swapped in a new array, so parent\u001b[0m\u001b[0;34m\u001b[0m\u001b[0;34m\u001b[0m\u001b[0;34m\u001b[0m\u001b[0m\n",
            "\u001b[0;32m/usr/local/lib/python3.7/dist-packages/pandas/core/generic.py\u001b[0m in \u001b[0;36m_maybe_cache_changed\u001b[0;34m(self, item, value)\u001b[0m\n\u001b[1;32m   3197\u001b[0m         \"\"\"\n\u001b[1;32m   3198\u001b[0m         \u001b[0mloc\u001b[0m \u001b[0;34m=\u001b[0m \u001b[0mself\u001b[0m\u001b[0;34m.\u001b[0m\u001b[0m_info_axis\u001b[0m\u001b[0;34m.\u001b[0m\u001b[0mget_loc\u001b[0m\u001b[0;34m(\u001b[0m\u001b[0mitem\u001b[0m\u001b[0;34m)\u001b[0m\u001b[0;34m\u001b[0m\u001b[0;34m\u001b[0m\u001b[0m\n\u001b[0;32m-> 3199\u001b[0;31m         \u001b[0mself\u001b[0m\u001b[0;34m.\u001b[0m\u001b[0m_mgr\u001b[0m\u001b[0;34m.\u001b[0m\u001b[0miset\u001b[0m\u001b[0;34m(\u001b[0m\u001b[0mloc\u001b[0m\u001b[0;34m,\u001b[0m \u001b[0mvalue\u001b[0m\u001b[0;34m)\u001b[0m\u001b[0;34m\u001b[0m\u001b[0;34m\u001b[0m\u001b[0m\n\u001b[0m\u001b[1;32m   3200\u001b[0m \u001b[0;34m\u001b[0m\u001b[0m\n\u001b[1;32m   3201\u001b[0m     \u001b[0;34m@\u001b[0m\u001b[0mproperty\u001b[0m\u001b[0;34m\u001b[0m\u001b[0;34m\u001b[0m\u001b[0m\n",
            "\u001b[0;32m/usr/local/lib/python3.7/dist-packages/pandas/core/internals/managers.py\u001b[0m in \u001b[0;36miset\u001b[0;34m(self, loc, value)\u001b[0m\n\u001b[1;32m   1103\u001b[0m             \u001b[0mblk_locs\u001b[0m \u001b[0;34m=\u001b[0m \u001b[0mblklocs\u001b[0m\u001b[0;34m[\u001b[0m\u001b[0mval_locs\u001b[0m\u001b[0;34m.\u001b[0m\u001b[0mindexer\u001b[0m\u001b[0;34m]\u001b[0m\u001b[0;34m\u001b[0m\u001b[0;34m\u001b[0m\u001b[0m\n\u001b[1;32m   1104\u001b[0m             \u001b[0;32mif\u001b[0m \u001b[0mblk\u001b[0m\u001b[0;34m.\u001b[0m\u001b[0mshould_store\u001b[0m\u001b[0;34m(\u001b[0m\u001b[0mvalue\u001b[0m\u001b[0;34m)\u001b[0m\u001b[0;34m:\u001b[0m\u001b[0;34m\u001b[0m\u001b[0;34m\u001b[0m\u001b[0m\n\u001b[0;32m-> 1105\u001b[0;31m                 \u001b[0mblk\u001b[0m\u001b[0;34m.\u001b[0m\u001b[0mset\u001b[0m\u001b[0;34m(\u001b[0m\u001b[0mblk_locs\u001b[0m\u001b[0;34m,\u001b[0m \u001b[0mvalue_getitem\u001b[0m\u001b[0;34m(\u001b[0m\u001b[0mval_locs\u001b[0m\u001b[0;34m)\u001b[0m\u001b[0;34m)\u001b[0m\u001b[0;34m\u001b[0m\u001b[0;34m\u001b[0m\u001b[0m\n\u001b[0m\u001b[1;32m   1106\u001b[0m             \u001b[0;32melse\u001b[0m\u001b[0;34m:\u001b[0m\u001b[0;34m\u001b[0m\u001b[0;34m\u001b[0m\u001b[0m\n\u001b[1;32m   1107\u001b[0m                 \u001b[0munfit_mgr_locs\u001b[0m\u001b[0;34m.\u001b[0m\u001b[0mappend\u001b[0m\u001b[0;34m(\u001b[0m\u001b[0mblk\u001b[0m\u001b[0;34m.\u001b[0m\u001b[0mmgr_locs\u001b[0m\u001b[0;34m.\u001b[0m\u001b[0mas_array\u001b[0m\u001b[0;34m[\u001b[0m\u001b[0mblk_locs\u001b[0m\u001b[0;34m]\u001b[0m\u001b[0;34m)\u001b[0m\u001b[0;34m\u001b[0m\u001b[0;34m\u001b[0m\u001b[0m\n",
            "\u001b[0;32m/usr/local/lib/python3.7/dist-packages/pandas/core/internals/blocks.py\u001b[0m in \u001b[0;36mset\u001b[0;34m(self, locs, values)\u001b[0m\n\u001b[1;32m    329\u001b[0m         \u001b[0mcreate\u001b[0m \u001b[0ma\u001b[0m \u001b[0mnew\u001b[0m \u001b[0marray\u001b[0m \u001b[0;32mand\u001b[0m \u001b[0malways\u001b[0m \u001b[0mcreates\u001b[0m \u001b[0ma\u001b[0m \u001b[0mnew\u001b[0m \u001b[0mBlock\u001b[0m\u001b[0;34m.\u001b[0m\u001b[0;34m\u001b[0m\u001b[0;34m\u001b[0m\u001b[0m\n\u001b[1;32m    330\u001b[0m         \"\"\"\n\u001b[0;32m--> 331\u001b[0;31m         \u001b[0mself\u001b[0m\u001b[0;34m.\u001b[0m\u001b[0mvalues\u001b[0m\u001b[0;34m[\u001b[0m\u001b[0mlocs\u001b[0m\u001b[0;34m]\u001b[0m \u001b[0;34m=\u001b[0m \u001b[0mvalues\u001b[0m\u001b[0;34m\u001b[0m\u001b[0;34m\u001b[0m\u001b[0m\n\u001b[0m\u001b[1;32m    332\u001b[0m \u001b[0;34m\u001b[0m\u001b[0m\n\u001b[1;32m    333\u001b[0m     \u001b[0;32mdef\u001b[0m \u001b[0mdelete\u001b[0m\u001b[0;34m(\u001b[0m\u001b[0mself\u001b[0m\u001b[0;34m,\u001b[0m \u001b[0mloc\u001b[0m\u001b[0;34m)\u001b[0m \u001b[0;34m->\u001b[0m \u001b[0;32mNone\u001b[0m\u001b[0;34m:\u001b[0m\u001b[0;34m\u001b[0m\u001b[0;34m\u001b[0m\u001b[0m\n",
            "\u001b[0;31mKeyboardInterrupt\u001b[0m: "
          ]
        }
      ]
    },
    {
      "cell_type": "code",
      "metadata": {
        "colab": {
          "base_uri": "https://localhost:8080/",
          "height": 416
        },
        "id": "w_3QkT2h4RzG",
        "outputId": "80171e5f-7dbb-4cec-cb0c-def9edd34fbd"
      },
      "source": [
        "donations[\r\n",
        "          (donations['Donor ID'] == 'e0fe4d9b8def8a71635e65ba4ff5ef40')\r\n",
        "]['donation_diff']"
      ],
      "execution_count": null,
      "outputs": [
        {
          "output_type": "execute_result",
          "data": {
            "text/html": [
              "<div>\n",
              "<style scoped>\n",
              "    .dataframe tbody tr th:only-of-type {\n",
              "        vertical-align: middle;\n",
              "    }\n",
              "\n",
              "    .dataframe tbody tr th {\n",
              "        vertical-align: top;\n",
              "    }\n",
              "\n",
              "    .dataframe thead th {\n",
              "        text-align: right;\n",
              "    }\n",
              "</style>\n",
              "<table border=\"1\" class=\"dataframe\">\n",
              "  <thead>\n",
              "    <tr style=\"text-align: right;\">\n",
              "      <th></th>\n",
              "      <th>Donor ID</th>\n",
              "      <th>Donation Included Optional Donation</th>\n",
              "      <th>Donation Amount</th>\n",
              "      <th>Donor Cart Sequence</th>\n",
              "      <th>Donation Received Date</th>\n",
              "      <th>donation_diff</th>\n",
              "    </tr>\n",
              "  </thead>\n",
              "  <tbody>\n",
              "    <tr>\n",
              "      <th>0</th>\n",
              "      <td>1f4b5b6e68445c6c4a0509b3aca93f38</td>\n",
              "      <td>No</td>\n",
              "      <td>NaN</td>\n",
              "      <td>11</td>\n",
              "      <td>2016-08-23 13:15:57</td>\n",
              "      <td>0          646 days 09:44:03\\n1         1929 d...</td>\n",
              "    </tr>\n",
              "    <tr>\n",
              "      <th>1</th>\n",
              "      <td>bd323208dc78b1c74b62664b768f3176</td>\n",
              "      <td>Yes</td>\n",
              "      <td>230.0000</td>\n",
              "      <td>2</td>\n",
              "      <td>2013-02-17 21:36:24</td>\n",
              "      <td>0          646 days 09:44:03\\n1         1929 d...</td>\n",
              "    </tr>\n",
              "    <tr>\n",
              "      <th>2</th>\n",
              "      <td>6dd6113f89f2766d3b0707ef2a46260c</td>\n",
              "      <td>Yes</td>\n",
              "      <td>11.5000</td>\n",
              "      <td>44</td>\n",
              "      <td>2013-02-27 10:32:22</td>\n",
              "      <td>0          646 days 09:44:03\\n1         1929 d...</td>\n",
              "    </tr>\n",
              "    <tr>\n",
              "      <th>3</th>\n",
              "      <td>344ad0a72366a27bd4926bbe5d066939</td>\n",
              "      <td>Yes</td>\n",
              "      <td>11.5000</td>\n",
              "      <td>9</td>\n",
              "      <td>2017-07-24 08:40:35</td>\n",
              "      <td>0          646 days 09:44:03\\n1         1929 d...</td>\n",
              "    </tr>\n",
              "    <tr>\n",
              "      <th>4</th>\n",
              "      <td>3cf2607d4131cd654bf54a1f5a533357</td>\n",
              "      <td>Yes</td>\n",
              "      <td>28.7500</td>\n",
              "      <td>5</td>\n",
              "      <td>2017-07-11 16:40:30</td>\n",
              "      <td>0          646 days 09:44:03\\n1         1929 d...</td>\n",
              "    </tr>\n",
              "    <tr>\n",
              "      <th>...</th>\n",
              "      <td>...</td>\n",
              "      <td>...</td>\n",
              "      <td>...</td>\n",
              "      <td>...</td>\n",
              "      <td>...</td>\n",
              "      <td>...</td>\n",
              "    </tr>\n",
              "    <tr>\n",
              "      <th>2169629</th>\n",
              "      <td>4c72f58ef782c5787ae5f713c665ca16</td>\n",
              "      <td>Yes</td>\n",
              "      <td>11.5000</td>\n",
              "      <td>30</td>\n",
              "      <td>2016-12-19 08:59:55</td>\n",
              "      <td>0          646 days 09:44:03\\n1         1929 d...</td>\n",
              "    </tr>\n",
              "    <tr>\n",
              "      <th>2169630</th>\n",
              "      <td>d87367b17c094f719a7b1b05ee453afc</td>\n",
              "      <td>Yes</td>\n",
              "      <td>115.0000</td>\n",
              "      <td>2</td>\n",
              "      <td>2016-10-11 13:59:16</td>\n",
              "      <td>0          646 days 09:44:03\\n1         1929 d...</td>\n",
              "    </tr>\n",
              "    <tr>\n",
              "      <th>2169631</th>\n",
              "      <td>628e39424c50ac95b067398a65de67f8</td>\n",
              "      <td>Yes</td>\n",
              "      <td>172.5000</td>\n",
              "      <td>4</td>\n",
              "      <td>2017-05-26 11:36:05</td>\n",
              "      <td>0          646 days 09:44:03\\n1         1929 d...</td>\n",
              "    </tr>\n",
              "    <tr>\n",
              "      <th>2169632</th>\n",
              "      <td>e0fe4d9b8def8a71635e65ba4ff5ef40</td>\n",
              "      <td>Yes</td>\n",
              "      <td>245.7895</td>\n",
              "      <td>9</td>\n",
              "      <td>2018-04-23 17:48:43</td>\n",
              "      <td>0          646 days 09:44:03\\n1         1929 d...</td>\n",
              "    </tr>\n",
              "    <tr>\n",
              "      <th>2169633</th>\n",
              "      <td>0d191e2e1f879f564a0991639c9c2a19</td>\n",
              "      <td>Yes</td>\n",
              "      <td>57.5000</td>\n",
              "      <td>18</td>\n",
              "      <td>2018-05-08 17:07:32</td>\n",
              "      <td>0          646 days 09:44:03\\n1         1929 d...</td>\n",
              "    </tr>\n",
              "  </tbody>\n",
              "</table>\n",
              "<p>2169634 rows × 6 columns</p>\n",
              "</div>"
            ],
            "text/plain": [
              "                                 Donor ID  ...                                      donation_diff\n",
              "0        1f4b5b6e68445c6c4a0509b3aca93f38  ...  0          646 days 09:44:03\\n1         1929 d...\n",
              "1        bd323208dc78b1c74b62664b768f3176  ...  0          646 days 09:44:03\\n1         1929 d...\n",
              "2        6dd6113f89f2766d3b0707ef2a46260c  ...  0          646 days 09:44:03\\n1         1929 d...\n",
              "3        344ad0a72366a27bd4926bbe5d066939  ...  0          646 days 09:44:03\\n1         1929 d...\n",
              "4        3cf2607d4131cd654bf54a1f5a533357  ...  0          646 days 09:44:03\\n1         1929 d...\n",
              "...                                   ...  ...                                                ...\n",
              "2169629  4c72f58ef782c5787ae5f713c665ca16  ...  0          646 days 09:44:03\\n1         1929 d...\n",
              "2169630  d87367b17c094f719a7b1b05ee453afc  ...  0          646 days 09:44:03\\n1         1929 d...\n",
              "2169631  628e39424c50ac95b067398a65de67f8  ...  0          646 days 09:44:03\\n1         1929 d...\n",
              "2169632  e0fe4d9b8def8a71635e65ba4ff5ef40  ...  0          646 days 09:44:03\\n1         1929 d...\n",
              "2169633  0d191e2e1f879f564a0991639c9c2a19  ...  0          646 days 09:44:03\\n1         1929 d...\n",
              "\n",
              "[2169634 rows x 6 columns]"
            ]
          },
          "metadata": {
            "tags": []
          },
          "execution_count": 114
        }
      ]
    },
    {
      "cell_type": "markdown",
      "metadata": {
        "id": "5UU7gBDVTTuT"
      },
      "source": [
        "**5.1.3 For understanding `Frequency`, calculate how frequently (how many times) a user has made donations.<br> Assume that we want to recognize the person with the highest frequency by displaying her/ his name on the webpage, please find the donor ID for the highest frequency available. (0.25 points)**"
      ]
    },
    {
      "cell_type": "code",
      "metadata": {
        "id": "8CvdrcUSTTuT",
        "colab": {
          "base_uri": "https://localhost:8080/",
          "height": 34
        },
        "outputId": "a1de2d36-ecf2-4a09-b0f6-eaa9f6ad26a8"
      },
      "source": [
        "RFM = pd.DataFrame({\"Id\": donations['Donor ID'].value_counts().index.to_list(), \"frequency\": donations['Donor ID'].value_counts().values})\r\n",
        "RFM['Id'][0]"
      ],
      "execution_count": null,
      "outputs": [
        {
          "output_type": "execute_result",
          "data": {
            "application/vnd.google.colaboratory.intrinsic+json": {
              "type": "string"
            },
            "text/plain": [
              "'39df9399f5384334a42905bcf0acdcbf'"
            ]
          },
          "metadata": {
            "tags": []
          },
          "execution_count": 151
        }
      ]
    },
    {
      "cell_type": "code",
      "metadata": {
        "colab": {
          "base_uri": "https://localhost:8080/"
        },
        "id": "tQrilBdzCBZn",
        "outputId": "23574d3e-453f-40d1-cd88-cc1d35eee9fb"
      },
      "source": [
        "print(f'The doner Id with the highest frequency is: {RFM[\"Id\"][0]}')"
      ],
      "execution_count": null,
      "outputs": [
        {
          "output_type": "stream",
          "text": [
            "The doner Id with the highest frequency is: 39df9399f5384334a42905bcf0acdcbf\n"
          ],
          "name": "stdout"
        }
      ]
    },
    {
      "cell_type": "markdown",
      "metadata": {
        "id": "s2ZG95vmTTuT"
      },
      "source": [
        "**5.1.4 For understanding `Monetary Value`, calculate the amount of donation. <br> What is the highest donation amount and what is the donor ID of that donation? <br> Is donor ID from from this the same with donor ID from the highest frequency? (0.25 points)**"
      ]
    },
    {
      "cell_type": "code",
      "metadata": {
        "id": "ojHx71yETTuU",
        "colab": {
          "base_uri": "https://localhost:8080/",
          "height": 380
        },
        "outputId": "0cfe6f0d-10fd-4311-d277-1b86915e2fa5"
      },
      "source": [
        "# donations[\r\n",
        "#           (donations['Donor ID'] == '39df9399f5384334a42905bcf0acdcbf')\r\n",
        "# ]['Donation Amount'].sum()\r\n",
        "for i in range(len(RFM)):\r\n",
        "  RFM['donations'] = donations[\r\n",
        "           (donations['Donor ID'] == RFM['Id'][i])\r\n",
        " ]['Donation Amount'].sum()\r\n",
        "RFM['recency'] = donations['donation_diff']\r\n",
        "# get the max donation and Id then check if it's the same as the above one"
      ],
      "execution_count": null,
      "outputs": [
        {
          "output_type": "error",
          "ename": "KeyboardInterrupt",
          "evalue": "ignored",
          "traceback": [
            "\u001b[0;31m---------------------------------------------------------------------------\u001b[0m",
            "\u001b[0;31mKeyboardInterrupt\u001b[0m                         Traceback (most recent call last)",
            "\u001b[0;32m<ipython-input-155-4a593069bf7c>\u001b[0m in \u001b[0;36m<module>\u001b[0;34m()\u001b[0m\n\u001b[1;32m      6\u001b[0m \u001b[0;32mfor\u001b[0m \u001b[0mi\u001b[0m \u001b[0;32min\u001b[0m \u001b[0mrange\u001b[0m\u001b[0;34m(\u001b[0m\u001b[0mlen\u001b[0m\u001b[0;34m(\u001b[0m\u001b[0munique_ids\u001b[0m\u001b[0;34m)\u001b[0m\u001b[0;34m)\u001b[0m\u001b[0;34m:\u001b[0m\u001b[0;34m\u001b[0m\u001b[0;34m\u001b[0m\u001b[0m\n\u001b[1;32m      7\u001b[0m   unique_ids['donations'] = donations[\n\u001b[0;32m----> 8\u001b[0;31m            \u001b[0;34m(\u001b[0m\u001b[0mdonations\u001b[0m\u001b[0;34m[\u001b[0m\u001b[0;34m'Donor ID'\u001b[0m\u001b[0;34m]\u001b[0m \u001b[0;34m==\u001b[0m \u001b[0munique_ids\u001b[0m\u001b[0;34m[\u001b[0m\u001b[0;34m'Id'\u001b[0m\u001b[0;34m]\u001b[0m\u001b[0;34m[\u001b[0m\u001b[0mi\u001b[0m\u001b[0;34m]\u001b[0m\u001b[0;34m)\u001b[0m\u001b[0;34m\u001b[0m\u001b[0;34m\u001b[0m\u001b[0m\n\u001b[0m\u001b[1;32m      9\u001b[0m  ]['Donation Amount'].sum()\n\u001b[1;32m     10\u001b[0m \u001b[0munique_ids\u001b[0m\u001b[0;34m\u001b[0m\u001b[0;34m\u001b[0m\u001b[0m\n",
            "\u001b[0;32m/usr/local/lib/python3.7/dist-packages/pandas/core/ops/common.py\u001b[0m in \u001b[0;36mnew_method\u001b[0;34m(self, other)\u001b[0m\n\u001b[1;32m     63\u001b[0m         \u001b[0mother\u001b[0m \u001b[0;34m=\u001b[0m \u001b[0mitem_from_zerodim\u001b[0m\u001b[0;34m(\u001b[0m\u001b[0mother\u001b[0m\u001b[0;34m)\u001b[0m\u001b[0;34m\u001b[0m\u001b[0;34m\u001b[0m\u001b[0m\n\u001b[1;32m     64\u001b[0m \u001b[0;34m\u001b[0m\u001b[0m\n\u001b[0;32m---> 65\u001b[0;31m         \u001b[0;32mreturn\u001b[0m \u001b[0mmethod\u001b[0m\u001b[0;34m(\u001b[0m\u001b[0mself\u001b[0m\u001b[0;34m,\u001b[0m \u001b[0mother\u001b[0m\u001b[0;34m)\u001b[0m\u001b[0;34m\u001b[0m\u001b[0;34m\u001b[0m\u001b[0m\n\u001b[0m\u001b[1;32m     66\u001b[0m \u001b[0;34m\u001b[0m\u001b[0m\n\u001b[1;32m     67\u001b[0m     \u001b[0;32mreturn\u001b[0m \u001b[0mnew_method\u001b[0m\u001b[0;34m\u001b[0m\u001b[0;34m\u001b[0m\u001b[0m\n",
            "\u001b[0;32m/usr/local/lib/python3.7/dist-packages/pandas/core/ops/__init__.py\u001b[0m in \u001b[0;36mwrapper\u001b[0;34m(self, other)\u001b[0m\n\u001b[1;32m    368\u001b[0m         \u001b[0mrvalues\u001b[0m \u001b[0;34m=\u001b[0m \u001b[0mextract_array\u001b[0m\u001b[0;34m(\u001b[0m\u001b[0mother\u001b[0m\u001b[0;34m,\u001b[0m \u001b[0mextract_numpy\u001b[0m\u001b[0;34m=\u001b[0m\u001b[0;32mTrue\u001b[0m\u001b[0;34m)\u001b[0m\u001b[0;34m\u001b[0m\u001b[0;34m\u001b[0m\u001b[0m\n\u001b[1;32m    369\u001b[0m \u001b[0;34m\u001b[0m\u001b[0m\n\u001b[0;32m--> 370\u001b[0;31m         \u001b[0mres_values\u001b[0m \u001b[0;34m=\u001b[0m \u001b[0mcomparison_op\u001b[0m\u001b[0;34m(\u001b[0m\u001b[0mlvalues\u001b[0m\u001b[0;34m,\u001b[0m \u001b[0mrvalues\u001b[0m\u001b[0;34m,\u001b[0m \u001b[0mop\u001b[0m\u001b[0;34m)\u001b[0m\u001b[0;34m\u001b[0m\u001b[0;34m\u001b[0m\u001b[0m\n\u001b[0m\u001b[1;32m    371\u001b[0m \u001b[0;34m\u001b[0m\u001b[0m\n\u001b[1;32m    372\u001b[0m         \u001b[0;32mreturn\u001b[0m \u001b[0mself\u001b[0m\u001b[0;34m.\u001b[0m\u001b[0m_construct_result\u001b[0m\u001b[0;34m(\u001b[0m\u001b[0mres_values\u001b[0m\u001b[0;34m,\u001b[0m \u001b[0mname\u001b[0m\u001b[0;34m=\u001b[0m\u001b[0mres_name\u001b[0m\u001b[0;34m)\u001b[0m\u001b[0;34m\u001b[0m\u001b[0;34m\u001b[0m\u001b[0m\n",
            "\u001b[0;32m/usr/local/lib/python3.7/dist-packages/pandas/core/ops/array_ops.py\u001b[0m in \u001b[0;36mcomparison_op\u001b[0;34m(left, right, op)\u001b[0m\n\u001b[1;32m    242\u001b[0m \u001b[0;34m\u001b[0m\u001b[0m\n\u001b[1;32m    243\u001b[0m     \u001b[0;32melif\u001b[0m \u001b[0mis_object_dtype\u001b[0m\u001b[0;34m(\u001b[0m\u001b[0mlvalues\u001b[0m\u001b[0;34m.\u001b[0m\u001b[0mdtype\u001b[0m\u001b[0;34m)\u001b[0m\u001b[0;34m:\u001b[0m\u001b[0;34m\u001b[0m\u001b[0;34m\u001b[0m\u001b[0m\n\u001b[0;32m--> 244\u001b[0;31m         \u001b[0mres_values\u001b[0m \u001b[0;34m=\u001b[0m \u001b[0mcomp_method_OBJECT_ARRAY\u001b[0m\u001b[0;34m(\u001b[0m\u001b[0mop\u001b[0m\u001b[0;34m,\u001b[0m \u001b[0mlvalues\u001b[0m\u001b[0;34m,\u001b[0m \u001b[0mrvalues\u001b[0m\u001b[0;34m)\u001b[0m\u001b[0;34m\u001b[0m\u001b[0;34m\u001b[0m\u001b[0m\n\u001b[0m\u001b[1;32m    245\u001b[0m \u001b[0;34m\u001b[0m\u001b[0m\n\u001b[1;32m    246\u001b[0m     \u001b[0;32melse\u001b[0m\u001b[0;34m:\u001b[0m\u001b[0;34m\u001b[0m\u001b[0;34m\u001b[0m\u001b[0m\n",
            "\u001b[0;32m/usr/local/lib/python3.7/dist-packages/pandas/core/ops/array_ops.py\u001b[0m in \u001b[0;36mcomp_method_OBJECT_ARRAY\u001b[0;34m(op, x, y)\u001b[0m\n\u001b[1;32m     54\u001b[0m         \u001b[0mresult\u001b[0m \u001b[0;34m=\u001b[0m \u001b[0mlibops\u001b[0m\u001b[0;34m.\u001b[0m\u001b[0mvec_compare\u001b[0m\u001b[0;34m(\u001b[0m\u001b[0mx\u001b[0m\u001b[0;34m.\u001b[0m\u001b[0mravel\u001b[0m\u001b[0;34m(\u001b[0m\u001b[0;34m)\u001b[0m\u001b[0;34m,\u001b[0m \u001b[0my\u001b[0m\u001b[0;34m.\u001b[0m\u001b[0mravel\u001b[0m\u001b[0;34m(\u001b[0m\u001b[0;34m)\u001b[0m\u001b[0;34m,\u001b[0m \u001b[0mop\u001b[0m\u001b[0;34m)\u001b[0m\u001b[0;34m\u001b[0m\u001b[0;34m\u001b[0m\u001b[0m\n\u001b[1;32m     55\u001b[0m     \u001b[0;32melse\u001b[0m\u001b[0;34m:\u001b[0m\u001b[0;34m\u001b[0m\u001b[0;34m\u001b[0m\u001b[0m\n\u001b[0;32m---> 56\u001b[0;31m         \u001b[0mresult\u001b[0m \u001b[0;34m=\u001b[0m \u001b[0mlibops\u001b[0m\u001b[0;34m.\u001b[0m\u001b[0mscalar_compare\u001b[0m\u001b[0;34m(\u001b[0m\u001b[0mx\u001b[0m\u001b[0;34m.\u001b[0m\u001b[0mravel\u001b[0m\u001b[0;34m(\u001b[0m\u001b[0;34m)\u001b[0m\u001b[0;34m,\u001b[0m \u001b[0my\u001b[0m\u001b[0;34m,\u001b[0m \u001b[0mop\u001b[0m\u001b[0;34m)\u001b[0m\u001b[0;34m\u001b[0m\u001b[0;34m\u001b[0m\u001b[0m\n\u001b[0m\u001b[1;32m     57\u001b[0m     \u001b[0;32mreturn\u001b[0m \u001b[0mresult\u001b[0m\u001b[0;34m.\u001b[0m\u001b[0mreshape\u001b[0m\u001b[0;34m(\u001b[0m\u001b[0mx\u001b[0m\u001b[0;34m.\u001b[0m\u001b[0mshape\u001b[0m\u001b[0;34m)\u001b[0m\u001b[0;34m\u001b[0m\u001b[0;34m\u001b[0m\u001b[0m\n\u001b[1;32m     58\u001b[0m \u001b[0;34m\u001b[0m\u001b[0m\n",
            "\u001b[0;31mKeyboardInterrupt\u001b[0m: "
          ]
        }
      ]
    },
    {
      "cell_type": "markdown",
      "metadata": {
        "id": "XOIMgeBHTTuU"
      },
      "source": [
        "**5.1.5 Use the quantiles to separate Recency, Frequency, Monetary Value into four bins like we did in lab tasks. Calculate score for each donor which is equal to sum of bin values as a RFM components and save it in a new column, you can name it `RFM_Score`. (0.25 points)**"
      ]
    },
    {
      "cell_type": "code",
      "metadata": {
        "id": "aisjmhWDTTuU"
      },
      "source": [
        "rfm = RFM\r\n",
        "rfm['r_quartile'] = pd.qcut(rfm['recency'], 4, ['1','2','3','4']) # 4 means high recency\r\n",
        "rfm['f_quartile'] = pd.qcut(rfm['frequency'], 4, ['4','3','2','1']) # 4 means low frequency\r\n",
        "rfm['m_quartile'] = pd.qcut(rfm['donations'], 4, ['4','3','2','1']) # 4 means low Revenu\r\n",
        "rfm.head()"
      ],
      "execution_count": null,
      "outputs": []
    },
    {
      "cell_type": "code",
      "metadata": {
        "id": "0bZMA4KYICoP"
      },
      "source": [
        "rfm.r_quartile.unique()"
      ],
      "execution_count": null,
      "outputs": []
    },
    {
      "cell_type": "code",
      "metadata": {
        "id": "J0dEUMgVIGZA"
      },
      "source": [
        "rfm['RFM_Score'] = rfm.r_quartile.astype(str)+ rfm.f_quartile.astype(str) + rfm.m_quartile.astype(str)\r\n",
        "rfm.head(10)"
      ],
      "execution_count": null,
      "outputs": []
    },
    {
      "cell_type": "markdown",
      "metadata": {
        "id": "YhQ4oh2pTTuU"
      },
      "source": [
        "**5.1.6 Interpret what the minimum, maximum and mean value of `RFM_Score` indicate about the donors from the previous findings. (0.25 points)**"
      ]
    },
    {
      "cell_type": "code",
      "metadata": {
        "id": "FqrOG6-UTTuU"
      },
      "source": [
        "rfm['RFM_Score'].min(), rfm['RFM_Score'].max() , rfm['RFM_Score'].mean()"
      ],
      "execution_count": null,
      "outputs": []
    },
    {
      "cell_type": "markdown",
      "metadata": {
        "id": "DxVq6XBUTTuU"
      },
      "source": [
        "## 5.2 K-means Clustering (1.5 points)\n",
        "We will learn to apply K-means clustering algorithm in this section. "
      ]
    },
    {
      "cell_type": "markdown",
      "metadata": {
        "id": "6YaoYBLxTTuV"
      },
      "source": [
        "**5.2.1 Plese load the `customers.csv` dataset and provide a descriptives of the dataset. (0.05 points)** <br>\n",
        "*Make sure to pass `encoding = \"ISO-8859-1\"` in the pandas read_csv() function*"
      ]
    },
    {
      "cell_type": "code",
      "metadata": {
        "id": "CXnBReqnTTuV",
        "colab": {
          "resources": {
            "http://localhost:8080/nbextensions/google.colab/files.js": {
              "data": "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",
              "ok": true,
              "headers": [
                [
                  "content-type",
                  "application/javascript"
                ]
              ],
              "status": 200,
              "status_text": ""
            }
          },
          "base_uri": "https://localhost:8080/",
          "height": 72
        },
        "outputId": "0cd82915-a654-4fad-c019-c79aeccc3278"
      },
      "source": [
        "uploaded = files.upload()  "
      ],
      "execution_count": null,
      "outputs": [
        {
          "output_type": "display_data",
          "data": {
            "text/html": [
              "\n",
              "     <input type=\"file\" id=\"files-dc773a3e-9354-4b57-a116-f8872b9f5f2d\" name=\"files[]\" multiple disabled\n",
              "        style=\"border:none\" />\n",
              "     <output id=\"result-dc773a3e-9354-4b57-a116-f8872b9f5f2d\">\n",
              "      Upload widget is only available when the cell has been executed in the\n",
              "      current browser session. Please rerun this cell to enable.\n",
              "      </output>\n",
              "      <script src=\"/nbextensions/google.colab/files.js\"></script> "
            ],
            "text/plain": [
              "<IPython.core.display.HTML object>"
            ]
          },
          "metadata": {
            "tags": []
          }
        },
        {
          "output_type": "stream",
          "text": [
            "Saving customers.csv to customers.csv\n"
          ],
          "name": "stdout"
        }
      ]
    },
    {
      "cell_type": "code",
      "metadata": {
        "colab": {
          "base_uri": "https://localhost:8080/",
          "height": 416
        },
        "id": "qVITjeE1QTrj",
        "outputId": "2b7a14fb-aab3-43ca-f35a-812612675cce"
      },
      "source": [
        "customers_data = pd.read_csv('customers.csv', sep= ',' , encoding = \"ISO-8859-1\")\r\n",
        "customers_data"
      ],
      "execution_count": null,
      "outputs": [
        {
          "output_type": "execute_result",
          "data": {
            "text/html": [
              "<div>\n",
              "<style scoped>\n",
              "    .dataframe tbody tr th:only-of-type {\n",
              "        vertical-align: middle;\n",
              "    }\n",
              "\n",
              "    .dataframe tbody tr th {\n",
              "        vertical-align: top;\n",
              "    }\n",
              "\n",
              "    .dataframe thead th {\n",
              "        text-align: right;\n",
              "    }\n",
              "</style>\n",
              "<table border=\"1\" class=\"dataframe\">\n",
              "  <thead>\n",
              "    <tr style=\"text-align: right;\">\n",
              "      <th></th>\n",
              "      <th>CustomerID</th>\n",
              "      <th>Gender</th>\n",
              "      <th>Age</th>\n",
              "      <th>Annual Income (k$)</th>\n",
              "      <th>Spending Score (1-100)</th>\n",
              "    </tr>\n",
              "  </thead>\n",
              "  <tbody>\n",
              "    <tr>\n",
              "      <th>0</th>\n",
              "      <td>1</td>\n",
              "      <td>Male</td>\n",
              "      <td>19</td>\n",
              "      <td>15</td>\n",
              "      <td>39</td>\n",
              "    </tr>\n",
              "    <tr>\n",
              "      <th>1</th>\n",
              "      <td>2</td>\n",
              "      <td>Male</td>\n",
              "      <td>21</td>\n",
              "      <td>15</td>\n",
              "      <td>81</td>\n",
              "    </tr>\n",
              "    <tr>\n",
              "      <th>2</th>\n",
              "      <td>3</td>\n",
              "      <td>Female</td>\n",
              "      <td>20</td>\n",
              "      <td>16</td>\n",
              "      <td>6</td>\n",
              "    </tr>\n",
              "    <tr>\n",
              "      <th>3</th>\n",
              "      <td>4</td>\n",
              "      <td>Female</td>\n",
              "      <td>23</td>\n",
              "      <td>16</td>\n",
              "      <td>77</td>\n",
              "    </tr>\n",
              "    <tr>\n",
              "      <th>4</th>\n",
              "      <td>5</td>\n",
              "      <td>Female</td>\n",
              "      <td>31</td>\n",
              "      <td>17</td>\n",
              "      <td>40</td>\n",
              "    </tr>\n",
              "    <tr>\n",
              "      <th>...</th>\n",
              "      <td>...</td>\n",
              "      <td>...</td>\n",
              "      <td>...</td>\n",
              "      <td>...</td>\n",
              "      <td>...</td>\n",
              "    </tr>\n",
              "    <tr>\n",
              "      <th>195</th>\n",
              "      <td>196</td>\n",
              "      <td>Female</td>\n",
              "      <td>35</td>\n",
              "      <td>120</td>\n",
              "      <td>79</td>\n",
              "    </tr>\n",
              "    <tr>\n",
              "      <th>196</th>\n",
              "      <td>197</td>\n",
              "      <td>Female</td>\n",
              "      <td>45</td>\n",
              "      <td>126</td>\n",
              "      <td>28</td>\n",
              "    </tr>\n",
              "    <tr>\n",
              "      <th>197</th>\n",
              "      <td>198</td>\n",
              "      <td>Male</td>\n",
              "      <td>32</td>\n",
              "      <td>126</td>\n",
              "      <td>74</td>\n",
              "    </tr>\n",
              "    <tr>\n",
              "      <th>198</th>\n",
              "      <td>199</td>\n",
              "      <td>Male</td>\n",
              "      <td>32</td>\n",
              "      <td>137</td>\n",
              "      <td>18</td>\n",
              "    </tr>\n",
              "    <tr>\n",
              "      <th>199</th>\n",
              "      <td>200</td>\n",
              "      <td>Male</td>\n",
              "      <td>30</td>\n",
              "      <td>137</td>\n",
              "      <td>83</td>\n",
              "    </tr>\n",
              "  </tbody>\n",
              "</table>\n",
              "<p>200 rows × 5 columns</p>\n",
              "</div>"
            ],
            "text/plain": [
              "     CustomerID  Gender  Age  Annual Income (k$)  Spending Score (1-100)\n",
              "0             1    Male   19                  15                      39\n",
              "1             2    Male   21                  15                      81\n",
              "2             3  Female   20                  16                       6\n",
              "3             4  Female   23                  16                      77\n",
              "4             5  Female   31                  17                      40\n",
              "..          ...     ...  ...                 ...                     ...\n",
              "195         196  Female   35                 120                      79\n",
              "196         197  Female   45                 126                      28\n",
              "197         198    Male   32                 126                      74\n",
              "198         199    Male   32                 137                      18\n",
              "199         200    Male   30                 137                      83\n",
              "\n",
              "[200 rows x 5 columns]"
            ]
          },
          "metadata": {
            "tags": []
          },
          "execution_count": 172
        }
      ]
    },
    {
      "cell_type": "markdown",
      "metadata": {
        "id": "oIbOA9lvTTuV"
      },
      "source": [
        "**5.2.2 Visualize the relation of `Age` and `Annual Income (k$)` of customers in the dataset. You can use your perefered plotting method to show the result. Could you explain the result if there is any relation among the variables? (0.10 points)**"
      ]
    },
    {
      "cell_type": "code",
      "metadata": {
        "id": "YfRqVfdjTTuV",
        "colab": {
          "base_uri": "https://localhost:8080/",
          "height": 517
        },
        "outputId": "580f7cac-cfcd-4701-93aa-ddeedf912f67"
      },
      "source": [
        "plt.scatter(customers_data['Age'],customers_data['Annual Income (k$)']);\r\n",
        "plt.title(\"relationship between age and annual income\");\r\n",
        "plt.xlabel('age');\r\n",
        "plt.ylabel('annual income (k$)');"
      ],
      "execution_count": null,
      "outputs": [
        {
          "output_type": "display_data",
          "data": {
            "image/png": "[encoded data removed]",
            "text/plain": [
              "<Figure size 1440x576 with 1 Axes>"
            ]
          },
          "metadata": {
            "tags": []
          }
        }
      ]
    },
    {
      "cell_type": "markdown",
      "metadata": {
        "id": "iNkBSYFSUfLs"
      },
      "source": [
        "This above scatter plot indicates a negative correlation but that's odd since there should be a positive correlation not a negative one."
      ]
    },
    {
      "cell_type": "code",
      "metadata": {
        "colab": {
          "base_uri": "https://localhost:8080/"
        },
        "id": "fLuV4RgmSNLH",
        "outputId": "57a41b6e-e0d2-4380-d1cf-005923e3133e"
      },
      "source": [
        "customers_data['Age'].corr(customers_data['Annual Income (k$)'])"
      ],
      "execution_count": null,
      "outputs": [
        {
          "output_type": "execute_result",
          "data": {
            "text/plain": [
              "-0.012398042736060145"
            ]
          },
          "metadata": {
            "tags": []
          },
          "execution_count": 184
        }
      ]
    },
    {
      "cell_type": "code",
      "metadata": {
        "id": "1fo8fRoSSlWA"
      },
      "source": [
        "print(f\"from the above cell we notice that there's a negative correlation between the age and the annual income.\")"
      ],
      "execution_count": null,
      "outputs": []
    },
    {
      "cell_type": "markdown",
      "metadata": {
        "id": "-KT0rjbVTTuW"
      },
      "source": [
        "**5.2.3 Visualize the relation of `Age` and `Spending Score (1-100)` of customers in the dataset. You can use your perefered plotting method to show the result. Could you explain the result if there is anything interesting going on? (0.10 points)**"
      ]
    },
    {
      "cell_type": "code",
      "metadata": {
        "id": "JVXB_gS-TTuW",
        "colab": {
          "base_uri": "https://localhost:8080/",
          "height": 517
        },
        "outputId": "10309942-637f-48bd-c30d-18566251ed4d"
      },
      "source": [
        "plt.scatter(customers_data['Age'],customers_data['Spending Score (1-100)']);\r\n",
        "plt.title(\"relationship between age and spending score\");\r\n",
        "plt.xlabel('age');\r\n",
        "plt.ylabel('score (1-100)');"
      ],
      "execution_count": null,
      "outputs": [
        {
          "output_type": "display_data",
          "data": {
            "image/png": "[encoded data removed]",
            "text/plain": [
              "<Figure size 1440x576 with 1 Axes>"
            ]
          },
          "metadata": {
            "tags": []
          }
        }
      ]
    },
    {
      "cell_type": "markdown",
      "metadata": {
        "id": "OpkQx1AYURdy"
      },
      "source": [
        "Also, This above scatter plot indicates a negative correlation but that's odd since there should be a positive correlation not a negative one."
      ]
    },
    {
      "cell_type": "code",
      "metadata": {
        "colab": {
          "base_uri": "https://localhost:8080/"
        },
        "id": "rAg0UbgjTNgx",
        "outputId": "04b5d993-93ee-4912-c626-36056f1603ea"
      },
      "source": [
        "customers_data['Age'].corr(customers_data['Spending Score (1-100)'])"
      ],
      "execution_count": null,
      "outputs": [
        {
          "output_type": "execute_result",
          "data": {
            "text/plain": [
              "-0.32722684603909014"
            ]
          },
          "metadata": {
            "tags": []
          },
          "execution_count": 186
        }
      ]
    },
    {
      "cell_type": "markdown",
      "metadata": {
        "id": "8ElIZtnaTNzU"
      },
      "source": [
        "we also notice a negative correlation between the age and the spending score which doesn't make sense because the correlation should be positive as the age decreases the spending increases but this is not the case here."
      ]
    },
    {
      "cell_type": "markdown",
      "metadata": {
        "id": "lilm8rLVTTuX"
      },
      "source": [
        "**5.2.4 Visualize the relation of `Annual Income (k$)` and `Spending Score (1-100)` of customers in the dataset. (0.10 points)**"
      ]
    },
    {
      "cell_type": "code",
      "metadata": {
        "id": "8czjAtb5TTuX",
        "colab": {
          "base_uri": "https://localhost:8080/",
          "height": 517
        },
        "outputId": "a1486d33-0539-44fc-a51b-30aa73ce2b2b"
      },
      "source": [
        "plt.scatter(customers_data['Annual Income (k$)'],customers_data['Spending Score (1-100)']);\r\n",
        "plt.title(\"relationship between the annual income and spending score\");\r\n",
        "plt.xlabel('annual income (k$)');\r\n",
        "plt.ylabel('score (1-100)');"
      ],
      "execution_count": null,
      "outputs": [
        {
          "output_type": "display_data",
          "data": {
            "image/png": "[encoded data removed]",
            "text/plain": [
              "<Figure size 1440x576 with 1 Axes>"
            ]
          },
          "metadata": {
            "tags": []
          }
        }
      ]
    },
    {
      "cell_type": "code",
      "metadata": {
        "colab": {
          "base_uri": "https://localhost:8080/"
        },
        "id": "HN3K3qaTTyXx",
        "outputId": "2c284d75-45c7-4030-e446-93525806fcf7"
      },
      "source": [
        "customers_data['Annual Income (k$)'].corr(customers_data['Spending Score (1-100)'])"
      ],
      "execution_count": null,
      "outputs": [
        {
          "output_type": "execute_result",
          "data": {
            "text/plain": [
              "0.009902848094037608"
            ]
          },
          "metadata": {
            "tags": []
          },
          "execution_count": 187
        }
      ]
    },
    {
      "cell_type": "markdown",
      "metadata": {
        "id": "KZk5VrOLTytm"
      },
      "source": [
        "The odd thing here is that the annual income and the spending score has a positive correlation which also doesn't make sense because there should be a negative correlation not a positive one but it kinda make sense since both of them is a negative correlation with the age column."
      ]
    },
    {
      "cell_type": "markdown",
      "metadata": {
        "id": "j6bsJJ6aTTuX"
      },
      "source": [
        "If you successfully plotted the diagram of 5.2.4, you should be able to see how the instances(points) are dispersed; clearly there are some groups where the instances are close to each other. Unfortunately computers cannot just look at the plot, guess on the clusters and their boundaries. <br>In order to make machine understand the clusters, we will apply K-means, a very popular and easy algorithm. <br><br>\n",
        "But before applying K-means we have to know on which columns we will apply the K-means algorithm. For that, we have to perform data preprocessing. Since the above plot shows a relation between `Anunual Income (k$)` and `Spending Score (1-100)`, it is wise just to pick those two and proceed. <br><br>\n",
        "\n",
        "However, there are drawbacks of K-means algorithm. It does not inherently know how many possible clusters are available in the dataset. So, we have to set the parameter manually before we run the algorithm. One of the ways to know number clusters is to apply elbow method. The elbow method has been discussed in the lecture. Now it is your turn to apply elbow method on our dataset. "
      ]
    },
    {
      "cell_type": "markdown",
      "metadata": {
        "id": "IHKz2nCRTTuX"
      },
      "source": [
        "**5.2.5 Select `Anunual Income (k$)` and `Spending Score (1-100)` to create a new dataset for the purpose of elbow method and K-means. Apply elbow method on the new dataset and plot the result. (0.5 points)**"
      ]
    },
    {
      "cell_type": "code",
      "metadata": {
        "id": "CJgdr2PhTTuY",
        "colab": {
          "base_uri": "https://localhost:8080/",
          "height": 282
        },
        "outputId": "7442c93d-9f93-4feb-d2f0-e0bfa4fa0de4"
      },
      "source": [
        "CRED = '\\033[91m'\n",
        "CEND = '\\033[0m'\n",
        "\n",
        "#packages you need to do the tasks\n",
        "import pandas as pd\n",
        "import numpy as np\n",
        "import matplotlib.pyplot as plt\n",
        "%matplotlib inline \n",
        "from sklearn.cluster import KMeans\n",
        "\n",
        "#funtion to plot elbow method\n",
        "def plot_elbow(x,y):\n",
        "    if len(y)!=0:\n",
        "        \n",
        "        plt.figure(figsize=(16,8))\n",
        "        plt.plot(K, dist, 'bx-')\n",
        "        plt.xlabel('Number of K')\n",
        "        plt.ylabel('Distortion')\n",
        "        plt.title('Elbow Method')\n",
        "        plt.show()\n",
        "    else:\n",
        "        raise NotImplementedError(\"Oops! There is some error, implement the elbow method correctly!\")\n",
        "    \n",
        "\n",
        "#data preprocessing\n",
        "\n",
        "\n",
        "\n",
        "##### YOUR DATA PREPROCESSING CODE STARTS ##### (please do not delete this line)\n",
        "new_data = pd.DataFrame({\"annual\": customers_data['Annual Income (k$)'], \"spending\": customers_data['Spending Score (1-100)']})\n",
        "##### YOUR DATA PREPROCESSING CODE ENDS ##### (please do not delete this line)\n",
        "\n",
        "\n",
        "\n",
        "\n",
        " \n",
        "dist = []            #Store the distortion in dist variable.\n",
        "K = range(1,10)      #we can check upto 10 clusters, you can change the value if you want to experiment.\n",
        "\n",
        "\n",
        "\n",
        "\n",
        "##### YOUR ELBOW METHOD CODE STARTS ##### (please do not delete this line)\n",
        "\n",
        "sse={}\n",
        "\n",
        "for k in range(1, 10):\n",
        "    kmeans = KMeans(n_clusters=k).fit(new_data)\n",
        "    new_data[\"clusters\"] = kmeans.labels_\n",
        "    sse[k] = kmeans.inertia_ \n",
        " \n",
        "plt.figure()\n",
        "plt.plot(list(sse.keys()), list(sse.values()))\n",
        "plt.xlabel(\"Number of cluster\")\n",
        "plt.show()\n",
        "\n",
        "##### YOUR ELBOW METHOD CODE ENDS ##### (please do not delete this line)\n",
        "\n",
        "\n",
        "\n",
        "\n",
        "#plot of elbow method\n",
        "# try:\n",
        "#     plot_elbow(K, dist) \n",
        "# except NotImplementedError as e:\n",
        "#     print(CRED + \"TODO: \" + str(e) + CEND)"
      ],
      "execution_count": null,
      "outputs": [
        {
          "output_type": "display_data",
          "data": {
            "image/png": "[encoded data removed]",
            "text/plain": [
              "<Figure size 432x288 with 1 Axes>"
            ]
          },
          "metadata": {
            "tags": [],
            "needs_background": "light"
          }
        }
      ]
    },
    {
      "cell_type": "markdown",
      "metadata": {
        "id": "rI9A95HPTTuc"
      },
      "source": [
        "**5.2.6 If you could successfully apply elbow method, pick the optimal value of K and pass the value to the k-means algoithm you are about to apply.\n",
        "<br> Please apply the K-means algorithm with `max_iter=1`. Pass the argument to the K-means function. \n",
        "<br>Do not forget to visualize the clustering result. <br>Report the cluster centroids(0.5 points)**"
      ]
    },
    {
      "cell_type": "code",
      "metadata": {
        "id": "HquMlx7ZTTud",
        "colab": {
          "base_uri": "https://localhost:8080/",
          "height": 282
        },
        "outputId": "048f1c1c-890d-4a5f-d783-a53c759ab878"
      },
      "source": [
        "##### YOUR K-MEANS CODE STARTS ##### (please do not delete this line)\n",
        "\n",
        "sse={}\n",
        "\n",
        "for k in range(1, 10):\n",
        "    kmeans = KMeans(n_clusters=k, max_iter=1).fit(new_data)\n",
        "    new_data[\"clusters\"] = kmeans.labels_\n",
        "    sse[k] = kmeans.inertia_ \n",
        " \n",
        "plt.figure()\n",
        "plt.plot(list(sse.keys()), list(sse.values()))\n",
        "plt.xlabel(\"Number of cluster\")\n",
        "plt.show()\n",
        "\n",
        "##### YOUR K-MEANS CODE ENDS ##### (please do not delete this line)"
      ],
      "execution_count": null,
      "outputs": [
        {
          "output_type": "display_data",
          "data": {
            "image/png": "[encoded data removed]",
            "text/plain": [
              "<Figure size 432x288 with 1 Axes>"
            ]
          },
          "metadata": {
            "tags": [],
            "needs_background": "light"
          }
        }
      ]
    },
    {
      "cell_type": "markdown",
      "metadata": {
        "id": "YI9ppZdfTTue"
      },
      "source": [
        "**5.2.7 Please apply the K-means algorithm again with `max_iter=10`. \n",
        "<br>Do not forget to visualize the clustering result. <br>Report the cluster centroids(0.05 points)**"
      ]
    },
    {
      "cell_type": "code",
      "metadata": {
        "id": "H1zTmOO6TTue",
        "colab": {
          "base_uri": "https://localhost:8080/",
          "height": 282
        },
        "outputId": "4437e659-215e-4003-bd5b-f76bbcdc1c1a"
      },
      "source": [
        "sse={}\r\n",
        "\r\n",
        "for k in range(1, 10):\r\n",
        "    kmeans = KMeans(n_clusters=k, max_iter=10).fit(new_data)\r\n",
        "    new_data[\"clusters\"] = kmeans.labels_\r\n",
        "    sse[k] = kmeans.inertia_ \r\n",
        " \r\n",
        "plt.figure()\r\n",
        "plt.plot(list(sse.keys()), list(sse.values()))\r\n",
        "plt.xlabel(\"Number of cluster\")\r\n",
        "plt.show()"
      ],
      "execution_count": null,
      "outputs": [
        {
          "output_type": "display_data",
          "data": {
            "image/png": "[encoded data removed]",
            "text/plain": [
              "<Figure size 432x288 with 1 Axes>"
            ]
          },
          "metadata": {
            "tags": [],
            "needs_background": "light"
          }
        }
      ]
    },
    {
      "cell_type": "markdown",
      "metadata": {
        "id": "aI6t6drnTTue"
      },
      "source": [
        "**5.2.8 Is there a difference between the centroids with different max_iter value? Justify your answer. (0.1 points)**"
      ]
    },
    {
      "cell_type": "code",
      "metadata": {
        "id": "sLmTL3vTTTue",
        "colab": {
          "base_uri": "https://localhost:8080/"
        },
        "outputId": "9cd88708-7435-4768-d9ee-3aed760b80eb"
      },
      "source": [
        "print(f\"No, there's no difference in the centroids with different max iteration values because we already reached the optimal solution regrding\\nthe clustering so no matter how many interations we do the centriods will remain the same\")"
      ],
      "execution_count": null,
      "outputs": [
        {
          "output_type": "stream",
          "text": [
            "No, there's no difference in the centroids with different max iteration values because we already reached the optimal solution regrding\n",
            "the clustering so no matter how many interations we do the centriods will remain the same\n"
          ],
          "name": "stdout"
        }
      ]
    },
    {
      "cell_type": "markdown",
      "metadata": {
        "id": "Sob_gKeDTTue"
      },
      "source": [
        "## 5.3 DBSCAN (1 points)\n",
        "We will apply DBSCAN on the same dataset used for K-means in this section. "
      ]
    },
    {
      "cell_type": "markdown",
      "metadata": {
        "id": "k0letld6TTue"
      },
      "source": [
        "**5.3.1 Apply DBSCAN on the same dataset you used to train K-means. Play with the parameter, especially `eps`, and get the best clustering result based on the visualitation which means you have to train and visualize multiple times with a range of values of `eps`. You do not have to check an infinite list of values, pick 4 values and check the visualization after clustering with them. Report the one you find to be the best. (0.5 points)**"
      ]
    },
    {
      "cell_type": "code",
      "metadata": {
        "id": "4cabuegXTTuf",
        "colab": {
          "base_uri": "https://localhost:8080/",
          "height": 416
        },
        "outputId": "3dd1ed10-0a6d-400b-cf02-156a371d0cc6"
      },
      "source": [
        "from sklearn.cluster import DBSCAN\r\n",
        "new_data['predicted'] = DBSCAN(eps=4.5, min_samples=2).fit(new_data[['annual','spending']]).labels_\r\n",
        "new_data\r\n",
        "\r\n"
      ],
      "execution_count": null,
      "outputs": [
        {
          "output_type": "execute_result",
          "data": {
            "text/html": [
              "<div>\n",
              "<style scoped>\n",
              "    .dataframe tbody tr th:only-of-type {\n",
              "        vertical-align: middle;\n",
              "    }\n",
              "\n",
              "    .dataframe tbody tr th {\n",
              "        vertical-align: top;\n",
              "    }\n",
              "\n",
              "    .dataframe thead th {\n",
              "        text-align: right;\n",
              "    }\n",
              "</style>\n",
              "<table border=\"1\" class=\"dataframe\">\n",
              "  <thead>\n",
              "    <tr style=\"text-align: right;\">\n",
              "      <th></th>\n",
              "      <th>annual</th>\n",
              "      <th>spending</th>\n",
              "      <th>clusters</th>\n",
              "      <th>predicted</th>\n",
              "    </tr>\n",
              "  </thead>\n",
              "  <tbody>\n",
              "    <tr>\n",
              "      <th>0</th>\n",
              "      <td>15</td>\n",
              "      <td>39</td>\n",
              "      <td>3</td>\n",
              "      <td>0</td>\n",
              "    </tr>\n",
              "    <tr>\n",
              "      <th>1</th>\n",
              "      <td>15</td>\n",
              "      <td>81</td>\n",
              "      <td>4</td>\n",
              "      <td>1</td>\n",
              "    </tr>\n",
              "    <tr>\n",
              "      <th>2</th>\n",
              "      <td>16</td>\n",
              "      <td>6</td>\n",
              "      <td>7</td>\n",
              "      <td>2</td>\n",
              "    </tr>\n",
              "    <tr>\n",
              "      <th>3</th>\n",
              "      <td>16</td>\n",
              "      <td>77</td>\n",
              "      <td>4</td>\n",
              "      <td>1</td>\n",
              "    </tr>\n",
              "    <tr>\n",
              "      <th>4</th>\n",
              "      <td>17</td>\n",
              "      <td>40</td>\n",
              "      <td>3</td>\n",
              "      <td>0</td>\n",
              "    </tr>\n",
              "    <tr>\n",
              "      <th>...</th>\n",
              "      <td>...</td>\n",
              "      <td>...</td>\n",
              "      <td>...</td>\n",
              "      <td>...</td>\n",
              "    </tr>\n",
              "    <tr>\n",
              "      <th>195</th>\n",
              "      <td>120</td>\n",
              "      <td>79</td>\n",
              "      <td>6</td>\n",
              "      <td>-1</td>\n",
              "    </tr>\n",
              "    <tr>\n",
              "      <th>196</th>\n",
              "      <td>126</td>\n",
              "      <td>28</td>\n",
              "      <td>0</td>\n",
              "      <td>-1</td>\n",
              "    </tr>\n",
              "    <tr>\n",
              "      <th>197</th>\n",
              "      <td>126</td>\n",
              "      <td>74</td>\n",
              "      <td>6</td>\n",
              "      <td>-1</td>\n",
              "    </tr>\n",
              "    <tr>\n",
              "      <th>198</th>\n",
              "      <td>137</td>\n",
              "      <td>18</td>\n",
              "      <td>0</td>\n",
              "      <td>-1</td>\n",
              "    </tr>\n",
              "    <tr>\n",
              "      <th>199</th>\n",
              "      <td>137</td>\n",
              "      <td>83</td>\n",
              "      <td>6</td>\n",
              "      <td>-1</td>\n",
              "    </tr>\n",
              "  </tbody>\n",
              "</table>\n",
              "<p>200 rows × 4 columns</p>\n",
              "</div>"
            ],
            "text/plain": [
              "     annual  spending  clusters  predicted\n",
              "0        15        39         3          0\n",
              "1        15        81         4          1\n",
              "2        16         6         7          2\n",
              "3        16        77         4          1\n",
              "4        17        40         3          0\n",
              "..      ...       ...       ...        ...\n",
              "195     120        79         6         -1\n",
              "196     126        28         0         -1\n",
              "197     126        74         6         -1\n",
              "198     137        18         0         -1\n",
              "199     137        83         6         -1\n",
              "\n",
              "[200 rows x 4 columns]"
            ]
          },
          "metadata": {
            "tags": []
          },
          "execution_count": 227
        }
      ]
    },
    {
      "cell_type": "markdown",
      "metadata": {
        "id": "mL0rzReVTTuf"
      },
      "source": [
        "**5.3.2 Is the result better than K-means? Justify your answer. Make sure you clearly address the reason why it performed better or worse than K-means. Please answer the advantage and disadvantage of both DBSCAN and K-means. (0.5 points)**"
      ]
    },
    {
      "cell_type": "code",
      "metadata": {
        "id": "T9wFaG8UTTuf",
        "colab": {
          "base_uri": "https://localhost:8080/"
        },
        "outputId": "f40bd178-f9ba-475a-b390-de8f6c8a3ba8"
      },
      "source": [
        "print(f\"Yes, I think it's better than k-means because we don't need to specify the number of clusters as we do in k-means and that's a huge importance. In this particular case it gave bad results because of the dimentions that I have in this dataset however i work with it with bigger datasets and it works okay.\")"
      ],
      "execution_count": null,
      "outputs": [
        {
          "output_type": "stream",
          "text": [
            "Yes, I think it's better than k-means because we don't need to specify the number of clusters as we do in k-means and that's a huge importance. In this particular case it gave bad results because of the dimentions that I have in this dataset however i work with it with bigger datasets and it works okay.\n"
          ],
          "name": "stdout"
        }
      ]
    },
    {
      "cell_type": "markdown",
      "metadata": {
        "id": "ECRpjPqCTTug"
      },
      "source": [
        "## 5.4 Hierarchical clustering (1 points)\n",
        "We will apply Hierarchical clustering in this section on the same dataset of K-means. The reason we are repeating the task with different clustering algorithm is to ensure that you understand the nuances of different clustering algorithms and know when to use what."
      ]
    },
    {
      "cell_type": "markdown",
      "metadata": {
        "id": "wWkgF_piTTuh"
      },
      "source": [
        "**5.4.1 Like K-means, we have to know the number of clusters required for performing hierarchical clustering. One such way is through plotting dendograms. Please plot a dendogram on the same dataset you used for k-means and DBSCAN. (0.25 points)**"
      ]
    },
    {
      "cell_type": "code",
      "metadata": {
        "id": "lUyCqPHgTTuh",
        "colab": {
          "base_uri": "https://localhost:8080/",
          "height": 380
        },
        "outputId": "5982e956-862f-4b12-bd71-fa40e9d64cbe"
      },
      "source": [
        "# Import the linkage & fcluster libraries & dendrogram for plotting:\n",
        "from scipy.cluster.hierarchy import linkage, fcluster\n",
        "from scipy.cluster.hierarchy import dendrogram\n",
        "import seaborn as sns\n",
        "\n",
        "# Use the linkage function to compute the distance\n",
        "distance_matrix = linkage(df[['Annual Income (k$)', 'Spending Score (1-100)']],method = 'ward', metric = 'euclidean')\n",
        "\n",
        "# Generate cluster labels for each data point with 2 clusters\n",
        "df['cluster_labels'] = fcluster(distance_matrix, 2, criterion='maxclust')\n",
        "\n",
        "# Display a dendrogram\n",
        "dn = dendrogram(distance_matrix)\n",
        "plt.axhline(linestyle='--', y=200) \n",
        "plt.xticks(rotation=90)\n",
        "plt.grid(True)\n",
        "plt.show()"
      ],
      "execution_count": null,
      "outputs": [
        {
          "output_type": "error",
          "ename": "KeyError",
          "evalue": "ignored",
          "traceback": [
            "\u001b[0;31m---------------------------------------------------------------------------\u001b[0m",
            "\u001b[0;31mKeyError\u001b[0m                                  Traceback (most recent call last)",
            "\u001b[0;32m<ipython-input-7-0b4fdef743b1>\u001b[0m in \u001b[0;36m<module>\u001b[0;34m()\u001b[0m\n\u001b[1;32m      5\u001b[0m \u001b[0;34m\u001b[0m\u001b[0m\n\u001b[1;32m      6\u001b[0m \u001b[0;31m# Use the linkage function to compute the distance\u001b[0m\u001b[0;34m\u001b[0m\u001b[0;34m\u001b[0m\u001b[0;34m\u001b[0m\u001b[0m\n\u001b[0;32m----> 7\u001b[0;31m \u001b[0mdistance_matrix\u001b[0m \u001b[0;34m=\u001b[0m \u001b[0mlinkage\u001b[0m\u001b[0;34m(\u001b[0m\u001b[0mdf\u001b[0m\u001b[0;34m[\u001b[0m\u001b[0;34m[\u001b[0m\u001b[0;34m'Annual Income (k$)'\u001b[0m\u001b[0;34m,\u001b[0m \u001b[0;34m'Spending Score (1-100)'\u001b[0m\u001b[0;34m]\u001b[0m\u001b[0;34m]\u001b[0m\u001b[0;34m,\u001b[0m\u001b[0mmethod\u001b[0m \u001b[0;34m=\u001b[0m \u001b[0;34m'ward'\u001b[0m\u001b[0;34m,\u001b[0m \u001b[0mmetric\u001b[0m \u001b[0;34m=\u001b[0m \u001b[0;34m'euclidean'\u001b[0m\u001b[0;34m)\u001b[0m\u001b[0;34m\u001b[0m\u001b[0;34m\u001b[0m\u001b[0m\n\u001b[0m\u001b[1;32m      8\u001b[0m \u001b[0;34m\u001b[0m\u001b[0m\n\u001b[1;32m      9\u001b[0m \u001b[0;31m# Generate cluster labels for each data point with 2 clusters\u001b[0m\u001b[0;34m\u001b[0m\u001b[0;34m\u001b[0m\u001b[0;34m\u001b[0m\u001b[0m\n",
            "\u001b[0;32m/usr/local/lib/python3.7/dist-packages/pandas/core/frame.py\u001b[0m in \u001b[0;36m__getitem__\u001b[0;34m(self, key)\u001b[0m\n\u001b[1;32m   2910\u001b[0m             \u001b[0;32mif\u001b[0m \u001b[0mis_iterator\u001b[0m\u001b[0;34m(\u001b[0m\u001b[0mkey\u001b[0m\u001b[0;34m)\u001b[0m\u001b[0;34m:\u001b[0m\u001b[0;34m\u001b[0m\u001b[0;34m\u001b[0m\u001b[0m\n\u001b[1;32m   2911\u001b[0m                 \u001b[0mkey\u001b[0m \u001b[0;34m=\u001b[0m \u001b[0mlist\u001b[0m\u001b[0;34m(\u001b[0m\u001b[0mkey\u001b[0m\u001b[0;34m)\u001b[0m\u001b[0;34m\u001b[0m\u001b[0;34m\u001b[0m\u001b[0m\n\u001b[0;32m-> 2912\u001b[0;31m             \u001b[0mindexer\u001b[0m \u001b[0;34m=\u001b[0m \u001b[0mself\u001b[0m\u001b[0;34m.\u001b[0m\u001b[0mloc\u001b[0m\u001b[0;34m.\u001b[0m\u001b[0m_get_listlike_indexer\u001b[0m\u001b[0;34m(\u001b[0m\u001b[0mkey\u001b[0m\u001b[0;34m,\u001b[0m \u001b[0maxis\u001b[0m\u001b[0;34m=\u001b[0m\u001b[0;36m1\u001b[0m\u001b[0;34m,\u001b[0m \u001b[0mraise_missing\u001b[0m\u001b[0;34m=\u001b[0m\u001b[0;32mTrue\u001b[0m\u001b[0;34m)\u001b[0m\u001b[0;34m[\u001b[0m\u001b[0;36m1\u001b[0m\u001b[0;34m]\u001b[0m\u001b[0;34m\u001b[0m\u001b[0;34m\u001b[0m\u001b[0m\n\u001b[0m\u001b[1;32m   2913\u001b[0m \u001b[0;34m\u001b[0m\u001b[0m\n\u001b[1;32m   2914\u001b[0m         \u001b[0;31m# take() does not accept boolean indexers\u001b[0m\u001b[0;34m\u001b[0m\u001b[0;34m\u001b[0m\u001b[0;34m\u001b[0m\u001b[0m\n",
            "\u001b[0;32m/usr/local/lib/python3.7/dist-packages/pandas/core/indexing.py\u001b[0m in \u001b[0;36m_get_listlike_indexer\u001b[0;34m(self, key, axis, raise_missing)\u001b[0m\n\u001b[1;32m   1252\u001b[0m             \u001b[0mkeyarr\u001b[0m\u001b[0;34m,\u001b[0m \u001b[0mindexer\u001b[0m\u001b[0;34m,\u001b[0m \u001b[0mnew_indexer\u001b[0m \u001b[0;34m=\u001b[0m \u001b[0max\u001b[0m\u001b[0;34m.\u001b[0m\u001b[0m_reindex_non_unique\u001b[0m\u001b[0;34m(\u001b[0m\u001b[0mkeyarr\u001b[0m\u001b[0;34m)\u001b[0m\u001b[0;34m\u001b[0m\u001b[0;34m\u001b[0m\u001b[0m\n\u001b[1;32m   1253\u001b[0m \u001b[0;34m\u001b[0m\u001b[0m\n\u001b[0;32m-> 1254\u001b[0;31m         \u001b[0mself\u001b[0m\u001b[0;34m.\u001b[0m\u001b[0m_validate_read_indexer\u001b[0m\u001b[0;34m(\u001b[0m\u001b[0mkeyarr\u001b[0m\u001b[0;34m,\u001b[0m \u001b[0mindexer\u001b[0m\u001b[0;34m,\u001b[0m \u001b[0maxis\u001b[0m\u001b[0;34m,\u001b[0m \u001b[0mraise_missing\u001b[0m\u001b[0;34m=\u001b[0m\u001b[0mraise_missing\u001b[0m\u001b[0;34m)\u001b[0m\u001b[0;34m\u001b[0m\u001b[0;34m\u001b[0m\u001b[0m\n\u001b[0m\u001b[1;32m   1255\u001b[0m         \u001b[0;32mreturn\u001b[0m \u001b[0mkeyarr\u001b[0m\u001b[0;34m,\u001b[0m \u001b[0mindexer\u001b[0m\u001b[0;34m\u001b[0m\u001b[0;34m\u001b[0m\u001b[0m\n\u001b[1;32m   1256\u001b[0m \u001b[0;34m\u001b[0m\u001b[0m\n",
            "\u001b[0;32m/usr/local/lib/python3.7/dist-packages/pandas/core/indexing.py\u001b[0m in \u001b[0;36m_validate_read_indexer\u001b[0;34m(self, key, indexer, axis, raise_missing)\u001b[0m\n\u001b[1;32m   1296\u001b[0m             \u001b[0;32mif\u001b[0m \u001b[0mmissing\u001b[0m \u001b[0;34m==\u001b[0m \u001b[0mlen\u001b[0m\u001b[0;34m(\u001b[0m\u001b[0mindexer\u001b[0m\u001b[0;34m)\u001b[0m\u001b[0;34m:\u001b[0m\u001b[0;34m\u001b[0m\u001b[0;34m\u001b[0m\u001b[0m\n\u001b[1;32m   1297\u001b[0m                 \u001b[0maxis_name\u001b[0m \u001b[0;34m=\u001b[0m \u001b[0mself\u001b[0m\u001b[0;34m.\u001b[0m\u001b[0mobj\u001b[0m\u001b[0;34m.\u001b[0m\u001b[0m_get_axis_name\u001b[0m\u001b[0;34m(\u001b[0m\u001b[0maxis\u001b[0m\u001b[0;34m)\u001b[0m\u001b[0;34m\u001b[0m\u001b[0;34m\u001b[0m\u001b[0m\n\u001b[0;32m-> 1298\u001b[0;31m                 \u001b[0;32mraise\u001b[0m \u001b[0mKeyError\u001b[0m\u001b[0;34m(\u001b[0m\u001b[0;34mf\"None of [{key}] are in the [{axis_name}]\"\u001b[0m\u001b[0;34m)\u001b[0m\u001b[0;34m\u001b[0m\u001b[0;34m\u001b[0m\u001b[0m\n\u001b[0m\u001b[1;32m   1299\u001b[0m \u001b[0;34m\u001b[0m\u001b[0m\n\u001b[1;32m   1300\u001b[0m             \u001b[0;31m# We (temporarily) allow for some missing keys with .loc, except in\u001b[0m\u001b[0;34m\u001b[0m\u001b[0;34m\u001b[0m\u001b[0;34m\u001b[0m\u001b[0m\n",
            "\u001b[0;31mKeyError\u001b[0m: \"None of [Index(['Annual Income (k$)', 'Spending Score (1-100)'], dtype='object')] are in the [columns]\""
          ]
        }
      ]
    },
    {
      "cell_type": "markdown",
      "metadata": {
        "id": "kY8IClpxTTui"
      },
      "source": [
        "**5.4.2 Explain how you got the optimum number of clusters in the answer section. (0.1 points)**"
      ]
    },
    {
      "cell_type": "markdown",
      "metadata": {
        "id": "4s5YD5l8TTui"
      },
      "source": [
        "<font color='red'>**Answer:** **I have created a horizontal line, to make the counting of clusters much easier. Every stage/ level has a specific count of cluster. As you can see at the stahe of (200), we have 5 clusters. If we increase the value of (y) to make it equals 300 as an example. Then at this new stage we have only 3 clusters.**"
      ]
    },
    {
      "cell_type": "markdown",
      "metadata": {
        "id": "TJeza6YkTTui"
      },
      "source": [
        "**5.4.3 Apply hierarchical clustering on the dataset using the optimum number of clusters you got from previous task and visualize the result. (0.4 points)**"
      ]
    },
    {
      "cell_type": "code",
      "metadata": {
        "id": "L-epxtOqTTui"
      },
      "source": [
        "# Import the whiten library\n",
        "from scipy.cluster.vq import whiten\n",
        "\n",
        "# Normalize the data before clustering, and by meaning by that is new annual income = annual income/standard deviation(annual income)\n",
        "df['new_annual_income'] = whiten(df['Annual Income (k$)'])\n",
        "df['new_spending_score'] = whiten(df['Spending Score (1-100)'])\n",
        "\n",
        "# Use the linkage function to compute the distance\n",
        "distance_matrix = linkage(df[['new_annual_income', 'new_spending_score']],method = 'ward', metric = 'euclidean')\n",
        "\n",
        "# Assign cluster labels\n",
        "df['cluster_labels'] = fcluster(distance_matrix, 5, 'maxclust')\n",
        "\n",
        "# Plot clusters\n",
        "sns.scatterplot(x='new_annual_income', y='new_spending_score', hue='cluster_labels', data = df)\n",
        "plt.grid()\n",
        "plt.show()"
      ],
      "execution_count": null,
      "outputs": []
    },
    {
      "cell_type": "markdown",
      "metadata": {
        "id": "lPZMickBTTui"
      },
      "source": [
        "**5.4.4 Based on all three clustering, take the best result and explain. \n",
        "In the explanation address how you would describe the customer behavior, are they miser or spendthrift or something else? (0.25 points)**"
      ]
    },
    {
      "cell_type": "markdown",
      "metadata": {
        "id": "qWrh6B2A13sq"
      },
      "source": [
        "<font color='red'>**Answer:**</font>\n",
        "\n",
        "**No matter what concepts we have use the centroids points are the same. Another point which is: Based on the data that I can see that people older thab 45 their spending score is pretty low compared to the people in the range 35 years to 50 years.\n",
        "Advertising that dedicatde to this range of people will help the company to make more profits**"
      ]
    },
    {
      "cell_type": "markdown",
      "metadata": {
        "id": "apsnb8pugyGJ"
      },
      "source": [
        "## How long did it take you to solve the homework?\n",
        "\n",
        "* Please answer as precisely as you can. It does not affect your points or grade. It is okay, if it took 0.5 hours or 24 hours or more. The collected information will be used to improve future homeworks.\n",
        "\n",
        "<font color='red'> **Answer:**</font>\n",
        "\n",
        "\n",
        "## How much the homework is difficult?\n",
        "you can put only number between $0:10$ ($0:$ easy, $10:$ difficult)\n",
        "\n",
        "<font color='red'> **Answer:**</font>\n",
        "\n",
        "\n"
      ]
    },
    {
      "cell_type": "code",
      "metadata": {
        "id": "XLqRY_TYTTuj"
      },
      "source": [
        ""
      ],
      "execution_count": null,
      "outputs": []
    }
  ]
}
